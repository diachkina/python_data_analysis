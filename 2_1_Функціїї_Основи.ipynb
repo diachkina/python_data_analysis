{
 "cells": [
  {
   "cell_type": "markdown",
   "metadata": {
    "id": "QtHabST6Ez_n"
   },
   "source": [
    "# Домашнє завдання до теми \"Functions\""
   ]
  },
  {
   "cell_type": "markdown",
   "metadata": {
    "id": "6pg_NzFq5_kO"
   },
   "source": [
    "1. Напишіть фукнцію `print_message`, яка виводить на екран \"Я програмую на Python💪\" і викличіть цю фукнцію 5 разів (найкраще це зробити в циклі).\n",
    "\n",
    "  **Увага**: фукнція має робити чітко лише зазначений функціонал. Наявність додаткового функціоналу і аргументів, які не потрібні для виконання безпосередньо завдання, буде вважатись помилкою."
   ]
  },
  {
   "cell_type": "code",
   "execution_count": 4,
   "metadata": {
    "execution": {
     "iopub.execute_input": "2024-07-22T21:08:11.123629Z",
     "iopub.status.busy": "2024-07-22T21:08:11.123116Z",
     "iopub.status.idle": "2024-07-22T21:08:11.130325Z",
     "shell.execute_reply": "2024-07-22T21:08:11.128697Z",
     "shell.execute_reply.started": "2024-07-22T21:08:11.123591Z"
    },
    "id": "RbXsfwI_D8ql"
   },
   "outputs": [
    {
     "name": "stdout",
     "output_type": "stream",
     "text": [
      "Я програмую на Python\n",
      "Я програмую на Python\n",
      "Я програмую на Python\n",
      "Я програмую на Python\n",
      "Я програмую на Python\n"
     ]
    }
   ],
   "source": [
    "def print_message():\n",
    "    return \"Я програмую на Python\"\n",
    "\n",
    "for _ in range(5):\n",
    "    print(print_message())"
   ]
  },
  {
   "cell_type": "markdown",
   "metadata": {
    "id": "oyRpWRXWBL9N"
   },
   "source": [
    "2. Напишіть функцію `calculation` яка приймає на вхід 4 аргументи типу int - `a`, `b`, `c`, `d` і вертає результат обчислення такої формули: $ (a + b - c) * d $.\n",
    "\n",
    "  Викличте функцію на наступному наборі аргументів і виведіть результат на екран:\n",
    "  ```\n",
    "  a = 16\n",
    "  b = 4\n",
    "  c = 9\n",
    "  d = 3\n",
    "  ```"
   ]
  },
  {
   "cell_type": "code",
   "execution_count": 5,
   "metadata": {
    "execution": {
     "iopub.execute_input": "2024-07-22T21:08:25.285813Z",
     "iopub.status.busy": "2024-07-22T21:08:25.285269Z",
     "iopub.status.idle": "2024-07-22T21:08:25.294696Z",
     "shell.execute_reply": "2024-07-22T21:08:25.293213Z",
     "shell.execute_reply.started": "2024-07-22T21:08:25.285772Z"
    },
    "id": "Ggt2tx6kD-LS"
   },
   "outputs": [
    {
     "data": {
      "text/plain": [
       "33"
      ]
     },
     "execution_count": 5,
     "metadata": {},
     "output_type": "execute_result"
    }
   ],
   "source": [
    "def calculation(a, b, c, d):\n",
    "    return (a + b - c) * d\n",
    "\n",
    "calculation(16, 4, 9, 3)"
   ]
  },
  {
   "cell_type": "markdown",
   "metadata": {
    "id": "5hf1CbllDU_t"
   },
   "source": [
    "3. Напишіть функцію, яка додає до аргумента 15 і вертає результат додавання. Викличте функцію, передаючи в якості аргументів кожну з наступних змінних по черзі, і виведіть кожного разу результат на екран.\n",
    "```\n",
    "x = 9\n",
    "y = 14\n",
    "z = -19\n",
    "```"
   ]
  },
  {
   "cell_type": "code",
   "execution_count": 6,
   "metadata": {
    "execution": {
     "iopub.execute_input": "2024-07-24T13:51:40.517209Z",
     "iopub.status.busy": "2024-07-24T13:51:40.516554Z",
     "iopub.status.idle": "2024-07-24T13:51:40.524229Z",
     "shell.execute_reply": "2024-07-24T13:51:40.522628Z",
     "shell.execute_reply.started": "2024-07-24T13:51:40.517179Z"
    },
    "id": "GvEs_nUtD_Cd"
   },
   "outputs": [
    {
     "name": "stdout",
     "output_type": "stream",
     "text": [
      "24\n",
      "29\n",
      "-4\n"
     ]
    }
   ],
   "source": [
    "def func(param):\n",
    "    return param + 15\n",
    "\n",
    "x = 9\n",
    "y = 14\n",
    "z = -19\n",
    "some_list = [x, y, z]\n",
    "\n",
    "for num in some_list:\n",
    "    print(func(num))"
   ]
  },
  {
   "cell_type": "markdown",
   "metadata": {
    "id": "bUuVBhie53uK"
   },
   "source": [
    "4. Напишіть функцію `multipy_numbers`, яка приймає два числа як аргументи і повертає їх добуток.\n",
    "\n",
    "  Викличіть функцію `multipy_numbers` на парах чисел\n",
    "    - 10 і 2\n",
    "    - 7 і 8\n",
    "    - 1024 і 999.\n",
    "  \n",
    "  Виведіть результат кожного виклику.\n",
    "  При виконанні цього завдання з використанням циклу - отримаєте 2х балів за нього :)"
   ]
  },
  {
   "cell_type": "code",
   "execution_count": 7,
   "metadata": {
    "execution": {
     "iopub.execute_input": "2024-07-24T13:52:20.344449Z",
     "iopub.status.busy": "2024-07-24T13:52:20.343365Z",
     "iopub.status.idle": "2024-07-24T13:52:20.357661Z",
     "shell.execute_reply": "2024-07-24T13:52:20.356543Z",
     "shell.execute_reply.started": "2024-07-24T13:52:20.344402Z"
    },
    "id": "cDqrgZ4YEAKj"
   },
   "outputs": [
    {
     "name": "stdout",
     "output_type": "stream",
     "text": [
      "20\n",
      "56\n",
      "1022976\n"
     ]
    }
   ],
   "source": [
    "def multipy_numbers(num1, num2):\n",
    "    return num1 * num2\n",
    "\n",
    "num_list = [(10, 2), (7, 8), (1024, 999)]\n",
    "\n",
    "for n1, n2 in num_list:\n",
    "    print(multipy_numbers(n1, n2))"
   ]
  },
  {
   "cell_type": "markdown",
   "metadata": {
    "id": "I03t46k27dDZ"
   },
   "source": [
    "5. **Ділення з перевіркою типів.**  \n",
    "\n",
    "  1. Напишіть функцію `int_division` яка приймає на вхід два аргументи типу `int` - `a` і `b`, і виконує ділення першого аргумента на другий: `a/b`. При цьому функція перед діленням перевіряє, чи другий аргумент не дорівнює 0. Якщо другий аргумент не 0, фукнція вертає результат ділення, інакше - замість виконання ділення, вертає повідомлення на екран \"Не можу виконати ділення на 0\".\n",
    "\n",
    "    Якщо типи, надані у функцію, не `int` - функція виводить повідомлення \"Не працюю з такими типами даних.\".\n",
    "\n",
    "  2. Запустіть функцію на наступних парах чисел:\n",
    "  - 12 і 6\n",
    "  - 20 і 0\n",
    "  - 112 і 10\n",
    "  - 99 і 0\n",
    "  - 11 i 1.1\n",
    "\n",
    "    і виведіть на екран повідомлення \"Результат роботи функції: \" - і далі те, що повернула функція.\n",
    "\n",
    "  3. Дайте відповідь на питання: \"Чому в деяких випадках функція повернула None?\""
   ]
  },
  {
   "cell_type": "code",
   "execution_count": 7,
   "metadata": {
    "execution": {
     "iopub.execute_input": "2024-07-22T21:08:42.557347Z",
     "iopub.status.busy": "2024-07-22T21:08:42.556513Z",
     "iopub.status.idle": "2024-07-22T21:08:42.565524Z",
     "shell.execute_reply": "2024-07-22T21:08:42.564560Z",
     "shell.execute_reply.started": "2024-07-22T21:08:42.557314Z"
    },
    "id": "1-EQhxrAEEAb"
   },
   "outputs": [
    {
     "name": "stdout",
     "output_type": "stream",
     "text": [
      "Результат роботи функції: 2.0\n",
      "Результат роботи функції: Не можу виконати ділення на 0\n",
      "Результат роботи функції: 11.2\n",
      "Результат роботи функції: Не можу виконати ділення на 0\n",
      "Результат роботи функції: Не працюю з такими типами даних.\n"
     ]
    }
   ],
   "source": [
    "def int_division(a: int, b: int):\n",
    "    if not isinstance(a, int) or not isinstance(b, int):\n",
    "        return \"Не працюю з такими типами даних.\"\n",
    "    \n",
    "    if b == 0:\n",
    "        return \"Не можу виконати ділення на 0\"\n",
    "    \n",
    "    return a / b\n",
    "\n",
    "values = [(12, 6), (20, 0), (112, 10), (99, 0), (11, 1.1)]\n",
    "\n",
    "for n1, n2 in values:\n",
    "    print(f\"Результат роботи функції: {int_division(n1, n2)}\")"
   ]
  },
  {
   "cell_type": "markdown",
   "metadata": {},
   "source": [
    "Третє питання наштовхує мене на думку, що мій розвʼязок не зовсім підходящий, адже він не повертає None. \n",
    "Я в кожній умові використала return блаблабла, тому і немає None."
   ]
  },
  {
   "cell_type": "code",
   "execution_count": null,
   "metadata": {},
   "outputs": [],
   "source": []
  }
 ],
 "metadata": {
  "colab": {
   "provenance": []
  },
  "kernelspec": {
   "display_name": "Python 3 (ipykernel)",
   "language": "python",
   "name": "python3"
  },
  "language_info": {
   "codemirror_mode": {
    "name": "ipython",
    "version": 3
   },
   "file_extension": ".py",
   "mimetype": "text/x-python",
   "name": "python",
   "nbconvert_exporter": "python",
   "pygments_lexer": "ipython3",
   "version": "3.11.1"
  }
 },
 "nbformat": 4,
 "nbformat_minor": 4
}
