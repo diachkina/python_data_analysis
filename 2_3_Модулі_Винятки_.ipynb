{
 "cells": [
  {
   "cell_type": "markdown",
   "id": "1561554f",
   "metadata": {
    "id": "1561554f"
   },
   "source": [
    "# Домашнє завдання до теми \"Модулі. Винятки (Exceptions)\"\n",
    "\n"
   ]
  },
  {
   "cell_type": "markdown",
   "id": "c094769a",
   "metadata": {
    "ExecuteTime": {
     "end_time": "2022-10-22T04:15:21.939494Z",
     "start_time": "2022-10-22T04:15:21.933981Z"
    },
    "id": "c094769a"
   },
   "source": [
    "Почнемо з закріплення матеріалу щодо фукнцій і віпрацювання роботи з модулем `random`.\n",
    "\n",
    "1. Напишіть функцію `get_random_int_list`, яка приймає один аргумент - кількість чисел `n`, і повертає список, що містить `n` випадкових цілих чисел з діапазону від 0 до 100 включно. Для генерації випадкових чисел використовуйте модуль `random`.\n",
    "\n",
    "  **Вимоги до реалізації:**\n",
    "\n",
    "  - Функція повинна приймати один аргумент `n` - кількість чисел у списку.\n",
    "  - Для генерації випадкових чисел використовуйте функцію `random.randint(0, 100)`.\n",
    "  - Повернутий список має містити рівно `n` випадкових чисел.\n",
    "\n",
    "  **Приклади виклику функції та очікувані результати:**\n",
    "\n",
    "  1. **Приклад 1:**\n",
    "    - Виклик функції: `get_random_int_list(5)`\n",
    "    - Очікуваний результат: Список з 5 випадковими числами, наприклад, `[23, 77, 45, 8, 91]`. Кожен запуск може повертати різні числа через випадковість.\n",
    "\n",
    "  2. **Приклад 2:**\n",
    "    - Виклик функції: `get_random_int_list(3)`\n",
    "    - Очікуваний результат: Список з 3 випадковими числами, наприклад, `[64, 20, 37]`.\n",
    "\n",
    "  3. **Приклад 3:**\n",
    "    - Виклик функції: `get_random_int_list(0)`\n",
    "    - Очікуваний результат: Порожній список `[]`, оскільки було запитано 0 чисел.\n",
    "\n",
    "Продемонструйте результати робити функції запустивши код нижче."
   ]
  },
  {
   "cell_type": "code",
   "execution_count": 22,
   "id": "m5hUhAQaqP78",
   "metadata": {
    "execution": {
     "iopub.execute_input": "2024-07-29T13:38:46.809034Z",
     "iopub.status.busy": "2024-07-29T13:38:46.808553Z",
     "iopub.status.idle": "2024-07-29T13:38:46.815155Z",
     "shell.execute_reply": "2024-07-29T13:38:46.813746Z",
     "shell.execute_reply.started": "2024-07-29T13:38:46.808994Z"
    },
    "id": "m5hUhAQaqP78"
   },
   "outputs": [],
   "source": [
    "def get_random_int_list(n):\n",
    "    return [random.randint(0, 100) for _ in range(n)]"
   ]
  },
  {
   "cell_type": "code",
   "execution_count": 28,
   "id": "XV-QkjcbqZNv",
   "metadata": {
    "execution": {
     "iopub.execute_input": "2024-07-29T13:41:17.301137Z",
     "iopub.status.busy": "2024-07-29T13:41:17.300150Z",
     "iopub.status.idle": "2024-07-29T13:41:17.307700Z",
     "shell.execute_reply": "2024-07-29T13:41:17.306461Z",
     "shell.execute_reply.started": "2024-07-29T13:41:17.301085Z"
    },
    "id": "XV-QkjcbqZNv"
   },
   "outputs": [
    {
     "name": "stdout",
     "output_type": "stream",
     "text": [
      "[94, 45, 22, 32, 50]\n",
      "[57, 78, 74]\n",
      "[]\n",
      "[14, 87, 86, 11, 8, 54, 49, 21]\n"
     ]
    }
   ],
   "source": [
    "for number in [5, 3, 0, 8]:\n",
    "  print(get_random_int_list(number))"
   ]
  },
  {
   "cell_type": "raw",
   "id": "2ee20876-2082-4842-8bd1-b63c4b37c72b",
   "metadata": {
    "id": "iBHEcmV7R34X"
   },
   "source": [
    "2. **Конвертер рядка в число**\n",
    "\n",
    "  **Опис завдання:**\n",
    "\n",
    "  Створіть функцію `string_to_int`, яка приймає рядок і намагається перетворити його в ціле число. Якщо рядок не можна перетворити на ціле число, функція повинна повертати `None` і генерувати виключення `\"Некоректне введення\"`.\n",
    "\n",
    "  **Приклади виклику функції:**\n",
    "\n",
    "  - `string_to_int(\"123\")` повинно повернути `123`.\n",
    "  - `string_to_int(\"abc\")` повинно повернути `None` і вивести виключення `\"Некоректне введення\"`."
   ]
  },
  {
   "cell_type": "code",
   "execution_count": 39,
   "id": "5UT2YNrISdLR",
   "metadata": {
    "execution": {
     "iopub.execute_input": "2024-07-29T14:00:07.107245Z",
     "iopub.status.busy": "2024-07-29T14:00:07.106916Z",
     "iopub.status.idle": "2024-07-29T14:00:07.111560Z",
     "shell.execute_reply": "2024-07-29T14:00:07.110494Z",
     "shell.execute_reply.started": "2024-07-29T14:00:07.107222Z"
    },
    "id": "5UT2YNrISdLR"
   },
   "outputs": [],
   "source": [
    "def string_to_int(string):\n",
    "    try:\n",
    "        return int(string)\n",
    "    except:\n",
    "        print(f\"{string} - incorrect input\")\n",
    "\n",
    "# f\"{string} - incorrect input\" - написала так, бо при виводі без {string} не зрозуміло який саме інпут невірний\n",
    "# а якщо return None and \"incorrect input\", то в результуючий словник все одно піде None і повідомлення \"зникне\" з виводу.\n",
    "# цікаво, яке ж має бути рішення)"
   ]
  },
  {
   "cell_type": "markdown",
   "id": "UbIaPiOHSgE7",
   "metadata": {
    "id": "UbIaPiOHSgE7"
   },
   "source": [
    "Продемонструйте результати робити функції запустивши код нижче."
   ]
  },
  {
   "cell_type": "code",
   "execution_count": 40,
   "id": "AL7sINtwSgcs",
   "metadata": {
    "execution": {
     "iopub.execute_input": "2024-07-29T14:00:08.680422Z",
     "iopub.status.busy": "2024-07-29T14:00:08.680098Z",
     "iopub.status.idle": "2024-07-29T14:00:08.686813Z",
     "shell.execute_reply": "2024-07-29T14:00:08.686123Z",
     "shell.execute_reply.started": "2024-07-29T14:00:08.680397Z"
    },
    "id": "AL7sINtwSgcs"
   },
   "outputs": [
    {
     "name": "stdout",
     "output_type": "stream",
     "text": [
      "abc - incorrect input\n",
      "456.78 - incorrect input\n"
     ]
    },
    {
     "data": {
      "text/plain": [
       "{'123': 123, 'abc': None, '456.78': None, '100': 100}"
      ]
     },
     "execution_count": 40,
     "metadata": {},
     "output_type": "execute_result"
    }
   ],
   "source": [
    "test_inputs = [\"123\", \"abc\", \"456.78\", \"100\"]\n",
    "results = {input_value: string_to_int(input_value) for input_value in test_inputs}\n",
    "results\n"
   ]
  },
  {
   "cell_type": "markdown",
   "id": "KkzLp29pQ1-U",
   "metadata": {
    "id": "KkzLp29pQ1-U"
   },
   "source": [
    "3. **Контроль введення користувача**\n",
    "\n",
    "  Створіть функцію `check_age`, яка приймає на вхід вік користувача у форматі рядок і перевіряє, чи є користувач повнолітнім (18 років і старше). Якщо введене значення не може бути перетворено на ціле число, функція повинна підіймати виняток `\"Некоректне введення. Будь ласка, введіть числове значення.\"` і повертати `False`. Якщо вік користувача менше 18, вивести повідомлення `\"Ви не повнолітній!\"` і також повернути `False`. У випадку, коли вік 18 років або більше, вивести повідомлення `\"Ви повнолітній.\"` і повернути `True`.\n",
    "\n",
    "  **Приклад роботи програми:**\n",
    "\n",
    "  1. Користувач вводить `\"двадцять\"`: програма створює виняток `\"Некоректне введення. Будь ласка, введіть числове значення.\"` і повертає `False`.\n",
    "  2. Користувач вводить `\"17\"`: програма виводить `\"Ви не повнолітній!\"` і повертає `False`.\n",
    "  3. Користувач вводить `\"18\"`: програма виводить `\"Ви повнолітній.\"` і повертає `True`.\n",
    "\n",
    "\n"
   ]
  },
  {
   "cell_type": "code",
   "execution_count": 41,
   "id": "K3PTENm-Ae3-",
   "metadata": {
    "execution": {
     "iopub.execute_input": "2024-07-29T14:08:50.986557Z",
     "iopub.status.busy": "2024-07-29T14:08:50.986214Z",
     "iopub.status.idle": "2024-07-29T14:08:50.991955Z",
     "shell.execute_reply": "2024-07-29T14:08:50.990397Z",
     "shell.execute_reply.started": "2024-07-29T14:08:50.986531Z"
    },
    "id": "K3PTENm-Ae3-"
   },
   "outputs": [],
   "source": [
    "def check_age(age):\n",
    "    try:\n",
    "        age_int = int(age)\n",
    "    except:\n",
    "        print(\"Некоректне введення. Будь ласка, введіть числове значення.\")\n",
    "        return False\n",
    "\n",
    "    if age_int < 18:\n",
    "        print(\"Ви не повнолітній!\")\n",
    "        return False\n",
    "    else:\n",
    "        print(\"Ви повнолітній\")\n",
    "        return True"
   ]
  },
  {
   "cell_type": "markdown",
   "id": "huphMh7YR2GJ",
   "metadata": {
    "id": "huphMh7YR2GJ"
   },
   "source": [
    "Продемонструйте результати робити функції запустивши код нижче."
   ]
  },
  {
   "cell_type": "code",
   "execution_count": 42,
   "id": "YuEQrntVRgSE",
   "metadata": {
    "execution": {
     "iopub.execute_input": "2024-07-29T14:08:54.487718Z",
     "iopub.status.busy": "2024-07-29T14:08:54.487113Z",
     "iopub.status.idle": "2024-07-29T14:08:54.497574Z",
     "shell.execute_reply": "2024-07-29T14:08:54.496476Z",
     "shell.execute_reply.started": "2024-07-29T14:08:54.487679Z"
    },
    "id": "YuEQrntVRgSE"
   },
   "outputs": [
    {
     "name": "stdout",
     "output_type": "stream",
     "text": [
      "Некоректне введення. Будь ласка, введіть числове значення.\n",
      "Ви не повнолітній!\n",
      "Ви повнолітній\n"
     ]
    },
    {
     "data": {
      "text/plain": [
       "[False, False, True]"
      ]
     },
     "execution_count": 42,
     "metadata": {},
     "output_type": "execute_result"
    }
   ],
   "source": [
    "test_inputs = [\"двадцять\", \"17\", \"18\"]\n",
    "results = [check_age(input_value) for input_value in test_inputs]\n",
    "results"
   ]
  },
  {
   "cell_type": "markdown",
   "id": "CQg-zIJGTqjw",
   "metadata": {
    "id": "CQg-zIJGTqjw"
   },
   "source": [
    "4. **Обчислення середнього з перевіркою:** Напишіть функцію `calculate_average`, яка приймає на вхід список чисел і обчислює середнє арифметичне значення цих чисел. Функція повинна перевіряти, що всі елементи списку є числами. Якщо серед елементів списку зустрічається елемент, який не є числом, функція повинна вивести повідомлення `\"Всі елементи повинні бути числами\"` і повернути `None`.\n",
    "\n",
    "**Приклади виклику функції:**\n",
    "\n",
    "- `calculate_average([1, 2, 3, 4, 5])` повинно повернути `3.0`.\n",
    "- `calculate_average([1, \"2\", 3])` повинно повернути `None` і вивести `\"Всі елементи повинні бути числами\"`.\n",
    "- `calculate_average([-1.1, \"ф\", 4])` повинно повернути `None` і вивести `\"Всі елементи повинні бути числами\"`."
   ]
  },
  {
   "cell_type": "code",
   "execution_count": 45,
   "id": "91VU_y5sUAKB",
   "metadata": {
    "execution": {
     "iopub.execute_input": "2024-07-29T14:26:59.482188Z",
     "iopub.status.busy": "2024-07-29T14:26:59.481845Z",
     "iopub.status.idle": "2024-07-29T14:26:59.487105Z",
     "shell.execute_reply": "2024-07-29T14:26:59.485979Z",
     "shell.execute_reply.started": "2024-07-29T14:26:59.482162Z"
    },
    "id": "91VU_y5sUAKB"
   },
   "outputs": [],
   "source": [
    "def calculate_average(num_list):\n",
    "    if all(isinstance(num, int) for num in num_list):\n",
    "        return sum(num_list) / len(num_list)\n",
    "    else:\n",
    "        print(f\"{num_list}: Всі елементи повинні бути числами\")"
   ]
  },
  {
   "cell_type": "markdown",
   "id": "ib-JWKKmUeF8",
   "metadata": {
    "id": "ib-JWKKmUeF8"
   },
   "source": [
    "Продемонструйте результати робити функції запустивши код нижче."
   ]
  },
  {
   "cell_type": "code",
   "execution_count": 46,
   "id": "axEmZx0rUNqT",
   "metadata": {
    "execution": {
     "iopub.execute_input": "2024-07-29T14:27:01.376851Z",
     "iopub.status.busy": "2024-07-29T14:27:01.376376Z",
     "iopub.status.idle": "2024-07-29T14:27:01.386316Z",
     "shell.execute_reply": "2024-07-29T14:27:01.385187Z",
     "shell.execute_reply.started": "2024-07-29T14:27:01.376815Z"
    },
    "id": "axEmZx0rUNqT"
   },
   "outputs": [
    {
     "name": "stdout",
     "output_type": "stream",
     "text": [
      "[1, '2', 3]: Всі елементи повинні бути числами\n",
      "[-1.1, 'ф', 4]: Всі елементи повинні бути числами\n"
     ]
    },
    {
     "data": {
      "text/plain": [
       "[3.0, None, 20.0, None]"
      ]
     },
     "execution_count": 46,
     "metadata": {},
     "output_type": "execute_result"
    }
   ],
   "source": [
    "test_data = [\n",
    "    [1, 2, 3, 4, 5],  # Коректні дані\n",
    "    [1, \"2\", 3],      # Некоректні дані\n",
    "    [10, 20, 30],     # Коректні дані\n",
    "    [-1.1, \"ф\", 4]    # Некоректні дані\n",
    "]\n",
    "\n",
    "results = [calculate_average(data) for data in test_data]\n",
    "results"
   ]
  },
  {
   "cell_type": "code",
   "execution_count": null,
   "id": "c863fa11-d5db-4e48-932a-6960fd027b65",
   "metadata": {},
   "outputs": [],
   "source": []
  }
 ],
 "metadata": {
  "colab": {
   "provenance": []
  },
  "kernelspec": {
   "display_name": "Python 3 (ipykernel)",
   "language": "python",
   "name": "python3"
  },
  "language_info": {
   "codemirror_mode": {
    "name": "ipython",
    "version": 3
   },
   "file_extension": ".py",
   "mimetype": "text/x-python",
   "name": "python",
   "nbconvert_exporter": "python",
   "pygments_lexer": "ipython3",
   "version": "3.11.1"
  },
  "toc": {
   "base_numbering": 1,
   "nav_menu": {},
   "number_sections": true,
   "sideBar": true,
   "skip_h1_title": false,
   "title_cell": "Table of Contents",
   "title_sidebar": "Contents",
   "toc_cell": false,
   "toc_position": {},
   "toc_section_display": true,
   "toc_window_display": false
  }
 },
 "nbformat": 4,
 "nbformat_minor": 5
}
