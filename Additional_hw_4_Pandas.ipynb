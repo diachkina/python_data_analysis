{
 "cells": [
  {
   "cell_type": "markdown",
   "id": "f27af02b",
   "metadata": {
    "id": "f27af02b"
   },
   "source": [
    "# Додаткове завдання з pandas\n",
    "Вітаю! В цьому завданні будемо працювати з даними з опитування щодо зарплат ІТ спеціалістів на рексурсі DOU від грудня 2022 року. Впевнена, це буде цікаве дослідження, а заразом і практика pandas :)\n",
    "Цей аналіз може бути корисним людині, яка обирає напрям роботи в ІТ і хоче зрозуміти тенденції. За якісного виконання цього аналізу, цей проєкт можна сміливо додавати у Ваше портфоліо!"
   ]
  },
  {
   "cell_type": "markdown",
   "id": "dce4f0a0",
   "metadata": {
    "id": "dce4f0a0"
   },
   "source": [
    "1. Зчитайте дані з файлу `2022_dec_raw.csv`. Увага! Тут необхідно використати аргумент `pd.read_csv` `sep=';'`, бо розділювач в даних - крапка з комою."
   ]
  },
  {
   "cell_type": "code",
   "execution_count": 58,
   "id": "a238c418",
   "metadata": {
    "execution": {
     "iopub.execute_input": "2024-11-13T15:00:42.272571Z",
     "iopub.status.busy": "2024-11-13T15:00:42.272051Z",
     "iopub.status.idle": "2024-11-13T15:00:42.278545Z",
     "shell.execute_reply": "2024-11-13T15:00:42.277349Z",
     "shell.execute_reply.started": "2024-11-13T15:00:42.272531Z"
    },
    "id": "a238c418"
   },
   "outputs": [],
   "source": [
    "import numpy as np\n",
    "import pandas as pd\n",
    "import seaborn as sns\n",
    "import matplotlib.pyplot as plt\n",
    "from datetime import datetime"
   ]
  },
  {
   "cell_type": "code",
   "execution_count": 2,
   "id": "f0fe1af1-16ea-4ca8-a822-9f123947175c",
   "metadata": {
    "execution": {
     "iopub.execute_input": "2024-11-13T14:35:03.855973Z",
     "iopub.status.busy": "2024-11-13T14:35:03.855424Z",
     "iopub.status.idle": "2024-11-13T14:35:04.050228Z",
     "shell.execute_reply": "2024-11-13T14:35:04.049565Z",
     "shell.execute_reply.started": "2024-11-13T14:35:03.855938Z"
    }
   },
   "outputs": [
    {
     "data": {
      "text/html": [
       "<div>\n",
       "<style scoped>\n",
       "    .dataframe tbody tr th:only-of-type {\n",
       "        vertical-align: middle;\n",
       "    }\n",
       "\n",
       "    .dataframe tbody tr th {\n",
       "        vertical-align: top;\n",
       "    }\n",
       "\n",
       "    .dataframe thead th {\n",
       "        text-align: right;\n",
       "    }\n",
       "</style>\n",
       "<table border=\"1\" class=\"dataframe\">\n",
       "  <thead>\n",
       "    <tr style=\"text-align: right;\">\n",
       "      <th></th>\n",
       "      <th>Timestamp</th>\n",
       "      <th>Ви працюєте зараз в ІТ?</th>\n",
       "      <th>Де ви зараз живете?</th>\n",
       "      <th>В якій області ви зараз живете?</th>\n",
       "      <th>Зарплата у $$$ за місяць, лише ставка після сплати податків</th>\n",
       "      <th>Ваша стать</th>\n",
       "      <th>Ваш вік</th>\n",
       "      <th>Яка у вас освіта?</th>\n",
       "      <th>Чи є у вас науковий ступінь?</th>\n",
       "      <th>Знання англійської мови</th>\n",
       "      <th>...</th>\n",
       "      <th>Ваша посада4</th>\n",
       "      <th>Ваша посада5</th>\n",
       "      <th>Ваша посада6</th>\n",
       "      <th>Ваша посада7</th>\n",
       "      <th>Чи використовуєте ви у своїй роботі мови програмування (одну чи декілька)?</th>\n",
       "      <th>Основна мова програмування</th>\n",
       "      <th>Вкажіть вашу основну спеціалізацію</th>\n",
       "      <th>В якій сфері працюєте?</th>\n",
       "      <th>Тип компанії</th>\n",
       "      <th>Загальний стаж роботи за спеціальністю</th>\n",
       "    </tr>\n",
       "  </thead>\n",
       "  <tbody>\n",
       "    <tr>\n",
       "      <th>0</th>\n",
       "      <td>11.30.2022 10:26:37</td>\n",
       "      <td>Так, працюю part-time</td>\n",
       "      <td>В Україні</td>\n",
       "      <td>Івано-Франківськ чи область</td>\n",
       "      <td>4000</td>\n",
       "      <td>Чоловік</td>\n",
       "      <td>29</td>\n",
       "      <td>Вища (бакалавр, спеціаліст, магістр)</td>\n",
       "      <td>Немає</td>\n",
       "      <td>Intermediate</td>\n",
       "      <td>...</td>\n",
       "      <td>NaN</td>\n",
       "      <td>NaN</td>\n",
       "      <td>NaN</td>\n",
       "      <td>NaN</td>\n",
       "      <td>NaN</td>\n",
       "      <td>NaN</td>\n",
       "      <td>NaN</td>\n",
       "      <td>Blockchain</td>\n",
       "      <td>Стартап</td>\n",
       "      <td>8 років</td>\n",
       "    </tr>\n",
       "    <tr>\n",
       "      <th>1</th>\n",
       "      <td>11.30.2022 10:26:39</td>\n",
       "      <td>Так, працюю full-time</td>\n",
       "      <td>За кордоном (переїхали через війну, але планую...</td>\n",
       "      <td>NaN</td>\n",
       "      <td>NaN</td>\n",
       "      <td>Чоловік</td>\n",
       "      <td>36</td>\n",
       "      <td>Вища (бакалавр, спеціаліст, магістр)</td>\n",
       "      <td>Немає</td>\n",
       "      <td>Advanced</td>\n",
       "      <td>...</td>\n",
       "      <td>NaN</td>\n",
       "      <td>NaN</td>\n",
       "      <td>NaN</td>\n",
       "      <td>NaN</td>\n",
       "      <td>NaN</td>\n",
       "      <td>Ruby</td>\n",
       "      <td>Full Stack розробка</td>\n",
       "      <td>Public services / Government</td>\n",
       "      <td>Продуктова</td>\n",
       "      <td>3 роки</td>\n",
       "    </tr>\n",
       "    <tr>\n",
       "      <th>2</th>\n",
       "      <td>11.30.2022 10:26:58</td>\n",
       "      <td>Так, працюю full-time</td>\n",
       "      <td>В Україні</td>\n",
       "      <td>Київ чи область</td>\n",
       "      <td>2500</td>\n",
       "      <td>Чоловік</td>\n",
       "      <td>34</td>\n",
       "      <td>Вища (бакалавр, спеціаліст, магістр)</td>\n",
       "      <td>Немає</td>\n",
       "      <td>Elementary</td>\n",
       "      <td>...</td>\n",
       "      <td>NaN</td>\n",
       "      <td>NaN</td>\n",
       "      <td>NaN</td>\n",
       "      <td>NaN</td>\n",
       "      <td>NaN</td>\n",
       "      <td>C# / .NET</td>\n",
       "      <td>Full Stack розробка</td>\n",
       "      <td>Adtech / Advertising, Security, Telecom</td>\n",
       "      <td>Продуктова</td>\n",
       "      <td>4 роки</td>\n",
       "    </tr>\n",
       "    <tr>\n",
       "      <th>3</th>\n",
       "      <td>11.30.2022 10:27:31</td>\n",
       "      <td>Так, працюю full-time</td>\n",
       "      <td>В Україні</td>\n",
       "      <td>Львів чи область</td>\n",
       "      <td>500</td>\n",
       "      <td>Жінка</td>\n",
       "      <td>23</td>\n",
       "      <td>Вища (бакалавр, спеціаліст, магістр)</td>\n",
       "      <td>Немає</td>\n",
       "      <td>Pre-Intermediate</td>\n",
       "      <td>...</td>\n",
       "      <td>NaN</td>\n",
       "      <td>NaN</td>\n",
       "      <td>NaN</td>\n",
       "      <td>NaN</td>\n",
       "      <td>Ні, не використовую</td>\n",
       "      <td>NaN</td>\n",
       "      <td>NaN</td>\n",
       "      <td>Telecom</td>\n",
       "      <td>Продуктова</td>\n",
       "      <td>Пів року</td>\n",
       "    </tr>\n",
       "    <tr>\n",
       "      <th>4</th>\n",
       "      <td>11.30.2022 10:27:34</td>\n",
       "      <td>Ні, тимчасово не працюю</td>\n",
       "      <td>В Україні</td>\n",
       "      <td>Житомир чи область</td>\n",
       "      <td>2800</td>\n",
       "      <td>Жінка</td>\n",
       "      <td>33</td>\n",
       "      <td>Вища (бакалавр, спеціаліст, магістр)</td>\n",
       "      <td>Немає</td>\n",
       "      <td>Upper-Intermediate</td>\n",
       "      <td>...</td>\n",
       "      <td>NaN</td>\n",
       "      <td>NaN</td>\n",
       "      <td>NaN</td>\n",
       "      <td>NaN</td>\n",
       "      <td>Ні, не використовую</td>\n",
       "      <td>NaN</td>\n",
       "      <td>NaN</td>\n",
       "      <td>Automotive</td>\n",
       "      <td>Продуктова</td>\n",
       "      <td>6 років</td>\n",
       "    </tr>\n",
       "  </tbody>\n",
       "</table>\n",
       "<p>5 rows × 28 columns</p>\n",
       "</div>"
      ],
      "text/plain": [
       "             Timestamp  Ви працюєте зараз в ІТ?  \\\n",
       "0  11.30.2022 10:26:37    Так, працюю part-time   \n",
       "1  11.30.2022 10:26:39    Так, працюю full-time   \n",
       "2  11.30.2022 10:26:58    Так, працюю full-time   \n",
       "3  11.30.2022 10:27:31    Так, працюю full-time   \n",
       "4  11.30.2022 10:27:34  Ні, тимчасово не працюю   \n",
       "\n",
       "                                Де ви зараз живете?   \\\n",
       "0                                          В Україні   \n",
       "1  За кордоном (переїхали через війну, але планую...   \n",
       "2                                          В Україні   \n",
       "3                                          В Україні   \n",
       "4                                          В Україні   \n",
       "\n",
       "  В якій області ви зараз живете?  \\\n",
       "0     Івано-Франківськ чи область   \n",
       "1                             NaN   \n",
       "2                 Київ чи область   \n",
       "3                Львів чи область   \n",
       "4              Житомир чи область   \n",
       "\n",
       "  Зарплата у $$$ за місяць, лише ставка після сплати податків Ваша стать  \\\n",
       "0                                               4000             Чоловік   \n",
       "1                                                NaN             Чоловік   \n",
       "2                                               2500             Чоловік   \n",
       "3                                                500               Жінка   \n",
       "4                                               2800               Жінка   \n",
       "\n",
       "  Ваш вік                     Яка у вас освіта? Чи є у вас науковий ступінь?   \\\n",
       "0      29  Вища (бакалавр, спеціаліст, магістр)                         Немає   \n",
       "1      36  Вища (бакалавр, спеціаліст, магістр)                         Немає   \n",
       "2      34  Вища (бакалавр, спеціаліст, магістр)                         Немає   \n",
       "3      23  Вища (бакалавр, спеціаліст, магістр)                         Немає   \n",
       "4      33  Вища (бакалавр, спеціаліст, магістр)                         Немає   \n",
       "\n",
       "  Знання англійської мови  ... Ваша посада4 Ваша посада5 Ваша посада6  \\\n",
       "0            Intermediate  ...          NaN          NaN          NaN   \n",
       "1                Advanced  ...          NaN          NaN          NaN   \n",
       "2              Elementary  ...          NaN          NaN          NaN   \n",
       "3        Pre-Intermediate  ...          NaN          NaN          NaN   \n",
       "4      Upper-Intermediate  ...          NaN          NaN          NaN   \n",
       "\n",
       "  Ваша посада7  \\\n",
       "0          NaN   \n",
       "1          NaN   \n",
       "2          NaN   \n",
       "3          NaN   \n",
       "4          NaN   \n",
       "\n",
       "  Чи використовуєте ви у своїй роботі мови програмування (одну чи декілька)?  \\\n",
       "0                                                NaN                           \n",
       "1                                                NaN                           \n",
       "2                                                NaN                           \n",
       "3                                Ні, не використовую                           \n",
       "4                                Ні, не використовую                           \n",
       "\n",
       "  Основна мова програмування Вкажіть вашу основну спеціалізацію  \\\n",
       "0                        NaN                                NaN   \n",
       "1                       Ruby                Full Stack розробка   \n",
       "2                  C# / .NET                Full Stack розробка   \n",
       "3                        NaN                                NaN   \n",
       "4                        NaN                                NaN   \n",
       "\n",
       "                    В якій сфері працюєте? Тип компанії  \\\n",
       "0                               Blockchain      Стартап   \n",
       "1             Public services / Government   Продуктова   \n",
       "2  Adtech / Advertising, Security, Telecom   Продуктова   \n",
       "3                                  Telecom   Продуктова   \n",
       "4                               Automotive   Продуктова   \n",
       "\n",
       "  Загальний стаж роботи за спеціальністю  \n",
       "0                                8 років  \n",
       "1                                 3 роки  \n",
       "2                                 4 роки  \n",
       "3                               Пів року  \n",
       "4                                6 років  \n",
       "\n",
       "[5 rows x 28 columns]"
      ]
     },
     "execution_count": 2,
     "metadata": {},
     "output_type": "execute_result"
    }
   ],
   "source": [
    "df = pd.read_csv('../data/2022_dec_raw.csv', sep=';')\n",
    "df.head(5)"
   ]
  },
  {
   "cell_type": "markdown",
   "id": "7cf480dc",
   "metadata": {
    "id": "7cf480dc"
   },
   "source": [
    "2. Які колонки мають дані?"
   ]
  },
  {
   "cell_type": "code",
   "execution_count": 3,
   "id": "3768c4d4",
   "metadata": {
    "execution": {
     "iopub.execute_input": "2024-11-13T14:35:08.190922Z",
     "iopub.status.busy": "2024-11-13T14:35:08.190386Z",
     "iopub.status.idle": "2024-11-13T14:35:08.199352Z",
     "shell.execute_reply": "2024-11-13T14:35:08.198253Z",
     "shell.execute_reply.started": "2024-11-13T14:35:08.190879Z"
    },
    "id": "3768c4d4"
   },
   "outputs": [
    {
     "data": {
      "text/plain": [
       "['Timestamp',\n",
       " 'Ви працюєте зараз в ІТ?',\n",
       " 'Де ви зараз живете? ',\n",
       " 'В якій області ви зараз живете?',\n",
       " 'Зарплата у $$$ за місяць, лише ставка після сплати податків',\n",
       " 'Ваша стать',\n",
       " 'Ваш вік',\n",
       " 'Яка у вас освіта?',\n",
       " 'Чи є у вас науковий ступінь? ',\n",
       " 'Знання англійської мови',\n",
       " 'Оберіть вашу посаду',\n",
       " 'Ваш тайтл',\n",
       " 'Ваша спеціалізація',\n",
       " 'Вкажіть вашу спеціалізацію',\n",
       " 'Оберіть вашу спеціалізацію',\n",
       " 'Ваша посада',\n",
       " 'Оберіть вашу посаду2',\n",
       " 'Ваша посада3',\n",
       " 'Ваша посада4',\n",
       " 'Ваша посада5',\n",
       " 'Ваша посада6',\n",
       " 'Ваша посада7',\n",
       " 'Чи використовуєте ви у своїй роботі мови програмування (одну чи декілька)?',\n",
       " 'Основна мова програмування',\n",
       " 'Вкажіть вашу основну спеціалізацію',\n",
       " 'В якій сфері працюєте?',\n",
       " 'Тип компанії',\n",
       " 'Загальний стаж роботи за спеціальністю']"
      ]
     },
     "execution_count": 3,
     "metadata": {},
     "output_type": "execute_result"
    }
   ],
   "source": [
    "df.columns.tolist()"
   ]
  },
  {
   "cell_type": "markdown",
   "id": "6d324476",
   "metadata": {
    "id": "6d324476"
   },
   "source": [
    "3. Скільки рядків та колонок мають дані? Скільки пропущених значень має кожна з колонок?"
   ]
  },
  {
   "cell_type": "code",
   "execution_count": 4,
   "id": "4abb52fa",
   "metadata": {
    "execution": {
     "iopub.execute_input": "2024-11-13T14:35:11.310675Z",
     "iopub.status.busy": "2024-11-13T14:35:11.310199Z",
     "iopub.status.idle": "2024-11-13T14:35:11.317156Z",
     "shell.execute_reply": "2024-11-13T14:35:11.315884Z",
     "shell.execute_reply.started": "2024-11-13T14:35:11.310634Z"
    },
    "id": "4abb52fa"
   },
   "outputs": [
    {
     "name": "stdout",
     "output_type": "stream",
     "text": [
      "Rows: 13315\n",
      "Columns: 28\n"
     ]
    }
   ],
   "source": [
    "print(f'Rows: {df.shape[0]}\\nColumns: {df.shape[1]}')"
   ]
  },
  {
   "cell_type": "code",
   "execution_count": 5,
   "id": "596c6240-0d02-4863-80a4-cae29f16a762",
   "metadata": {
    "execution": {
     "iopub.execute_input": "2024-11-13T14:35:12.510409Z",
     "iopub.status.busy": "2024-11-13T14:35:12.509933Z",
     "iopub.status.idle": "2024-11-13T14:35:12.538334Z",
     "shell.execute_reply": "2024-11-13T14:35:12.537667Z",
     "shell.execute_reply.started": "2024-11-13T14:35:12.510369Z"
    }
   },
   "outputs": [
    {
     "data": {
      "text/plain": [
       "Timestamp                                                                         0\n",
       "Ви працюєте зараз в ІТ?                                                           0\n",
       "Де ви зараз живете?                                                               0\n",
       "В якій області ви зараз живете?                                                1777\n",
       "Зарплата у $$$ за місяць, лише ставка після сплати податків                      27\n",
       "Ваша стать                                                                        0\n",
       "Ваш вік                                                                           0\n",
       "Яка у вас освіта?                                                                 0\n",
       "Чи є у вас науковий ступінь?                                                    111\n",
       "Знання англійської мови                                                           0\n",
       "Оберіть вашу посаду                                                               0\n",
       "Ваш тайтл                                                                         0\n",
       "Ваша спеціалізація                                                            13156\n",
       "Вкажіть вашу спеціалізацію                                                    10951\n",
       "Оберіть вашу спеціалізацію                                                    12829\n",
       "Ваша посада                                                                   13010\n",
       "Оберіть вашу посаду2                                                          12755\n",
       "Ваша посада3                                                                  12494\n",
       "Ваша посада4                                                                  12830\n",
       "Ваша посада5                                                                  13027\n",
       "Ваша посада6                                                                  12962\n",
       "Ваша посада7                                                                  13199\n",
       "Чи використовуєте ви у своїй роботі мови програмування (одну чи декілька)?     8441\n",
       "Основна мова програмування                                                     4255\n",
       "Вкажіть вашу основну спеціалізацію                                             4256\n",
       "В якій сфері працюєте?                                                            0\n",
       "Тип компанії                                                                      0\n",
       "Загальний стаж роботи за спеціальністю                                            0\n",
       "dtype: int64"
      ]
     },
     "execution_count": 5,
     "metadata": {},
     "output_type": "execute_result"
    }
   ],
   "source": [
    "df.isnull().sum()"
   ]
  },
  {
   "cell_type": "markdown",
   "id": "854846c5",
   "metadata": {
    "ExecuteTime": {
     "end_time": "2023-07-06T09:12:21.537631Z",
     "start_time": "2023-07-06T09:12:21.481059Z"
    },
    "id": "854846c5"
   },
   "source": [
    "4. Які колонки мають всі значення заповненими (не мають дожного None значення)? Виведіть програмно список цих колонок."
   ]
  },
  {
   "cell_type": "code",
   "execution_count": 6,
   "id": "5de7ccb7",
   "metadata": {
    "execution": {
     "iopub.execute_input": "2024-11-13T14:35:13.905481Z",
     "iopub.status.busy": "2024-11-13T14:35:13.905003Z",
     "iopub.status.idle": "2024-11-13T14:35:13.930176Z",
     "shell.execute_reply": "2024-11-13T14:35:13.929534Z",
     "shell.execute_reply.started": "2024-11-13T14:35:13.905440Z"
    },
    "id": "5de7ccb7"
   },
   "outputs": [
    {
     "data": {
      "text/plain": [
       "['Timestamp',\n",
       " 'Ви працюєте зараз в ІТ?',\n",
       " 'Де ви зараз живете? ',\n",
       " 'Ваша стать',\n",
       " 'Ваш вік',\n",
       " 'Яка у вас освіта?',\n",
       " 'Знання англійської мови',\n",
       " 'Оберіть вашу посаду',\n",
       " 'Ваш тайтл',\n",
       " 'В якій сфері працюєте?',\n",
       " 'Тип компанії',\n",
       " 'Загальний стаж роботи за спеціальністю']"
      ]
     },
     "execution_count": 6,
     "metadata": {},
     "output_type": "execute_result"
    }
   ],
   "source": [
    "df.columns[df.isnull().sum() == 0].tolist()"
   ]
  },
  {
   "cell_type": "markdown",
   "id": "2e6a2867",
   "metadata": {
    "ExecuteTime": {
     "end_time": "2023-07-06T10:56:38.046761Z",
     "start_time": "2023-07-06T10:56:38.038875Z"
    },
    "id": "2e6a2867"
   },
   "source": [
    "5. Який тип мають колонки в наборі даних? Які з колонок типу object логічно на ваш погляд перетворити на числові колонки?"
   ]
  },
  {
   "cell_type": "code",
   "execution_count": 7,
   "id": "3915a5f8",
   "metadata": {
    "execution": {
     "iopub.execute_input": "2024-11-13T14:35:15.240600Z",
     "iopub.status.busy": "2024-11-13T14:35:15.240130Z",
     "iopub.status.idle": "2024-11-13T14:35:15.250291Z",
     "shell.execute_reply": "2024-11-13T14:35:15.249490Z",
     "shell.execute_reply.started": "2024-11-13T14:35:15.240561Z"
    },
    "id": "3915a5f8"
   },
   "outputs": [
    {
     "data": {
      "text/plain": [
       "Timestamp                                                                     object\n",
       "Ви працюєте зараз в ІТ?                                                       object\n",
       "Де ви зараз живете?                                                           object\n",
       "В якій області ви зараз живете?                                               object\n",
       "Зарплата у $$$ за місяць, лише ставка після сплати податків                   object\n",
       "Ваша стать                                                                    object\n",
       "Ваш вік                                                                       object\n",
       "Яка у вас освіта?                                                             object\n",
       "Чи є у вас науковий ступінь?                                                  object\n",
       "Знання англійської мови                                                       object\n",
       "Оберіть вашу посаду                                                           object\n",
       "Ваш тайтл                                                                     object\n",
       "Ваша спеціалізація                                                            object\n",
       "Вкажіть вашу спеціалізацію                                                    object\n",
       "Оберіть вашу спеціалізацію                                                    object\n",
       "Ваша посада                                                                   object\n",
       "Оберіть вашу посаду2                                                          object\n",
       "Ваша посада3                                                                  object\n",
       "Ваша посада4                                                                  object\n",
       "Ваша посада5                                                                  object\n",
       "Ваша посада6                                                                  object\n",
       "Ваша посада7                                                                  object\n",
       "Чи використовуєте ви у своїй роботі мови програмування (одну чи декілька)?    object\n",
       "Основна мова програмування                                                    object\n",
       "Вкажіть вашу основну спеціалізацію                                            object\n",
       "В якій сфері працюєте?                                                        object\n",
       "Тип компанії                                                                  object\n",
       "Загальний стаж роботи за спеціальністю                                        object\n",
       "dtype: object"
      ]
     },
     "execution_count": 7,
     "metadata": {},
     "output_type": "execute_result"
    }
   ],
   "source": [
    "df.dtypes"
   ]
  },
  {
   "cell_type": "code",
   "execution_count": 8,
   "id": "4e343c48-4240-4158-99d0-ac0c0151bcd5",
   "metadata": {
    "execution": {
     "iopub.execute_input": "2024-11-13T14:35:16.048596Z",
     "iopub.status.busy": "2024-11-13T14:35:16.047906Z",
     "iopub.status.idle": "2024-11-13T14:35:16.054221Z",
     "shell.execute_reply": "2024-11-13T14:35:16.053527Z",
     "shell.execute_reply.started": "2024-11-13T14:35:16.048550Z"
    }
   },
   "outputs": [
    {
     "data": {
      "text/plain": [
       "str"
      ]
     },
     "execution_count": 8,
     "metadata": {},
     "output_type": "execute_result"
    }
   ],
   "source": [
    "type(df.iloc[0]['Зарплата у $$$ за місяць, лише ставка після сплати податків'])"
   ]
  },
  {
   "cell_type": "markdown",
   "id": "3da64e75",
   "metadata": {
    "id": "3da64e75"
   },
   "source": [
    "6. Трансформуйте колонки 'Ваш вік', 'Зарплата у $$$ за місяць, лише ставка після сплати податків' у тип даних float. УВАГА! Перед трансформацією подивіться, які дані містять ці колонки. Аби успішно трансформувати тип даних, треба спочатку привести рядки до того виду, який буде підходити, аби потім рядок зробити типом float."
   ]
  },
  {
   "cell_type": "code",
   "execution_count": 9,
   "id": "76173c1c",
   "metadata": {
    "execution": {
     "iopub.execute_input": "2024-11-13T14:35:17.110249Z",
     "iopub.status.busy": "2024-11-13T14:35:17.109320Z",
     "iopub.status.idle": "2024-11-13T14:35:17.120083Z",
     "shell.execute_reply": "2024-11-13T14:35:17.119194Z",
     "shell.execute_reply.started": "2024-11-13T14:35:17.110218Z"
    },
    "id": "76173c1c"
   },
   "outputs": [],
   "source": [
    "df['Ваш вік'] = df['Ваш вік'].str.replace(',', '.').astype(float)"
   ]
  },
  {
   "cell_type": "code",
   "execution_count": 10,
   "id": "b8c9e814-6e81-46d9-95f0-742144465fa2",
   "metadata": {
    "execution": {
     "iopub.execute_input": "2024-11-13T14:35:17.413678Z",
     "iopub.status.busy": "2024-11-13T14:35:17.413019Z",
     "iopub.status.idle": "2024-11-13T14:35:17.426766Z",
     "shell.execute_reply": "2024-11-13T14:35:17.425949Z",
     "shell.execute_reply.started": "2024-11-13T14:35:17.413613Z"
    }
   },
   "outputs": [],
   "source": [
    "df['Зарплата у $$$ за місяць, лише ставка після сплати податків'] = df['Зарплата у $$$ за місяць, лише ставка після сплати податків'].str.replace(',', '.').astype(float)"
   ]
  },
  {
   "cell_type": "markdown",
   "id": "9c4181cb",
   "metadata": {
    "ExecuteTime": {
     "end_time": "2023-07-06T11:36:23.006200Z",
     "start_time": "2023-07-06T11:36:22.975108Z"
    },
    "id": "9c4181cb"
   },
   "source": [
    "7. Це завдання з зірочкою! Нам треба транфсформувати колонку Timestamp у тип даних `datetime64[ns]`. Це не так просто як здається на першйий погляд :) Але це реальна ситуація, яка може трапитись при зборі даних в роботі аналітиком.\n",
    "Я запропоную один зі способів виконати завдання, але ви можете написати по-своєму. Головне - отримати колонку - потрібного типу.\n",
    "Пропоную наступний алгоритм дій:\n",
    "    1. Подивитись, які дані містяться в цій колонці. Виведіть перші і останні 5 записів. Чи однаковий формат цих даних? (спойлер: ні, бо інакше все було б просто :))\n",
    "    2. Нам треба враховуючи різний формат даних перетворити рядок у колонці `Timestamp` на тип `datetime64[ns]`. Як це зробити? Для перетворення рядка на `datetime64` пропоную скористатись `datetime.datetime.strptime`.\n",
    "    Для цього треба імпортувати бібліотеку `datetime`. Я пропоную написати функцію для обробки кожного окремого рядка, яка враховує довжину рядка і на основі цього застосовує різний формат даних дати.\n",
    "    Як прописувати формат даних можна переглянути [тут](https://www.w3schools.com/python/python_datetime.asp).\n",
    "    3. Коли функція для обробки кожного окремого рядка готова, застосуйте її для всіх даних з допомогою методу `apply`."
   ]
  },
  {
   "cell_type": "code",
   "execution_count": 12,
   "id": "c3bcbd33",
   "metadata": {
    "execution": {
     "iopub.execute_input": "2024-11-13T14:35:18.900421Z",
     "iopub.status.busy": "2024-11-13T14:35:18.899949Z",
     "iopub.status.idle": "2024-11-13T14:35:18.908936Z",
     "shell.execute_reply": "2024-11-13T14:35:18.907792Z",
     "shell.execute_reply.started": "2024-11-13T14:35:18.900381Z"
    },
    "id": "c3bcbd33"
   },
   "outputs": [
    {
     "data": {
      "text/plain": [
       "0    11.30.2022 10:26:37\n",
       "1    11.30.2022 10:26:39\n",
       "2    11.30.2022 10:26:58\n",
       "3    11.30.2022 10:27:31\n",
       "4    11.30.2022 10:27:34\n",
       "Name: Timestamp, dtype: object"
      ]
     },
     "execution_count": 12,
     "metadata": {},
     "output_type": "execute_result"
    }
   ],
   "source": [
    "df.Timestamp.head(5)"
   ]
  },
  {
   "cell_type": "code",
   "execution_count": 13,
   "id": "184b6598-1097-4cf4-a223-c2bcaf8158e3",
   "metadata": {
    "execution": {
     "iopub.execute_input": "2024-11-13T14:35:19.606099Z",
     "iopub.status.busy": "2024-11-13T14:35:19.605622Z",
     "iopub.status.idle": "2024-11-13T14:35:19.614217Z",
     "shell.execute_reply": "2024-11-13T14:35:19.613193Z",
     "shell.execute_reply.started": "2024-11-13T14:35:19.606061Z"
    }
   },
   "outputs": [
    {
     "data": {
      "text/plain": [
       "13310    01.09.2023 11:01\n",
       "13311    01.09.2023 11:14\n",
       "13312    01.09.2023 11:19\n",
       "13313    01.09.2023 11:28\n",
       "13314    01.09.2023 11:38\n",
       "Name: Timestamp, dtype: object"
      ]
     },
     "execution_count": 13,
     "metadata": {},
     "output_type": "execute_result"
    }
   ],
   "source": [
    "df.Timestamp.tail(5)"
   ]
  },
  {
   "cell_type": "code",
   "execution_count": 14,
   "id": "c21a3465-9dd7-4c02-8350-c72c36fb7792",
   "metadata": {
    "execution": {
     "iopub.execute_input": "2024-11-13T14:35:20.072204Z",
     "iopub.status.busy": "2024-11-13T14:35:20.071192Z",
     "iopub.status.idle": "2024-11-13T14:35:20.079098Z",
     "shell.execute_reply": "2024-11-13T14:35:20.078324Z",
     "shell.execute_reply.started": "2024-11-13T14:35:20.072164Z"
    }
   },
   "outputs": [
    {
     "data": {
      "text/plain": [
       "(19, 16)"
      ]
     },
     "execution_count": 14,
     "metadata": {},
     "output_type": "execute_result"
    }
   ],
   "source": [
    "len(df.Timestamp.iloc[0]), len(df.Timestamp.iloc[-1])"
   ]
  },
  {
   "cell_type": "code",
   "execution_count": 18,
   "id": "ec921050-c301-4b3f-8bcf-acb62fa1e0d6",
   "metadata": {
    "execution": {
     "iopub.execute_input": "2024-11-13T14:35:23.966031Z",
     "iopub.status.busy": "2024-11-13T14:35:23.965531Z",
     "iopub.status.idle": "2024-11-13T14:35:23.972765Z",
     "shell.execute_reply": "2024-11-13T14:35:23.971229Z",
     "shell.execute_reply.started": "2024-11-13T14:35:23.965996Z"
    }
   },
   "outputs": [],
   "source": [
    "def str_to_daytime(time_str):\n",
    "    if len(time_str) > 16:\n",
    "        return datetime.strptime(time_str, '%m.%d.%Y %H:%M:%S')\n",
    "    elif len(time_str) <= 16:\n",
    "        return datetime.strptime(time_str, '%m.%d.%Y %H:%M')\n",
    "    else:\n",
    "        raise ValueError(f'Unknown date format: {time_str}')"
   ]
  },
  {
   "cell_type": "code",
   "execution_count": 19,
   "id": "c88c41b7-b803-46eb-842c-d3de6fe9040e",
   "metadata": {
    "execution": {
     "iopub.execute_input": "2024-11-13T14:35:24.719483Z",
     "iopub.status.busy": "2024-11-13T14:35:24.718993Z",
     "iopub.status.idle": "2024-11-13T14:35:24.830780Z",
     "shell.execute_reply": "2024-11-13T14:35:24.830021Z",
     "shell.execute_reply.started": "2024-11-13T14:35:24.719447Z"
    }
   },
   "outputs": [],
   "source": [
    "df['Timestamp'] = df['Timestamp'].astype(str).apply(str_to_daytime)"
   ]
  },
  {
   "cell_type": "markdown",
   "id": "e60cd492",
   "metadata": {
    "id": "e60cd492"
   },
   "source": [
    "8. Для колонок типу даних object (які такими лишились після всіх наших трансформацій) виведіть кількість унікальних значень."
   ]
  },
  {
   "cell_type": "code",
   "execution_count": 20,
   "id": "c729c27d",
   "metadata": {
    "execution": {
     "iopub.execute_input": "2024-11-13T14:35:28.917299Z",
     "iopub.status.busy": "2024-11-13T14:35:28.916823Z",
     "iopub.status.idle": "2024-11-13T14:35:29.041142Z",
     "shell.execute_reply": "2024-11-13T14:35:29.040511Z",
     "shell.execute_reply.started": "2024-11-13T14:35:28.917261Z"
    },
    "id": "c729c27d"
   },
   "outputs": [
    {
     "data": {
      "text/plain": [
       "Ви працюєте зараз в ІТ?                                                          5\n",
       "Де ви зараз живете?                                                              2\n",
       "В якій області ви зараз живете?                                                 23\n",
       "Ваша стать                                                                       2\n",
       "Яка у вас освіта?                                                                5\n",
       "Чи є у вас науковий ступінь?                                                     3\n",
       "Знання англійської мови                                                          5\n",
       "Оберіть вашу посаду                                                             22\n",
       "Ваш тайтл                                                                       10\n",
       "Ваша спеціалізація                                                               8\n",
       "Вкажіть вашу спеціалізацію                                                       4\n",
       "Оберіть вашу спеціалізацію                                                      21\n",
       "Ваша посада                                                                     15\n",
       "Оберіть вашу посаду2                                                             7\n",
       "Ваша посада3                                                                     7\n",
       "Ваша посада4                                                                     5\n",
       "Ваша посада5                                                                     6\n",
       "Ваша посада6                                                                     2\n",
       "Ваша посада7                                                                     4\n",
       "Чи використовуєте ви у своїй роботі мови програмування (одну чи декілька)?       2\n",
       "Основна мова програмування                                                      33\n",
       "Вкажіть вашу основну спеціалізацію                                              12\n",
       "В якій сфері працюєте?                                                        1768\n",
       "Тип компанії                                                                     6\n",
       "Загальний стаж роботи за спеціальністю                                          19\n",
       "dtype: int64"
      ]
     },
     "execution_count": 20,
     "metadata": {},
     "output_type": "execute_result"
    }
   ],
   "source": [
    "df.select_dtypes('object').nunique()"
   ]
  },
  {
   "cell_type": "markdown",
   "id": "03500adf",
   "metadata": {
    "id": "03500adf"
   },
   "source": [
    "9. Для колонок типу даних object виведіть топ 10 найбільш частих значень з кількістю рядків, в яких це значення зустрічається. Зробіть це для кожної колонки окремо. Наприклад, в циклі.  \n",
    "Що цікавого бачите? Які висновки можна зробити? Що особисто Вас вразило?"
   ]
  },
  {
   "cell_type": "code",
   "execution_count": 59,
   "id": "add43481",
   "metadata": {
    "execution": {
     "iopub.execute_input": "2024-11-13T15:04:09.701842Z",
     "iopub.status.busy": "2024-11-13T15:04:09.701357Z",
     "iopub.status.idle": "2024-11-13T15:04:09.756716Z",
     "shell.execute_reply": "2024-11-13T15:04:09.755558Z",
     "shell.execute_reply.started": "2024-11-13T15:04:09.701807Z"
    },
    "id": "add43481"
   },
   "outputs": [
    {
     "name": "stdout",
     "output_type": "stream",
     "text": [
      "Timestamp\n",
      "2022-12-07 12:54:00    29\n",
      "2022-12-07 12:56:00    28\n",
      "2022-12-07 12:57:00    25\n",
      "2022-12-07 12:55:00    25\n",
      "2022-12-07 12:58:00    24\n",
      "2022-12-07 12:59:00    23\n",
      "2022-12-07 13:01:00    19\n",
      "2022-12-07 13:07:00    15\n",
      "2022-12-07 13:00:00    15\n",
      "2022-12-07 13:03:00    14\n",
      "Name: count, dtype: int64\n",
      "\n",
      "Ви працюєте зараз в ІТ?\n",
      "Так, працюю full-time      12643\n",
      "Ні, тимчасово не працюю      380\n",
      "Так, працюю part-time        152\n",
      "Так, я фрилансер             115\n",
      "Інше                          25\n",
      "Name: count, dtype: int64\n",
      "\n",
      "Де ви зараз живете? \n",
      "В Україні                                                      11587\n",
      "За кордоном (переїхали через війну, але планую повернутися)     1728\n",
      "Name: count, dtype: int64\n",
      "\n",
      "В якій області ви зараз живете?\n",
      "Київ чи область                4411\n",
      "Львів чи область               2353\n",
      "Дніпро чи область               751\n",
      "Івано-Франківськ чи область     478\n",
      "Вінниця чи область              447\n",
      "Одеса чи область                443\n",
      "Харків чи область               355\n",
      "Полтава чи область              252\n",
      "Черкаси чи область              232\n",
      "Хмельницький чи область         230\n",
      "Name: count, dtype: int64\n",
      "\n",
      "Зарплата у $$$ за місяць, лише ставка після сплати податків\n",
      "3000.0    561\n",
      "2000.0    468\n",
      "5000.0    454\n",
      "4000.0    450\n",
      "1000.0    427\n",
      "2500.0    401\n",
      "1500.0    396\n",
      "3500.0    378\n",
      "4500.0    292\n",
      "6000.0    281\n",
      "Name: count, dtype: int64\n",
      "\n",
      "Ваша стать\n",
      "Чоловік    10221\n",
      "Жінка       3094\n",
      "Name: count, dtype: int64\n",
      "\n",
      "Ваш вік\n",
      "25.0    929\n",
      "27.0    879\n",
      "28.0    847\n",
      "26.0    835\n",
      "30.0    820\n",
      "29.0    790\n",
      "24.0    739\n",
      "32.0    690\n",
      "31.0    686\n",
      "23.0    671\n",
      "Name: count, dtype: int64\n",
      "\n",
      "Яка у вас освіта?\n",
      "Вища (бакалавр, спеціаліст, магістр)    10645\n",
      "Дві вищі                                 1002\n",
      "Ще студент вишу                           811\n",
      "Середня                                   447\n",
      "Середня спеціальна                        410\n",
      "Name: count, dtype: int64\n",
      "\n",
      "Чи є у вас науковий ступінь? \n",
      "Немає                  12980\n",
      "Кандидат наук / PhD      216\n",
      "Доктор наук                8\n",
      "Name: count, dtype: int64\n",
      "\n",
      "Знання англійської мови\n",
      "Upper-Intermediate    5538\n",
      "Intermediate          4475\n",
      "Advanced              1622\n",
      "Pre-Intermediate      1401\n",
      "Elementary             279\n",
      "Name: count, dtype: int64\n",
      "\n",
      "Оберіть вашу посаду\n",
      "Software Engineer (Junior, Middle, Senior, Team/Tech Lead, Architect)             6773\n",
      "QA Engineer (Junior, Middle, Senior, Team/Tech Lead, Manager)                     2364\n",
      "Project/Product/Program Manager, Product Owner, Scrum Master, Delivery Manager     821\n",
      "HR/Recruiter                                                                       560\n",
      "Designer / Artist (Graphic, UX/UI, Game, Artist, Sound etc.)                       486\n",
      "Analyst (Business, Data, System)                                                   485\n",
      "DevOps, SRE                                                                        353\n",
      "Marketing, SEO, Copywriter                                                         305\n",
      "Data Science, Machine Learning, Big Data                                           288\n",
      "Game Developer / Programmer                                                        160\n",
      "Name: count, dtype: int64\n",
      "\n",
      "Ваш тайтл\n",
      "Middle            4710\n",
      "Senior            3400\n",
      "Junior            2316\n",
      "Team Lead          883\n",
      "Немає тайтлу       571\n",
      "Tech Lead          430\n",
      "Manager            375\n",
      "Head               250\n",
      "Intern/Trainee     240\n",
      "Architect          140\n",
      "Name: count, dtype: int64\n",
      "\n",
      "Ваша спеціалізація\n",
      "Programmer                       89\n",
      "Gameplay Programmer              42\n",
      "Engine Programmer                 8\n",
      ".NET Programmer                   6\n",
      "Ul Programmer                     4\n",
      "Rendering/Graphics Programmer     4\n",
      "Al Programmer                     3\n",
      "Інше                              3\n",
      "Name: count, dtype: int64\n",
      "\n",
      "Вкажіть вашу спеціалізацію\n",
      "Manual QA         1467\n",
      "Automation QA      531\n",
      "General QA         354\n",
      "Performance QA      12\n",
      "Name: count, dtype: int64\n",
      "\n",
      "Оберіть вашу спеціалізацію\n",
      "UI/UX Designer              201\n",
      "Product Designer             60\n",
      "3D Artist                    40\n",
      "2D Artist                    35\n",
      "Graphic / Video Designer     33\n",
      "Game Designer                20\n",
      "Designer                     15\n",
      "Animator                     14\n",
      "Other                        12\n",
      "Web Designer                 11\n",
      "Name: count, dtype: int64\n",
      "\n",
      "Ваша посада\n",
      "Other                            44\n",
      "Marketing Manager                44\n",
      "SEO Specialist                   34\n",
      "Digital Marketing Manager        33\n",
      "Copywriter                       27\n",
      "Chief Marketing Officer (CMO)    22\n",
      "Employer Brand Manager           20\n",
      "SMM Manager                      20\n",
      "PR Manager                       16\n",
      "Product Marketing Manager        11\n",
      "Name: count, dtype: int64\n",
      "\n",
      "Оберіть вашу посаду2\n",
      "Recruiter                             201\n",
      "HR Manager                            131\n",
      "Talent Acquisition Manager             52\n",
      "Talent Researcher/Sourcer              51\n",
      "HR Director                            45\n",
      "HR Business Partner                    40\n",
      "People partner / Happiness manager     40\n",
      "Name: count, dtype: int64\n",
      "\n",
      "Ваша посада3\n",
      "Project Manager     443\n",
      "Product Manager     135\n",
      "Delivery Manager     88\n",
      "Product Owner        67\n",
      "Scrum Master         42\n",
      "Program Manager      29\n",
      "Business Manager     17\n",
      "Name: count, dtype: int64\n",
      "\n",
      "Ваша посада4\n",
      "Business Analyst    289\n",
      "Data Analyst        106\n",
      "Product Analyst      34\n",
      "System Analyst       32\n",
      "BI Analyst           24\n",
      "Name: count, dtype: int64\n",
      "\n",
      "Ваша посада5\n",
      "Data Engineer / Big Data Engineer    104\n",
      "Data Scientist                        93\n",
      "Machine Learning Engineer             46\n",
      "Computer Vision Engineer              21\n",
      "Research Engineer                     15\n",
      "BI Engineer                            9\n",
      "Name: count, dtype: int64\n",
      "\n",
      "Ваша посада6\n",
      "DevOps Engineer              325\n",
      "Site Reliability Engineer     28\n",
      "Name: count, dtype: int64\n",
      "\n",
      "Ваша посада7\n",
      "CTO                        41\n",
      "Director of Engineering    33\n",
      "CEO, (co-) founder         28\n",
      "Program Director           14\n",
      "Name: count, dtype: int64\n",
      "\n",
      "Чи використовуєте ви у своїй роботі мови програмування (одну чи декілька)?\n",
      "Ні, не використовую    2754\n",
      "Так, використовую      2120\n",
      "Name: count, dtype: int64\n",
      "\n",
      "Основна мова програмування\n",
      "JavaScript    1695\n",
      "Java          1241\n",
      "Python        1190\n",
      "C# / .NET     1179\n",
      "TypeScript    1179\n",
      "PHP            627\n",
      "Kotlin         286\n",
      "C++            251\n",
      "Swift          221\n",
      "SQL            201\n",
      "Name: count, dtype: int64\n",
      "\n",
      "Вкажіть вашу основну спеціалізацію\n",
      "Back-end  розробка               2847\n",
      "Full Stack розробка              1628\n",
      "Front-end  розробка              1628\n",
      "QA                               1079\n",
      "Mobile  розробка                  665\n",
      "Робота з даними, аналіз даних     558\n",
      "DevOps                            308\n",
      "Інше                              293\n",
      "Embedded                           49\n",
      "embedded                            2\n",
      "Name: count, dtype: int64\n",
      "\n",
      "В якій сфері працюєте?\n",
      "Інша                    1445\n",
      "E-commerce              1243\n",
      "Fintech / Banking        942\n",
      "Medtech / Healthcare     547\n",
      "GameDev                  449\n",
      "Gambling                 352\n",
      "Edtech / Education       250\n",
      "Telecom                  232\n",
      "Mobile                   200\n",
      "Adtech / Advertising     193\n",
      "Name: count, dtype: int64\n",
      "\n",
      "Тип компанії\n",
      "Аутсорсингова    5593\n",
      "Продуктова       4940\n",
      "Аутстафінгова    1767\n",
      "Стартап           539\n",
      "Інша              355\n",
      "Фріланс           121\n",
      "Name: count, dtype: int64\n",
      "\n",
      "Загальний стаж роботи за спеціальністю\n",
      "3 роки               1608\n",
      "4 роки               1447\n",
      "2 роки               1427\n",
      "5 років              1351\n",
      "1,5 року             1056\n",
      "6 років               982\n",
      "1 рік                 922\n",
      "7 років               791\n",
      "10 років              599\n",
      "15 і більше років     586\n",
      "Name: count, dtype: int64\n",
      "\n"
     ]
    }
   ],
   "source": [
    "for column in df:\n",
    "    print(df[column].value_counts().sort_values(ascending=False).head(10))\n",
    "    print()"
   ]
  },
  {
   "cell_type": "markdown",
   "id": "0b0cf8d4-c68e-4e36-a084-81a2c6fb63e6",
   "metadata": {},
   "source": [
    "Мої інсайти:\n",
    "\n",
    "1. Час заповнення опитувальника))) наче всю обідню перерву з 12 заповнюали і в середньому за годину як раз впоралися.\n",
    "2. Жінок АЖ втричі менше 😢\n",
    "3. Як записались дані про мову програмування: Так, використовую   -   2120 (тут я і здивувалась)\n",
    "   в наступній колонці тільки з топ10 мов сума буде 6700 людей. а ще є колонка з професіями там в топі деви(6700) і QA інженери(вони ж автоматиовують тестування, тож володіють мовою програмування) яких сумарно 9000.\n",
    "4. Після 15 років стажу ти вже такий виснажений що заплата знову зменшується?😂 Цікаво це дослідити на більш старих IT ринках інших країн.\n",
    "   (можна наймати двох старих айтівців за ціною одного з 10тирічним досвідом))))))"
   ]
  },
  {
   "cell_type": "markdown",
   "id": "35cf7d10",
   "metadata": {
    "id": "35cf7d10"
   },
   "source": [
    "10. Виведіть медіанну (медіана - це значення, менше якого є рівно 50% вибірки і більше якого є теж рівно 50% вибірки)\n",
    "ЗП (Зарплата у $$$) для кожного рівня знання англійської. Які висновки можна зробити?"
   ]
  },
  {
   "cell_type": "code",
   "execution_count": 22,
   "id": "62e17c84",
   "metadata": {
    "execution": {
     "iopub.execute_input": "2024-11-13T14:35:46.277233Z",
     "iopub.status.busy": "2024-11-13T14:35:46.276281Z",
     "iopub.status.idle": "2024-11-13T14:35:46.288682Z",
     "shell.execute_reply": "2024-11-13T14:35:46.288008Z",
     "shell.execute_reply.started": "2024-11-13T14:35:46.277187Z"
    },
    "id": "62e17c84"
   },
   "outputs": [
    {
     "data": {
      "text/plain": [
       "Знання англійської мови\n",
       "Elementary            1155.0\n",
       "Pre-Intermediate      1404.0\n",
       "Intermediate          2125.0\n",
       "Upper-Intermediate    3300.0\n",
       "Advanced              3500.0\n",
       "Name: Зарплата у $$$ за місяць, лише ставка після сплати податків, dtype: float64"
      ]
     },
     "execution_count": 22,
     "metadata": {},
     "output_type": "execute_result"
    }
   ],
   "source": [
    "df.groupby('Знання англійської мови')['Зарплата у $$$ за місяць, лише ставка після сплати податків'].median().sort_values()"
   ]
  },
  {
   "cell_type": "markdown",
   "id": "0992c456",
   "metadata": {
    "ExecuteTime": {
     "end_time": "2023-07-06T11:56:25.250162Z",
     "start_time": "2023-07-06T11:56:25.244477Z"
    },
    "id": "0992c456"
   },
   "source": [
    "11. Є така штука як сортування значень категоріальної змінної. Нам це зараз стане в нагоді, адже рівні англійської можна посортувати.\n",
    "Давайте відсотруємо рівні англ. і тайтли. Просто запустіть код нижче і проаналізуйте, що він робить."
   ]
  },
  {
   "cell_type": "code",
   "execution_count": 23,
   "id": "3af67c68",
   "metadata": {
    "execution": {
     "iopub.execute_input": "2024-11-13T14:36:00.090533Z",
     "iopub.status.busy": "2024-11-13T14:36:00.090068Z",
     "iopub.status.idle": "2024-11-13T14:36:00.102055Z",
     "shell.execute_reply": "2024-11-13T14:36:00.101293Z",
     "shell.execute_reply.started": "2024-11-13T14:36:00.090496Z"
    },
    "id": "3af67c68"
   },
   "outputs": [],
   "source": [
    "df['Знання англійської мови'] = pd.Categorical(df['Знання англійської мови'],\n",
    "                      categories=['Elementary','Pre-Intermediate','Intermediate','Upper-Intermediate','Advanced'],\n",
    "                      ordered=True)\n",
    "\n",
    "df['Ваш тайтл'] = pd.Categorical(df['Ваш тайтл'],\n",
    "                      categories=['Intern/Trainee', 'Junior', 'Немає тайтлу', 'Middle', 'Senior', 'Tech Lead', 'Team Lead', 'Architect', 'Head', 'Manager'],\n",
    "                      ordered=True)"
   ]
  },
  {
   "cell_type": "markdown",
   "id": "d024b7b0-28b2-448d-a481-0664a63866a1",
   "metadata": {},
   "source": [
    "Клас! я, чесно, не зрозуміла для чого нам це, але чатGPT мені любʼязно розповів і це просто вау)))\n",
    "за категоріальними впорядкованими колонками можна фільтрувати, сортувати, їх можна порівнювати👍🏻 "
   ]
  },
  {
   "cell_type": "markdown",
   "id": "d055e149",
   "metadata": {
    "ExecuteTime": {
     "end_time": "2023-07-06T11:52:57.539571Z",
     "start_time": "2023-07-06T11:52:57.535277Z"
    },
    "id": "d055e149"
   },
   "source": [
    "12. Зробіть зводну таблицю, де стовпці - це 'Ваш тайтл', рядки - 'Знання англійської мови', а значення - медіанна ЗП. Які висновки можна зробити?\n",
    "Тут ще для зручності можна зробити градієнтне забарвлення і відформатувати значення для легшого перегляду."
   ]
  },
  {
   "cell_type": "code",
   "execution_count": 60,
   "id": "07f4702e",
   "metadata": {
    "execution": {
     "iopub.execute_input": "2024-11-13T15:42:12.898938Z",
     "iopub.status.busy": "2024-11-13T15:42:12.893021Z",
     "iopub.status.idle": "2024-11-13T15:42:12.999723Z",
     "shell.execute_reply": "2024-11-13T15:42:12.998940Z",
     "shell.execute_reply.started": "2024-11-13T15:42:12.898801Z"
    },
    "id": "07f4702e"
   },
   "outputs": [],
   "source": [
    "english_salary_corr = pd.pivot_table(df, index='Знання англійської мови', columns='Ваш тайтл', values='Зарплата у $$$ за місяць, лише ставка після сплати податків', aggfunc='median', observed=True)"
   ]
  },
  {
   "cell_type": "code",
   "execution_count": 62,
   "id": "ab12a825-4761-4834-8ed9-6060f678d38a",
   "metadata": {
    "execution": {
     "iopub.execute_input": "2024-11-13T15:43:35.082259Z",
     "iopub.status.busy": "2024-11-13T15:43:35.081553Z",
     "iopub.status.idle": "2024-11-13T15:43:35.806819Z",
     "shell.execute_reply": "2024-11-13T15:43:35.806074Z",
     "shell.execute_reply.started": "2024-11-13T15:43:35.082216Z"
    }
   },
   "outputs": [
    {
     "data": {
      "image/png": "[encoded data removed]",
      "text/plain": [
       "<Figure size 1000x600 with 2 Axes>"
      ]
     },
     "metadata": {},
     "output_type": "display_data"
    }
   ],
   "source": [
    "plt.figure(figsize=(10, 6))\n",
    "sns.heatmap(english_salary_corr, annot=True, cmap=\"YlGnBu\", fmt=\".1f\", linewidths=0.5)\n",
    "plt.title(\"Зарплата у $$$ за місяць (медіана) залежно від рівня англійської та тайтлу\")\n",
    "plt.xlabel(\"Ваш тайтл\")\n",
    "plt.ylabel(\"Знання англійської мови\")\n",
    "plt.show()"
   ]
  },
  {
   "cell_type": "markdown",
   "id": "4773b2e1-b3f0-43b6-a8ea-2909c4539454",
   "metadata": {},
   "source": [
    "Висновок: хочеш більше заробляти -вчи англійську. "
   ]
  },
  {
   "cell_type": "markdown",
   "id": "edbb7046",
   "metadata": {
    "id": "edbb7046"
   },
   "source": [
    "13. Виведіть результат методу describe() по колонці розміру ЗП для топ 5 за частотою зустрічання в даних областей (В якій області ви зараз живете?). Зробіть висновки, де вигідніше жити з точки зору ЗП і чи суттєва різниця на Ваш погляд для прийняття рішення про переїзд?"
   ]
  },
  {
   "cell_type": "code",
   "execution_count": 65,
   "id": "6f346847-957b-43bd-b274-d0b3aec0c39c",
   "metadata": {
    "execution": {
     "iopub.execute_input": "2024-11-13T15:47:56.894491Z",
     "iopub.status.busy": "2024-11-13T15:47:56.893999Z",
     "iopub.status.idle": "2024-11-13T15:47:56.901637Z",
     "shell.execute_reply": "2024-11-13T15:47:56.900128Z",
     "shell.execute_reply.started": "2024-11-13T15:47:56.894451Z"
    },
    "id": "96f7d7d9"
   },
   "outputs": [],
   "source": [
    "top5 = df['В якій області ви зараз живете?'].value_counts().head(10).index.tolist()"
   ]
  },
  {
   "cell_type": "code",
   "execution_count": 66,
   "id": "5f53e949-54d2-4797-b78f-994efc17fc5d",
   "metadata": {
    "execution": {
     "iopub.execute_input": "2024-11-13T15:47:57.724592Z",
     "iopub.status.busy": "2024-11-13T15:47:57.724115Z",
     "iopub.status.idle": "2024-11-13T15:47:57.772760Z",
     "shell.execute_reply": "2024-11-13T15:47:57.770988Z",
     "shell.execute_reply.started": "2024-11-13T15:47:57.724554Z"
    }
   },
   "outputs": [
    {
     "data": {
      "text/html": [
       "<div>\n",
       "<style scoped>\n",
       "    .dataframe tbody tr th:only-of-type {\n",
       "        vertical-align: middle;\n",
       "    }\n",
       "\n",
       "    .dataframe tbody tr th {\n",
       "        vertical-align: top;\n",
       "    }\n",
       "\n",
       "    .dataframe thead th {\n",
       "        text-align: right;\n",
       "    }\n",
       "</style>\n",
       "<table border=\"1\" class=\"dataframe\">\n",
       "  <thead>\n",
       "    <tr style=\"text-align: right;\">\n",
       "      <th></th>\n",
       "      <th>count</th>\n",
       "      <th>mean</th>\n",
       "      <th>std</th>\n",
       "      <th>min</th>\n",
       "      <th>25%</th>\n",
       "      <th>50%</th>\n",
       "      <th>75%</th>\n",
       "      <th>max</th>\n",
       "    </tr>\n",
       "    <tr>\n",
       "      <th>В якій області ви зараз живете?</th>\n",
       "      <th></th>\n",
       "      <th></th>\n",
       "      <th></th>\n",
       "      <th></th>\n",
       "      <th></th>\n",
       "      <th></th>\n",
       "      <th></th>\n",
       "      <th></th>\n",
       "    </tr>\n",
       "  </thead>\n",
       "  <tbody>\n",
       "    <tr>\n",
       "      <th>Київ чи область</th>\n",
       "      <td>4411.0</td>\n",
       "      <td>3141.810209</td>\n",
       "      <td>2039.859712</td>\n",
       "      <td>80.0</td>\n",
       "      <td>1500.0</td>\n",
       "      <td>2800.0</td>\n",
       "      <td>4500.0</td>\n",
       "      <td>16000.0</td>\n",
       "    </tr>\n",
       "    <tr>\n",
       "      <th>Львів чи область</th>\n",
       "      <td>2353.0</td>\n",
       "      <td>3121.441751</td>\n",
       "      <td>2102.721295</td>\n",
       "      <td>150.0</td>\n",
       "      <td>1375.0</td>\n",
       "      <td>2700.0</td>\n",
       "      <td>4500.0</td>\n",
       "      <td>14000.0</td>\n",
       "    </tr>\n",
       "    <tr>\n",
       "      <th>Дніпро чи область</th>\n",
       "      <td>751.0</td>\n",
       "      <td>2582.584554</td>\n",
       "      <td>1864.711284</td>\n",
       "      <td>100.0</td>\n",
       "      <td>1025.0</td>\n",
       "      <td>2000.0</td>\n",
       "      <td>3600.0</td>\n",
       "      <td>12000.0</td>\n",
       "    </tr>\n",
       "    <tr>\n",
       "      <th>Івано-Франківськ чи область</th>\n",
       "      <td>478.0</td>\n",
       "      <td>2705.257322</td>\n",
       "      <td>1905.673385</td>\n",
       "      <td>200.0</td>\n",
       "      <td>1200.0</td>\n",
       "      <td>2372.5</td>\n",
       "      <td>3775.0</td>\n",
       "      <td>12436.0</td>\n",
       "    </tr>\n",
       "    <tr>\n",
       "      <th>Вінниця чи область</th>\n",
       "      <td>447.0</td>\n",
       "      <td>2888.306085</td>\n",
       "      <td>1902.668331</td>\n",
       "      <td>100.0</td>\n",
       "      <td>1300.0</td>\n",
       "      <td>2612.0</td>\n",
       "      <td>4100.0</td>\n",
       "      <td>11675.0</td>\n",
       "    </tr>\n",
       "    <tr>\n",
       "      <th>Одеса чи область</th>\n",
       "      <td>443.0</td>\n",
       "      <td>2516.826185</td>\n",
       "      <td>1664.201738</td>\n",
       "      <td>200.0</td>\n",
       "      <td>1200.0</td>\n",
       "      <td>2200.0</td>\n",
       "      <td>3500.0</td>\n",
       "      <td>12000.0</td>\n",
       "    </tr>\n",
       "    <tr>\n",
       "      <th>Харків чи область</th>\n",
       "      <td>355.0</td>\n",
       "      <td>2363.633803</td>\n",
       "      <td>1760.414833</td>\n",
       "      <td>50.0</td>\n",
       "      <td>1000.0</td>\n",
       "      <td>1800.0</td>\n",
       "      <td>3450.0</td>\n",
       "      <td>11000.0</td>\n",
       "    </tr>\n",
       "    <tr>\n",
       "      <th>Полтава чи область</th>\n",
       "      <td>252.0</td>\n",
       "      <td>2518.920635</td>\n",
       "      <td>1949.421132</td>\n",
       "      <td>100.0</td>\n",
       "      <td>1075.0</td>\n",
       "      <td>2000.0</td>\n",
       "      <td>3400.0</td>\n",
       "      <td>10900.0</td>\n",
       "    </tr>\n",
       "    <tr>\n",
       "      <th>Черкаси чи область</th>\n",
       "      <td>232.0</td>\n",
       "      <td>2651.034483</td>\n",
       "      <td>1849.484805</td>\n",
       "      <td>300.0</td>\n",
       "      <td>1087.5</td>\n",
       "      <td>2200.0</td>\n",
       "      <td>3887.5</td>\n",
       "      <td>8500.0</td>\n",
       "    </tr>\n",
       "    <tr>\n",
       "      <th>Хмельницький чи область</th>\n",
       "      <td>230.0</td>\n",
       "      <td>2674.479391</td>\n",
       "      <td>2053.040784</td>\n",
       "      <td>200.0</td>\n",
       "      <td>900.0</td>\n",
       "      <td>2200.0</td>\n",
       "      <td>4037.5</td>\n",
       "      <td>9500.0</td>\n",
       "    </tr>\n",
       "  </tbody>\n",
       "</table>\n",
       "</div>"
      ],
      "text/plain": [
       "                                  count         mean          std    min  \\\n",
       "В якій області ви зараз живете?                                            \n",
       "Київ чи область                  4411.0  3141.810209  2039.859712   80.0   \n",
       "Львів чи область                 2353.0  3121.441751  2102.721295  150.0   \n",
       "Дніпро чи область                 751.0  2582.584554  1864.711284  100.0   \n",
       "Івано-Франківськ чи область       478.0  2705.257322  1905.673385  200.0   \n",
       "Вінниця чи область                447.0  2888.306085  1902.668331  100.0   \n",
       "Одеса чи область                  443.0  2516.826185  1664.201738  200.0   \n",
       "Харків чи область                 355.0  2363.633803  1760.414833   50.0   \n",
       "Полтава чи область                252.0  2518.920635  1949.421132  100.0   \n",
       "Черкаси чи область                232.0  2651.034483  1849.484805  300.0   \n",
       "Хмельницький чи область           230.0  2674.479391  2053.040784  200.0   \n",
       "\n",
       "                                    25%     50%     75%      max  \n",
       "В якій області ви зараз живете?                                   \n",
       "Київ чи область                  1500.0  2800.0  4500.0  16000.0  \n",
       "Львів чи область                 1375.0  2700.0  4500.0  14000.0  \n",
       "Дніпро чи область                1025.0  2000.0  3600.0  12000.0  \n",
       "Івано-Франківськ чи область      1200.0  2372.5  3775.0  12436.0  \n",
       "Вінниця чи область               1300.0  2612.0  4100.0  11675.0  \n",
       "Одеса чи область                 1200.0  2200.0  3500.0  12000.0  \n",
       "Харків чи область                1000.0  1800.0  3450.0  11000.0  \n",
       "Полтава чи область               1075.0  2000.0  3400.0  10900.0  \n",
       "Черкаси чи область               1087.5  2200.0  3887.5   8500.0  \n",
       "Хмельницький чи область           900.0  2200.0  4037.5   9500.0  "
      ]
     },
     "execution_count": 66,
     "metadata": {},
     "output_type": "execute_result"
    }
   ],
   "source": [
    "df_filtered = df.query('`В якій області ви зараз живете?` in @top5') # ось це прям топ!!! дізналась, що можна такі запити писати, і для цих пекельних колонок з пробілами обовʼязкові зворотні лапки\n",
    "salary_description = df_filtered.groupby('В якій області ви зараз живете?')['Зарплата у $$$ за місяць, лише ставка після сплати податків'].describe().sort_values(by='count', ascending=False)\n",
    "salary_description"
   ]
  },
  {
   "cell_type": "markdown",
   "id": "cb5bbc39-91b7-4c4d-a3a8-bcf8aab93607",
   "metadata": {},
   "source": [
    "Висновок: якщо маєш своє житло, то треба дивитись на різницю у зарплаті, можливо, воно того не варте. та можна здавати власне і знімати деінде це трохи цікавіше. Однзначної відповіді немає. Окрім грошей існують інші фактори: сімʼя, друзі, власні адаптивні навички.. тощо "
   ]
  },
  {
   "cell_type": "code",
   "execution_count": 27,
   "id": "3ec2a392-8507-4e09-84c7-a4d735677775",
   "metadata": {
    "execution": {
     "iopub.execute_input": "2024-11-13T14:36:18.289736Z",
     "iopub.status.busy": "2024-11-13T14:36:18.289327Z",
     "iopub.status.idle": "2024-11-13T14:36:18.302312Z",
     "shell.execute_reply": "2024-11-13T14:36:18.301255Z",
     "shell.execute_reply.started": "2024-11-13T14:36:18.289703Z"
    }
   },
   "outputs": [
    {
     "data": {
      "text/html": [
       "<div>\n",
       "<style scoped>\n",
       "    .dataframe tbody tr th:only-of-type {\n",
       "        vertical-align: middle;\n",
       "    }\n",
       "\n",
       "    .dataframe tbody tr th {\n",
       "        vertical-align: top;\n",
       "    }\n",
       "\n",
       "    .dataframe thead th {\n",
       "        text-align: right;\n",
       "    }\n",
       "</style>\n",
       "<table border=\"1\" class=\"dataframe\">\n",
       "  <thead>\n",
       "    <tr style=\"text-align: right;\">\n",
       "      <th></th>\n",
       "      <th>Загальний стаж роботи за спеціальністю</th>\n",
       "      <th>count</th>\n",
       "    </tr>\n",
       "  </thead>\n",
       "  <tbody>\n",
       "    <tr>\n",
       "      <th>0</th>\n",
       "      <td>3 роки</td>\n",
       "      <td>1608</td>\n",
       "    </tr>\n",
       "    <tr>\n",
       "      <th>1</th>\n",
       "      <td>4 роки</td>\n",
       "      <td>1447</td>\n",
       "    </tr>\n",
       "    <tr>\n",
       "      <th>2</th>\n",
       "      <td>2 роки</td>\n",
       "      <td>1427</td>\n",
       "    </tr>\n",
       "    <tr>\n",
       "      <th>3</th>\n",
       "      <td>5 років</td>\n",
       "      <td>1351</td>\n",
       "    </tr>\n",
       "    <tr>\n",
       "      <th>4</th>\n",
       "      <td>1,5 року</td>\n",
       "      <td>1056</td>\n",
       "    </tr>\n",
       "    <tr>\n",
       "      <th>5</th>\n",
       "      <td>6 років</td>\n",
       "      <td>982</td>\n",
       "    </tr>\n",
       "    <tr>\n",
       "      <th>6</th>\n",
       "      <td>1 рік</td>\n",
       "      <td>922</td>\n",
       "    </tr>\n",
       "    <tr>\n",
       "      <th>7</th>\n",
       "      <td>7 років</td>\n",
       "      <td>791</td>\n",
       "    </tr>\n",
       "    <tr>\n",
       "      <th>8</th>\n",
       "      <td>10 років</td>\n",
       "      <td>599</td>\n",
       "    </tr>\n",
       "    <tr>\n",
       "      <th>9</th>\n",
       "      <td>15 і більше років</td>\n",
       "      <td>586</td>\n",
       "    </tr>\n",
       "    <tr>\n",
       "      <th>10</th>\n",
       "      <td>8 років</td>\n",
       "      <td>529</td>\n",
       "    </tr>\n",
       "    <tr>\n",
       "      <th>11</th>\n",
       "      <td>Пів року</td>\n",
       "      <td>457</td>\n",
       "    </tr>\n",
       "    <tr>\n",
       "      <th>12</th>\n",
       "      <td>Менше як 3 місяці</td>\n",
       "      <td>434</td>\n",
       "    </tr>\n",
       "    <tr>\n",
       "      <th>13</th>\n",
       "      <td>9 років</td>\n",
       "      <td>336</td>\n",
       "    </tr>\n",
       "    <tr>\n",
       "      <th>14</th>\n",
       "      <td>11 років</td>\n",
       "      <td>233</td>\n",
       "    </tr>\n",
       "    <tr>\n",
       "      <th>15</th>\n",
       "      <td>12 років</td>\n",
       "      <td>206</td>\n",
       "    </tr>\n",
       "    <tr>\n",
       "      <th>16</th>\n",
       "      <td>3 місяці</td>\n",
       "      <td>158</td>\n",
       "    </tr>\n",
       "    <tr>\n",
       "      <th>17</th>\n",
       "      <td>13 років</td>\n",
       "      <td>97</td>\n",
       "    </tr>\n",
       "    <tr>\n",
       "      <th>18</th>\n",
       "      <td>14 років</td>\n",
       "      <td>96</td>\n",
       "    </tr>\n",
       "  </tbody>\n",
       "</table>\n",
       "</div>"
      ],
      "text/plain": [
       "   Загальний стаж роботи за спеціальністю  count\n",
       "0                                  3 роки   1608\n",
       "1                                  4 роки   1447\n",
       "2                                  2 роки   1427\n",
       "3                                 5 років   1351\n",
       "4                                1,5 року   1056\n",
       "5                                 6 років    982\n",
       "6                                   1 рік    922\n",
       "7                                 7 років    791\n",
       "8                                10 років    599\n",
       "9                       15 і більше років    586\n",
       "10                                8 років    529\n",
       "11                               Пів року    457\n",
       "12                      Менше як 3 місяці    434\n",
       "13                                9 років    336\n",
       "14                               11 років    233\n",
       "15                               12 років    206\n",
       "16                               3 місяці    158\n",
       "17                               13 років     97\n",
       "18                               14 років     96"
      ]
     },
     "execution_count": 27,
     "metadata": {},
     "output_type": "execute_result"
    }
   ],
   "source": [
    "df['Загальний стаж роботи за спеціальністю'].value_counts().reset_index()"
   ]
  },
  {
   "cell_type": "markdown",
   "id": "3bc4a018",
   "metadata": {
    "id": "3bc4a018"
   },
   "source": [
    "14. Як зростає зарплата з роками? Для цього нам треба відформатувати колонку \"Загальний стаж роботи за спеціальністю\" аналогічно до того, як ми це робили для колонки 'Знання англійської мови' і потім вивести медіанні значення для кількості років стажу."
   ]
  },
  {
   "cell_type": "code",
   "execution_count": 28,
   "id": "20c1b2eb",
   "metadata": {
    "execution": {
     "iopub.execute_input": "2024-11-13T14:36:20.266119Z",
     "iopub.status.busy": "2024-11-13T14:36:20.265649Z",
     "iopub.status.idle": "2024-11-13T14:36:20.275080Z",
     "shell.execute_reply": "2024-11-13T14:36:20.273824Z",
     "shell.execute_reply.started": "2024-11-13T14:36:20.266080Z"
    },
    "id": "20c1b2eb"
   },
   "outputs": [],
   "source": [
    "df['Загальний стаж роботи за спеціальністю'] = pd.Categorical(df['Загальний стаж роботи за спеціальністю'],\n",
    "                      categories=['Менше як 3 місяці', '3 місяці', 'Пів року', '1 рік', '1,5 року','2 роки',\n",
    "                                  '3 роки','4 роки', '5 років', '6 років', '7 років', '8 років',\n",
    "                                  '9 років', '10 років', '11 років', '12 років', '13 років', '14 років', '15 і більше років'],\n",
    "                      ordered=True)"
   ]
  },
  {
   "cell_type": "code",
   "execution_count": 49,
   "id": "5038355c-6bde-4b79-8cb7-45fedbb1b3e3",
   "metadata": {
    "execution": {
     "iopub.execute_input": "2024-11-13T14:50:25.834635Z",
     "iopub.status.busy": "2024-11-13T14:50:25.834158Z",
     "iopub.status.idle": "2024-11-13T14:50:25.845772Z",
     "shell.execute_reply": "2024-11-13T14:50:25.844631Z",
     "shell.execute_reply.started": "2024-11-13T14:50:25.834595Z"
    }
   },
   "outputs": [],
   "source": [
    "year_salary_corr = df.groupby('Загальний стаж роботи за спеціальністю', observed=False)[['Зарплата у $$$ за місяць, лише ставка після сплати податків']].median().sort_values(by='Зарплата у $$$ за місяць, лише ставка після сплати податків').reset_index()"
   ]
  },
  {
   "cell_type": "code",
   "execution_count": 57,
   "id": "f89f0a0d-9c10-46e0-a2da-39d64c47316a",
   "metadata": {
    "execution": {
     "iopub.execute_input": "2024-11-13T14:57:33.310670Z",
     "iopub.status.busy": "2024-11-13T14:57:33.310056Z",
     "iopub.status.idle": "2024-11-13T14:57:33.556808Z",
     "shell.execute_reply": "2024-11-13T14:57:33.556128Z",
     "shell.execute_reply.started": "2024-11-13T14:57:33.310628Z"
    }
   },
   "outputs": [
    {
     "data": {
      "image/png": "[encoded data removed]",
      "text/plain": [
       "<Figure size 640x480 with 1 Axes>"
      ]
     },
     "metadata": {},
     "output_type": "display_data"
    }
   ],
   "source": [
    "sns.barplot(x='Зарплата у $$$ за місяць, лише ставка після сплати податків', y='Загальний стаж роботи за спеціальністю', data=year_salary_corr)\n",
    "plt.title('Розподіл зарплати за роками стажу')\n",
    "plt.xlabel('Зарплата')\n",
    "plt.ylabel('Роки стажу')\n",
    "plt.show()"
   ]
  },
  {
   "cell_type": "code",
   "execution_count": 38,
   "id": "f95b6614-d259-4680-a14d-07296bbb4e39",
   "metadata": {
    "execution": {
     "iopub.execute_input": "2024-11-13T14:40:35.038019Z",
     "iopub.status.busy": "2024-11-13T14:40:35.037595Z",
     "iopub.status.idle": "2024-11-13T14:40:35.061813Z",
     "shell.execute_reply": "2024-11-13T14:40:35.060967Z",
     "shell.execute_reply.started": "2024-11-13T14:40:35.037987Z"
    }
   },
   "outputs": [
    {
     "data": {
      "text/html": [
       "<div>\n",
       "<style scoped>\n",
       "    .dataframe tbody tr th:only-of-type {\n",
       "        vertical-align: middle;\n",
       "    }\n",
       "\n",
       "    .dataframe tbody tr th {\n",
       "        vertical-align: top;\n",
       "    }\n",
       "\n",
       "    .dataframe thead th {\n",
       "        text-align: right;\n",
       "    }\n",
       "</style>\n",
       "<table border=\"1\" class=\"dataframe\">\n",
       "  <thead>\n",
       "    <tr style=\"text-align: right;\">\n",
       "      <th>Загальний стаж роботи за спеціальністю</th>\n",
       "      <th>Менше як 3 місяці</th>\n",
       "      <th>3 місяці</th>\n",
       "      <th>Пів року</th>\n",
       "      <th>1 рік</th>\n",
       "      <th>1,5 року</th>\n",
       "      <th>2 роки</th>\n",
       "      <th>3 роки</th>\n",
       "      <th>4 роки</th>\n",
       "      <th>5 років</th>\n",
       "      <th>6 років</th>\n",
       "      <th>7 років</th>\n",
       "      <th>8 років</th>\n",
       "      <th>9 років</th>\n",
       "      <th>10 років</th>\n",
       "      <th>11 років</th>\n",
       "      <th>12 років</th>\n",
       "      <th>13 років</th>\n",
       "      <th>14 років</th>\n",
       "      <th>15 і більше років</th>\n",
       "    </tr>\n",
       "  </thead>\n",
       "  <tbody>\n",
       "    <tr>\n",
       "      <th>Зарплата у $$$ за місяць, лише ставка після сплати податків</th>\n",
       "      <td>800.0</td>\n",
       "      <td>525.0</td>\n",
       "      <td>700.0</td>\n",
       "      <td>950.0</td>\n",
       "      <td>1200.0</td>\n",
       "      <td>1700.0</td>\n",
       "      <td>2450.0</td>\n",
       "      <td>3000.0</td>\n",
       "      <td>3500.0</td>\n",
       "      <td>4000.0</td>\n",
       "      <td>4250.0</td>\n",
       "      <td>4700.0</td>\n",
       "      <td>4500.0</td>\n",
       "      <td>4600.0</td>\n",
       "      <td>5000.0</td>\n",
       "      <td>4750.0</td>\n",
       "      <td>4500.0</td>\n",
       "      <td>5050.0</td>\n",
       "      <td>4500.0</td>\n",
       "    </tr>\n",
       "  </tbody>\n",
       "</table>\n",
       "</div>"
      ],
      "text/plain": [
       "Загальний стаж роботи за спеціальністю              Менше як 3 місяці  \\\n",
       "Зарплата у $$$ за місяць, лише ставка після спл...              800.0   \n",
       "\n",
       "Загальний стаж роботи за спеціальністю              3 місяці  Пів року  1 рік  \\\n",
       "Зарплата у $$$ за місяць, лише ставка після спл...     525.0     700.0  950.0   \n",
       "\n",
       "Загальний стаж роботи за спеціальністю              1,5 року  2 роки  3 роки  \\\n",
       "Зарплата у $$$ за місяць, лише ставка після спл...    1200.0  1700.0  2450.0   \n",
       "\n",
       "Загальний стаж роботи за спеціальністю              4 роки  5 років  6 років  \\\n",
       "Зарплата у $$$ за місяць, лише ставка після спл...  3000.0   3500.0   4000.0   \n",
       "\n",
       "Загальний стаж роботи за спеціальністю              7 років  8 років  9 років  \\\n",
       "Зарплата у $$$ за місяць, лише ставка після спл...   4250.0   4700.0   4500.0   \n",
       "\n",
       "Загальний стаж роботи за спеціальністю              10 років  11 років  \\\n",
       "Зарплата у $$$ за місяць, лише ставка після спл...    4600.0    5000.0   \n",
       "\n",
       "Загальний стаж роботи за спеціальністю              12 років  13 років  \\\n",
       "Зарплата у $$$ за місяць, лише ставка після спл...    4750.0    4500.0   \n",
       "\n",
       "Загальний стаж роботи за спеціальністю              14 років  \\\n",
       "Зарплата у $$$ за місяць, лише ставка після спл...    5050.0   \n",
       "\n",
       "Загальний стаж роботи за спеціальністю              15 і більше років  \n",
       "Зарплата у $$$ за місяць, лише ставка після спл...             4500.0  "
      ]
     },
     "execution_count": 38,
     "metadata": {},
     "output_type": "execute_result"
    }
   ],
   "source": [
    "pd.pivot_table(df, columns='Загальний стаж роботи за спеціальністю', values='Зарплата у $$$ за місяць, лише ставка після сплати податків', aggfunc='median', observed=True)\n",
    "\n"
   ]
  },
  {
   "cell_type": "markdown",
   "id": "b14a10ee",
   "metadata": {
    "id": "b14a10ee"
   },
   "source": [
    "Однозначно виводити результати в таблиці геть не так інформативно як на графіку."
   ]
  }
 ],
 "metadata": {
  "colab": {
   "provenance": []
  },
  "kernelspec": {
   "display_name": "Python (myenv)",
   "language": "python",
   "name": "myenv"
  },
  "language_info": {
   "codemirror_mode": {
    "name": "ipython",
    "version": 3
   },
   "file_extension": ".py",
   "mimetype": "text/x-python",
   "name": "python",
   "nbconvert_exporter": "python",
   "pygments_lexer": "ipython3",
   "version": "3.11.1"
  },
  "toc": {
   "base_numbering": 1,
   "nav_menu": {},
   "number_sections": true,
   "sideBar": true,
   "skip_h1_title": false,
   "title_cell": "Table of Contents",
   "title_sidebar": "Contents",
   "toc_cell": false,
   "toc_position": {},
   "toc_section_display": true,
   "toc_window_display": false
  }
 },
 "nbformat": 4,
 "nbformat_minor": 5
}
