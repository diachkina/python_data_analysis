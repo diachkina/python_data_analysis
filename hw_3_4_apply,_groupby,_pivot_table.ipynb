{
 "cells": [
  {
   "cell_type": "markdown",
   "metadata": {
    "id": "LwNpAFw_eTF3"
   },
   "source": [
    "#Домашнє завдання до тем apply(), groupby(), pivot_table()"
   ]
  },
  {
   "cell_type": "markdown",
   "metadata": {
    "id": "vP2PEJyq8Yrj"
   },
   "source": [
    "В цьому домашньому завданні продовжуємо працювати з набором даних `supermarket_sales.csv`."
   ]
  },
  {
   "cell_type": "markdown",
   "metadata": {
    "id": "dh9lfpDb8gBL"
   },
   "source": [
    "0. Імпортуйте бібліотеку pandas та зчитайте дані у змінну `df` типу `pandas.DataFrame`."
   ]
  },
  {
   "cell_type": "code",
   "execution_count": 2,
   "metadata": {
    "execution": {
     "iopub.execute_input": "2024-08-14T14:22:05.515683Z",
     "iopub.status.busy": "2024-08-14T14:22:05.515047Z",
     "iopub.status.idle": "2024-08-14T14:22:05.521828Z",
     "shell.execute_reply": "2024-08-14T14:22:05.520152Z",
     "shell.execute_reply.started": "2024-08-14T14:22:05.515629Z"
    },
    "id": "xBI9gJMK8qnl"
   },
   "outputs": [],
   "source": [
    "import pandas as pd"
   ]
  },
  {
   "cell_type": "code",
   "execution_count": 4,
   "metadata": {
    "execution": {
     "iopub.execute_input": "2024-08-14T14:23:37.969132Z",
     "iopub.status.busy": "2024-08-14T14:23:37.968643Z",
     "iopub.status.idle": "2024-08-14T14:23:37.988213Z",
     "shell.execute_reply": "2024-08-14T14:23:37.987268Z",
     "shell.execute_reply.started": "2024-08-14T14:23:37.969094Z"
    }
   },
   "outputs": [],
   "source": [
    "df = pd.read_csv('../Data/supermarket_sales.csv')"
   ]
  },
  {
   "cell_type": "code",
   "execution_count": 111,
   "metadata": {
    "execution": {
     "iopub.execute_input": "2024-08-16T10:08:23.290201Z",
     "iopub.status.busy": "2024-08-16T10:08:23.289167Z",
     "iopub.status.idle": "2024-08-16T10:08:23.313894Z",
     "shell.execute_reply": "2024-08-16T10:08:23.311381Z",
     "shell.execute_reply.started": "2024-08-16T10:08:23.290095Z"
    }
   },
   "outputs": [
    {
     "data": {
      "text/plain": [
       "Index(['Invoice ID', 'Branch', 'City', 'Customer type', 'Gender',\n",
       "       'Product line', 'Unit price', 'Quantity', 'Tax 5%', 'Total', 'Date',\n",
       "       'Time', 'Payment', 'cogs', 'gross margin percentage', 'gross income',\n",
       "       'Rating', 'Day_of_week'],\n",
       "      dtype='object')"
      ]
     },
     "execution_count": 111,
     "metadata": {},
     "output_type": "execute_result"
    }
   ],
   "source": [
    "df.columns"
   ]
  },
  {
   "cell_type": "markdown",
   "metadata": {
    "id": "28638363"
   },
   "source": [
    "1. Дослідимо, який філіал супермаркету ('Branch') є найприбутковішим. Для цього знайдіть сумарний прибуток за кожним філіалом і виявіть, який філіал має найвищий."
   ]
  },
  {
   "cell_type": "code",
   "execution_count": 62,
   "metadata": {
    "ExecuteTime": {
     "end_time": "2022-11-01T17:27:42.023877Z",
     "start_time": "2022-11-01T17:27:42.020277Z"
    },
    "execution": {
     "iopub.execute_input": "2024-08-14T21:55:04.692709Z",
     "iopub.status.busy": "2024-08-14T21:55:04.692372Z",
     "iopub.status.idle": "2024-08-14T21:55:04.705693Z",
     "shell.execute_reply": "2024-08-14T21:55:04.704594Z",
     "shell.execute_reply.started": "2024-08-14T21:55:04.692684Z"
    },
    "id": "916d731d"
   },
   "outputs": [
    {
     "data": {
      "text/html": [
       "<div>\n",
       "<style scoped>\n",
       "    .dataframe tbody tr th:only-of-type {\n",
       "        vertical-align: middle;\n",
       "    }\n",
       "\n",
       "    .dataframe tbody tr th {\n",
       "        vertical-align: top;\n",
       "    }\n",
       "\n",
       "    .dataframe thead th {\n",
       "        text-align: right;\n",
       "    }\n",
       "</style>\n",
       "<table border=\"1\" class=\"dataframe\">\n",
       "  <thead>\n",
       "    <tr style=\"text-align: right;\">\n",
       "      <th></th>\n",
       "      <th>gross income</th>\n",
       "      <th>City</th>\n",
       "    </tr>\n",
       "    <tr>\n",
       "      <th>Branch</th>\n",
       "      <th></th>\n",
       "      <th></th>\n",
       "    </tr>\n",
       "  </thead>\n",
       "  <tbody>\n",
       "    <tr>\n",
       "      <th>A</th>\n",
       "      <td>5057.1605</td>\n",
       "      <td>Yangon</td>\n",
       "    </tr>\n",
       "    <tr>\n",
       "      <th>B</th>\n",
       "      <td>5057.0320</td>\n",
       "      <td>Mandalay</td>\n",
       "    </tr>\n",
       "    <tr>\n",
       "      <th>C</th>\n",
       "      <td>5265.1765</td>\n",
       "      <td>Naypyitaw</td>\n",
       "    </tr>\n",
       "  </tbody>\n",
       "</table>\n",
       "</div>"
      ],
      "text/plain": [
       "        gross income       City\n",
       "Branch                         \n",
       "A          5057.1605     Yangon\n",
       "B          5057.0320   Mandalay\n",
       "C          5265.1765  Naypyitaw"
      ]
     },
     "execution_count": 62,
     "metadata": {},
     "output_type": "execute_result"
    }
   ],
   "source": [
    "branches = df.groupby('Branch')\n",
    "branches_income = branches[['gross income', 'City']].agg({'gross income':'sum', 'City': 'first'})\n",
    "branches_income"
   ]
  },
  {
   "cell_type": "markdown",
   "metadata": {
    "id": "2qL_OddUCZKK"
   },
   "source": [
    "2. В якому місті знайходиться філіал з найвищим прибутком? Може в тому місці нам розмітисти ще один магазин.  \n",
    "Знайдіть відповідь за допомогою функціоналу Pandas."
   ]
  },
  {
   "cell_type": "markdown",
   "metadata": {},
   "source": [
    "За попередніми розрахунками знаємо, що в Naypyitaw живе більш платоспроможне населення. Люди частіше купують товари з дорогого сегменту, середній чек вищий. \n",
    "Про ще один магазин:\n",
    "цікаво, але як розраховують доцільність ще одного магазину? може ті самі клієнти просто розділяться між двома? чи так не буває?"
   ]
  },
  {
   "cell_type": "markdown",
   "metadata": {
    "id": "6dec795f"
   },
   "source": [
    "3.1. Створіть зводну таблицю, яка покаже, скільки покупок (інвойсів) було зроблено в кожній з філій (`Branch`) за різними категоріями товарів. Запишіть таблицю в змінну `invoices_by_category` і виведіть змінну на екран.\n",
    "Ця таблиця допоможе проаналізувати, в якій філії купують найбільше товарів кожної з категорій."
   ]
  },
  {
   "cell_type": "code",
   "execution_count": 120,
   "metadata": {
    "execution": {
     "iopub.execute_input": "2024-08-16T21:11:16.998516Z",
     "iopub.status.busy": "2024-08-16T21:11:16.997986Z",
     "iopub.status.idle": "2024-08-16T21:11:17.082974Z",
     "shell.execute_reply": "2024-08-16T21:11:17.079490Z",
     "shell.execute_reply.started": "2024-08-16T21:11:16.998477Z"
    },
    "id": "N7TfUBf4ZrkX"
   },
   "outputs": [
    {
     "data": {
      "text/html": [
       "<div>\n",
       "<style scoped>\n",
       "    .dataframe tbody tr th:only-of-type {\n",
       "        vertical-align: middle;\n",
       "    }\n",
       "\n",
       "    .dataframe tbody tr th {\n",
       "        vertical-align: top;\n",
       "    }\n",
       "\n",
       "    .dataframe thead th {\n",
       "        text-align: right;\n",
       "    }\n",
       "</style>\n",
       "<table border=\"1\" class=\"dataframe\">\n",
       "  <thead>\n",
       "    <tr style=\"text-align: right;\">\n",
       "      <th>Product line</th>\n",
       "      <th>Electronic accessories</th>\n",
       "      <th>Fashion accessories</th>\n",
       "      <th>Food and beverages</th>\n",
       "      <th>Health and beauty</th>\n",
       "      <th>Home and lifestyle</th>\n",
       "      <th>Sports and travel</th>\n",
       "    </tr>\n",
       "    <tr>\n",
       "      <th>Branch</th>\n",
       "      <th></th>\n",
       "      <th></th>\n",
       "      <th></th>\n",
       "      <th></th>\n",
       "      <th></th>\n",
       "      <th></th>\n",
       "    </tr>\n",
       "  </thead>\n",
       "  <tbody>\n",
       "    <tr>\n",
       "      <th>A</th>\n",
       "      <td>60</td>\n",
       "      <td>51</td>\n",
       "      <td>58</td>\n",
       "      <td>47</td>\n",
       "      <td>65</td>\n",
       "      <td>59</td>\n",
       "    </tr>\n",
       "    <tr>\n",
       "      <th>B</th>\n",
       "      <td>55</td>\n",
       "      <td>62</td>\n",
       "      <td>50</td>\n",
       "      <td>53</td>\n",
       "      <td>50</td>\n",
       "      <td>62</td>\n",
       "    </tr>\n",
       "    <tr>\n",
       "      <th>C</th>\n",
       "      <td>55</td>\n",
       "      <td>65</td>\n",
       "      <td>66</td>\n",
       "      <td>52</td>\n",
       "      <td>45</td>\n",
       "      <td>45</td>\n",
       "    </tr>\n",
       "  </tbody>\n",
       "</table>\n",
       "</div>"
      ],
      "text/plain": [
       "Product line  Electronic accessories  Fashion accessories  Food and beverages  \\\n",
       "Branch                                                                          \n",
       "A                                 60                   51                  58   \n",
       "B                                 55                   62                  50   \n",
       "C                                 55                   65                  66   \n",
       "\n",
       "Product line  Health and beauty  Home and lifestyle  Sports and travel  \n",
       "Branch                                                                  \n",
       "A                            47                  65                 59  \n",
       "B                            53                  50                 62  \n",
       "C                            52                  45                 45  "
      ]
     },
     "execution_count": 120,
     "metadata": {},
     "output_type": "execute_result"
    }
   ],
   "source": [
    "invoices_by_category = pd.pivot_table(df, index='Branch', columns='Product line', values='cogs', aggfunc='count')\n",
    "invoices_by_category\n",
    "# одразу зізнаюсь, що очікуваний результат вийшов в мене не прям, щоб свідомо. Спочатку я хотіла рахувати скільки А, В і С\n",
    "# і таким чином порахувати покупки. Та count не хотів рахувати str, я це зрозуміла і щоб подивитись на якому я світі\n",
    "# поставила рандомну цифрову колонку, і зʼясувала,що так теж можна. Але прям до кінця я не розібралась чому."
   ]
  },
  {
   "cell_type": "markdown",
   "metadata": {
    "ExecuteTime": {
     "end_time": "2022-11-01T16:50:46.961201Z",
     "start_time": "2022-11-01T16:50:46.955894Z"
    },
    "id": "f5bbfa34"
   },
   "source": [
    "Очікуваний результат:"
   ]
  },
  {
   "cell_type": "markdown",
   "metadata": {
    "id": "34b9bcdc"
   },
   "source": [
    "![](https://drive.google.com/uc?export=view&id=1rueAdko6S3UxIHGtojetTxlES-EyM6Yb)"
   ]
  },
  {
   "cell_type": "markdown",
   "metadata": {
    "id": "woygDEA0OSwJ"
   },
   "source": [
    "3.2. Викристовуючи змінну `invoices_by_category` дайте відповідь програмно (тобто значення треба не просто знайти очима, а вивести за допомогою коду), в якому філіалі магазину (`Branch`) найбільше інвойсів із покупкою товарів категорії \"Електронні аксесуари\" (`Electronic accessories`)?\n"
   ]
  },
  {
   "cell_type": "code",
   "execution_count": 87,
   "metadata": {
    "execution": {
     "iopub.execute_input": "2024-08-14T22:31:10.785995Z",
     "iopub.status.busy": "2024-08-14T22:31:10.785442Z",
     "iopub.status.idle": "2024-08-14T22:31:10.794557Z",
     "shell.execute_reply": "2024-08-14T22:31:10.793592Z",
     "shell.execute_reply.started": "2024-08-14T22:31:10.785958Z"
    },
    "id": "B5x8kTE-Qcq8"
   },
   "outputs": [
    {
     "data": {
      "text/plain": [
       "Index(['A'], dtype='object', name='Branch')"
      ]
     },
     "execution_count": 87,
     "metadata": {},
     "output_type": "execute_result"
    }
   ],
   "source": [
    "max_val = invoices_by_category['Electronic accessories'].max()\n",
    "invoices_by_category[invoices_by_category['Electronic accessories'] == max_val].index"
   ]
  },
  {
   "cell_type": "markdown",
   "metadata": {},
   "source": [
    "У філіалі А."
   ]
  },
  {
   "cell_type": "markdown",
   "metadata": {
    "ExecuteTime": {
     "end_time": "2022-11-01T17:56:02.981755Z",
     "start_time": "2022-11-01T17:56:02.977086Z"
    },
    "id": "d005a2b8"
   },
   "source": [
    "4-6. **Творче завдання на розвиток аналітичного мислення**\n",
    "\n",
    "Крок 1. Сформулюйте ТРИ питання (гіпотези) до наявних даних, які допомогли б вам зрозуміти, які користувачі що, де та коли найбільше/найменше купують, аби дати на основі цих гіпотез рекомендації бізнесу. Звісно питання мають бути не тими, на які ми вже відповіли в завданнях модулю.\n",
    "\n",
    "Крок 2. Знайдіть відповіді на свої питання з допомогою функціоналу pandas.\n",
    "\n",
    "Крок 3. Напишіть, як відповідь на це питання може бути використана для прийняття бізнес рішень.   \n",
    "   \n",
    " Питання можуть бути будь-якої складності, але їх має бути 3. Кожне питання оцінюється як 1 завдання. Без виконання цього завдання ДЗ не приймається. Якщо є питання щодо виконання - пишіть у чат 🙌\n"
   ]
  },
  {
   "cell_type": "markdown",
   "metadata": {
    "id": "cM3cApWSZuRX"
   },
   "source": [
    "4. Чи впливає день тижня на кільскість покупок?"
   ]
  },
  {
   "cell_type": "code",
   "execution_count": 88,
   "metadata": {
    "execution": {
     "iopub.execute_input": "2024-08-15T12:28:14.593745Z",
     "iopub.status.busy": "2024-08-15T12:28:14.591110Z",
     "iopub.status.idle": "2024-08-15T12:28:14.792645Z",
     "shell.execute_reply": "2024-08-15T12:28:14.790638Z",
     "shell.execute_reply.started": "2024-08-15T12:28:14.593677Z"
    }
   },
   "outputs": [],
   "source": [
    "df['Date'] = pd.to_datetime(df['Date'], format='%m/%d/%Y')"
   ]
  },
  {
   "cell_type": "code",
   "execution_count": 89,
   "metadata": {
    "execution": {
     "iopub.execute_input": "2024-08-15T12:29:33.625227Z",
     "iopub.status.busy": "2024-08-15T12:29:33.623068Z",
     "iopub.status.idle": "2024-08-15T12:29:33.648833Z",
     "shell.execute_reply": "2024-08-15T12:29:33.647677Z",
     "shell.execute_reply.started": "2024-08-15T12:29:33.625183Z"
    }
   },
   "outputs": [],
   "source": [
    "df['Day_of_week'] = df['Date'].dt.day_name()"
   ]
  },
  {
   "cell_type": "code",
   "execution_count": 97,
   "metadata": {
    "execution": {
     "iopub.execute_input": "2024-08-15T12:38:22.052358Z",
     "iopub.status.busy": "2024-08-15T12:38:22.051927Z",
     "iopub.status.idle": "2024-08-15T12:38:22.077740Z",
     "shell.execute_reply": "2024-08-15T12:38:22.077100Z",
     "shell.execute_reply.started": "2024-08-15T12:38:22.052323Z"
    }
   },
   "outputs": [
    {
     "data": {
      "text/html": [
       "<div>\n",
       "<style scoped>\n",
       "    .dataframe tbody tr th:only-of-type {\n",
       "        vertical-align: middle;\n",
       "    }\n",
       "\n",
       "    .dataframe tbody tr th {\n",
       "        vertical-align: top;\n",
       "    }\n",
       "\n",
       "    .dataframe thead th {\n",
       "        text-align: right;\n",
       "    }\n",
       "</style>\n",
       "<table border=\"1\" class=\"dataframe\">\n",
       "  <thead>\n",
       "    <tr style=\"text-align: right;\">\n",
       "      <th></th>\n",
       "      <th>Day_of_week</th>\n",
       "      <th>Num_of_purch</th>\n",
       "    </tr>\n",
       "  </thead>\n",
       "  <tbody>\n",
       "    <tr>\n",
       "      <th>2</th>\n",
       "      <td>Saturday</td>\n",
       "      <td>164</td>\n",
       "    </tr>\n",
       "    <tr>\n",
       "      <th>5</th>\n",
       "      <td>Tuesday</td>\n",
       "      <td>158</td>\n",
       "    </tr>\n",
       "    <tr>\n",
       "      <th>6</th>\n",
       "      <td>Wednesday</td>\n",
       "      <td>143</td>\n",
       "    </tr>\n",
       "    <tr>\n",
       "      <th>0</th>\n",
       "      <td>Friday</td>\n",
       "      <td>139</td>\n",
       "    </tr>\n",
       "    <tr>\n",
       "      <th>4</th>\n",
       "      <td>Thursday</td>\n",
       "      <td>138</td>\n",
       "    </tr>\n",
       "    <tr>\n",
       "      <th>3</th>\n",
       "      <td>Sunday</td>\n",
       "      <td>133</td>\n",
       "    </tr>\n",
       "    <tr>\n",
       "      <th>1</th>\n",
       "      <td>Monday</td>\n",
       "      <td>125</td>\n",
       "    </tr>\n",
       "  </tbody>\n",
       "</table>\n",
       "</div>"
      ],
      "text/plain": [
       "  Day_of_week  Num_of_purch\n",
       "2    Saturday           164\n",
       "5     Tuesday           158\n",
       "6   Wednesday           143\n",
       "0      Friday           139\n",
       "4    Thursday           138\n",
       "3      Sunday           133\n",
       "1      Monday           125"
      ]
     },
     "execution_count": 97,
     "metadata": {},
     "output_type": "execute_result"
    }
   ],
   "source": [
    "days_and_purchases = df.groupby('Day_of_week').size().reset_index(name='Num_of_purch')\n",
    "days_and_purchases.sort_values(by='Num_of_purch', ascending=False)"
   ]
  },
  {
   "cell_type": "markdown",
   "metadata": {},
   "source": [
    "Результати:\n",
    "- субота - найприбутковіший день(що не суперчить логіці), тож доцільно проводити якісь розпродажі чи акції саме в ций вихідний і на всі категорії товарів, бо люди приходять сімʼями (друзі тощо).\n",
    "  \n",
    "- трохи дивно за пʼятницю.. але може всі по барах із колегами-друзями тому і не дивно зовсім? в пятницю, щоб привабити клієнтів, має бути якась розвага, або напої в подарунок, для тих, кто купляє піцу та йде додому чи в гості.\n",
    "\n",
    "- понеділок - день важкий. Можна просто відчепитися від людей і не заманювати їх щось купити. А можна, типу \"всі козли, а ти бубочка. ходи сюди обійму. дивись, ось тобі горнятко кави і смаколик. легше? а тепер диви, шо в нас тут є:.....\""
   ]
  },
  {
   "cell_type": "markdown",
   "metadata": {},
   "source": [
    "5. Хто здійснює покупок більше: лояльні клієнти (з клієнтською карткою) чи інші? Чи є різниця по містах?"
   ]
  },
  {
   "cell_type": "code",
   "execution_count": 98,
   "metadata": {
    "execution": {
     "iopub.execute_input": "2024-08-16T08:40:06.231829Z",
     "iopub.status.busy": "2024-08-16T08:40:06.230503Z",
     "iopub.status.idle": "2024-08-16T08:40:06.330299Z",
     "shell.execute_reply": "2024-08-16T08:40:06.324707Z",
     "shell.execute_reply.started": "2024-08-16T08:40:06.231749Z"
    }
   },
   "outputs": [],
   "source": [
    "city_grouped = df.groupby('City')"
   ]
  },
  {
   "cell_type": "code",
   "execution_count": 102,
   "metadata": {
    "execution": {
     "iopub.execute_input": "2024-08-16T08:44:37.672660Z",
     "iopub.status.busy": "2024-08-16T08:44:37.671759Z",
     "iopub.status.idle": "2024-08-16T08:44:37.702686Z",
     "shell.execute_reply": "2024-08-16T08:44:37.700291Z",
     "shell.execute_reply.started": "2024-08-16T08:44:37.672617Z"
    }
   },
   "outputs": [
    {
     "data": {
      "text/plain": [
       "City       Customer type\n",
       "Mandalay   Normal           0.503012\n",
       "           Member           0.496988\n",
       "Naypyitaw  Member           0.515244\n",
       "           Normal           0.484756\n",
       "Yangon     Normal           0.508824\n",
       "           Member           0.491176\n",
       "Name: proportion, dtype: float64"
      ]
     },
     "execution_count": 102,
     "metadata": {},
     "output_type": "execute_result"
    }
   ],
   "source": [
    "city_grouped['Customer type'].value_counts(normalize=True)"
   ]
  },
  {
   "cell_type": "markdown",
   "metadata": {},
   "source": [
    "Результат:\n",
    "Клієнтами магазинів приблизно порівну є лояльні і звичайні.\n",
    "\n",
    "- можливо, програма лояльності не є цікавою, тому люди не бачать сенсу брати чергову картку, накопичувати бонуси тощо. Це питання можна досліджувати на основі даних про лояльних клієнтів, дивитись як часто вони купуть персональні рекомендовані позиції\n",
    "- зробити коротке опитування не членів програми лояльності безпосередньо в магазині і спитати чому, навряд половина людей разові клієнти проїздом.\n",
    "- чи є процес реєстрації легким? (особистий приклад: я відкладала отримання картки лояльності супермаркета півтора роки тому, що до реєстрації було 8-9 кроків, які всі написані нідерландською, а вибору мови в застосунку немає)\n",
    "- думаю, цей показник вартий уваги і вартий того, щоб збільшувати відсоток лояльних клієнтів тому, що вивчення поведінки клієнта дає більше інформації, в якому напрямку розвиватись, які нови пропозиції зацікавлять тощо.\n"
   ]
  },
  {
   "cell_type": "markdown",
   "metadata": {},
   "source": [
    "6. Чи впливає гендерний розподіл на кількість покупок в категорії і дохід?"
   ]
  },
  {
   "cell_type": "code",
   "execution_count": 107,
   "metadata": {
    "execution": {
     "iopub.execute_input": "2024-08-16T09:14:26.112119Z",
     "iopub.status.busy": "2024-08-16T09:14:26.111433Z",
     "iopub.status.idle": "2024-08-16T09:14:26.127753Z",
     "shell.execute_reply": "2024-08-16T09:14:26.126535Z",
     "shell.execute_reply.started": "2024-08-16T09:14:26.112077Z"
    }
   },
   "outputs": [],
   "source": [
    "q = pd.pivot_table(df, index='Gender', columns='Product line', values='Total', aggfunc='sum')"
   ]
  },
  {
   "cell_type": "code",
   "execution_count": 108,
   "metadata": {
    "execution": {
     "iopub.execute_input": "2024-08-16T09:14:42.290179Z",
     "iopub.status.busy": "2024-08-16T09:14:42.289732Z",
     "iopub.status.idle": "2024-08-16T09:14:42.307783Z",
     "shell.execute_reply": "2024-08-16T09:14:42.306818Z",
     "shell.execute_reply.started": "2024-08-16T09:14:42.290147Z"
    }
   },
   "outputs": [
    {
     "data": {
      "text/html": [
       "<div>\n",
       "<style scoped>\n",
       "    .dataframe tbody tr th:only-of-type {\n",
       "        vertical-align: middle;\n",
       "    }\n",
       "\n",
       "    .dataframe tbody tr th {\n",
       "        vertical-align: top;\n",
       "    }\n",
       "\n",
       "    .dataframe thead th {\n",
       "        text-align: right;\n",
       "    }\n",
       "</style>\n",
       "<table border=\"1\" class=\"dataframe\">\n",
       "  <thead>\n",
       "    <tr style=\"text-align: right;\">\n",
       "      <th>Product line</th>\n",
       "      <th>Electronic accessories</th>\n",
       "      <th>Fashion accessories</th>\n",
       "      <th>Food and beverages</th>\n",
       "      <th>Health and beauty</th>\n",
       "      <th>Home and lifestyle</th>\n",
       "      <th>Sports and travel</th>\n",
       "    </tr>\n",
       "    <tr>\n",
       "      <th>Gender</th>\n",
       "      <th></th>\n",
       "      <th></th>\n",
       "      <th></th>\n",
       "      <th></th>\n",
       "      <th></th>\n",
       "      <th></th>\n",
       "    </tr>\n",
       "  </thead>\n",
       "  <tbody>\n",
       "    <tr>\n",
       "      <th>Female</th>\n",
       "      <td>27102.0</td>\n",
       "      <td>30437.0</td>\n",
       "      <td>33171.0</td>\n",
       "      <td>18561.0</td>\n",
       "      <td>30037.0</td>\n",
       "      <td>28575.0</td>\n",
       "    </tr>\n",
       "    <tr>\n",
       "      <th>Male</th>\n",
       "      <td>27236.0</td>\n",
       "      <td>23868.0</td>\n",
       "      <td>22974.0</td>\n",
       "      <td>30633.0</td>\n",
       "      <td>23825.0</td>\n",
       "      <td>26548.0</td>\n",
       "    </tr>\n",
       "  </tbody>\n",
       "</table>\n",
       "</div>"
      ],
      "text/plain": [
       "Product line  Electronic accessories  Fashion accessories  Food and beverages  \\\n",
       "Gender                                                                          \n",
       "Female                       27102.0              30437.0             33171.0   \n",
       "Male                         27236.0              23868.0             22974.0   \n",
       "\n",
       "Product line  Health and beauty  Home and lifestyle  Sports and travel  \n",
       "Gender                                                                  \n",
       "Female                  18561.0             30037.0            28575.0  \n",
       "Male                    30633.0             23825.0            26548.0  "
      ]
     },
     "execution_count": 108,
     "metadata": {},
     "output_type": "execute_result"
    }
   ],
   "source": [
    "q.round(2)"
   ]
  },
  {
   "cell_type": "code",
   "execution_count": 118,
   "metadata": {
    "execution": {
     "iopub.execute_input": "2024-08-16T20:49:12.740982Z",
     "iopub.status.busy": "2024-08-16T20:49:12.739826Z",
     "iopub.status.idle": "2024-08-16T20:49:12.752911Z",
     "shell.execute_reply": "2024-08-16T20:49:12.751380Z",
     "shell.execute_reply.started": "2024-08-16T20:49:12.740925Z"
    }
   },
   "outputs": [
    {
     "data": {
      "text/plain": [
       "np.float64(30632.7525)"
      ]
     },
     "execution_count": 118,
     "metadata": {},
     "output_type": "execute_result"
    }
   ],
   "source": [
    "q = (df.Gender == \"Male\") & (df['Product line'] == \"Health and beauty\")\n",
    "df[q].Total.sum()\n",
    "\n",
    "# це я себе перевірила"
   ]
  },
  {
   "cell_type": "markdown",
   "metadata": {},
   "source": [
    "Результат:\n",
    "співвідношення по доходу виявилось неочікуваним у категорії Health and beauty. Я дивуюся і чесно не розумію як так?!\n",
    "\n",
    "Висновки:\n",
    "- можливо, асортимент Health and beauty не релевантний потребам клієнток. А те, що є, здебільшого беруть чоловіки, бо менш прискіпливі у виборі.\n",
    "Ця категорія закривається клієнтками в іншому магазині, можливо спеціалізованому. Актуалізувати асортимент відповідно до тенденцій. Провести прицільну рекламну кампанію і акції, щоб розказати клієнткам про новинки, і як же зручно, що нікуде більше йти не треба.\n",
    "- категорія Food and beverages не здивувала. Можна пробувати заохочувати до покупок чоловіків, але чи теба?😏"
   ]
  },
  {
   "cell_type": "code",
   "execution_count": null,
   "metadata": {},
   "outputs": [],
   "source": []
  }
 ],
 "metadata": {
  "colab": {
   "provenance": []
  },
  "kernelspec": {
   "display_name": "Python 3 (ipykernel)",
   "language": "python",
   "name": "python3"
  },
  "language_info": {
   "codemirror_mode": {
    "name": "ipython",
    "version": 3
   },
   "file_extension": ".py",
   "mimetype": "text/x-python",
   "name": "python",
   "nbconvert_exporter": "python",
   "pygments_lexer": "ipython3",
   "version": "3.11.1"
  }
 },
 "nbformat": 4,
 "nbformat_minor": 4
}
