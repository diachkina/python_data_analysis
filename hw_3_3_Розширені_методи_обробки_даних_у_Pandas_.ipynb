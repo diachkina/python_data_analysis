{
 "cells": [
  {
   "cell_type": "markdown",
   "metadata": {
    "id": "wF6xe36Osbxi"
   },
   "source": [
    "# Домашнє завдання до теми \"Розширені методи обробки даних у Pandas\""
   ]
  },
  {
   "cell_type": "markdown",
   "metadata": {
    "id": "Fa2CIJElO3L3"
   },
   "source": [
    "В цьому домашньому завданні продовжуємо працювати з набором даних `supermarket_sales.csv`."
   ]
  },
  {
   "cell_type": "markdown",
   "metadata": {
    "id": "z0F_6xB-DQi7"
   },
   "source": [
    "0. Імпортуйте бібліотеку pandas та зчитайте дані у змінну `df` типу `pandas.DataFrame`."
   ]
  },
  {
   "cell_type": "code",
   "execution_count": 1,
   "metadata": {
    "execution": {
     "iopub.execute_input": "2024-08-12T09:37:57.627685Z",
     "iopub.status.busy": "2024-08-12T09:37:57.626858Z",
     "iopub.status.idle": "2024-08-12T09:38:00.314063Z",
     "shell.execute_reply": "2024-08-12T09:38:00.313191Z",
     "shell.execute_reply.started": "2024-08-12T09:37:57.627614Z"
    },
    "id": "-4jR3F-rDQi7"
   },
   "outputs": [],
   "source": [
    "import pandas as pd\n",
    "df = pd.read_csv(\"../data/supermarket_sales.csv\")"
   ]
  },
  {
   "cell_type": "code",
   "execution_count": 2,
   "metadata": {
    "execution": {
     "iopub.execute_input": "2024-08-12T09:38:00.315538Z",
     "iopub.status.busy": "2024-08-12T09:38:00.315242Z",
     "iopub.status.idle": "2024-08-12T09:38:00.331303Z",
     "shell.execute_reply": "2024-08-12T09:38:00.329816Z",
     "shell.execute_reply.started": "2024-08-12T09:38:00.315510Z"
    }
   },
   "outputs": [
    {
     "data": {
      "text/plain": [
       "Invoice ID                  object\n",
       "Branch                      object\n",
       "City                        object\n",
       "Customer type               object\n",
       "Gender                      object\n",
       "Product line                object\n",
       "Unit price                 float64\n",
       "Quantity                     int64\n",
       "Tax 5%                     float64\n",
       "Total                      float64\n",
       "Date                        object\n",
       "Time                        object\n",
       "Payment                     object\n",
       "cogs                       float64\n",
       "gross margin percentage    float64\n",
       "gross income               float64\n",
       "Rating                     float64\n",
       "dtype: object"
      ]
     },
     "execution_count": 2,
     "metadata": {},
     "output_type": "execute_result"
    }
   ],
   "source": [
    "df.dtypes"
   ]
  },
  {
   "cell_type": "markdown",
   "metadata": {
    "id": "hH26_h5wOLfj"
   },
   "source": [
    "1. Відсортуйте дані за спаданням ціни товара ('Unit price') і виведіть 5 перших рядочків на екран."
   ]
  },
  {
   "cell_type": "code",
   "execution_count": 3,
   "metadata": {
    "execution": {
     "iopub.execute_input": "2024-08-12T09:38:00.337819Z",
     "iopub.status.busy": "2024-08-12T09:38:00.336812Z",
     "iopub.status.idle": "2024-08-12T09:38:00.363407Z",
     "shell.execute_reply": "2024-08-12T09:38:00.362557Z",
     "shell.execute_reply.started": "2024-08-12T09:38:00.337786Z"
    },
    "id": "C_CMIujQN9s6"
   },
   "outputs": [
    {
     "data": {
      "text/html": [
       "<div>\n",
       "<style scoped>\n",
       "    .dataframe tbody tr th:only-of-type {\n",
       "        vertical-align: middle;\n",
       "    }\n",
       "\n",
       "    .dataframe tbody tr th {\n",
       "        vertical-align: top;\n",
       "    }\n",
       "\n",
       "    .dataframe thead th {\n",
       "        text-align: right;\n",
       "    }\n",
       "</style>\n",
       "<table border=\"1\" class=\"dataframe\">\n",
       "  <thead>\n",
       "    <tr style=\"text-align: right;\">\n",
       "      <th></th>\n",
       "      <th>Invoice ID</th>\n",
       "      <th>Branch</th>\n",
       "      <th>City</th>\n",
       "      <th>Customer type</th>\n",
       "      <th>Gender</th>\n",
       "      <th>Product line</th>\n",
       "      <th>Unit price</th>\n",
       "      <th>Quantity</th>\n",
       "      <th>Tax 5%</th>\n",
       "      <th>Total</th>\n",
       "      <th>Date</th>\n",
       "      <th>Time</th>\n",
       "      <th>Payment</th>\n",
       "      <th>cogs</th>\n",
       "      <th>gross margin percentage</th>\n",
       "      <th>gross income</th>\n",
       "      <th>Rating</th>\n",
       "    </tr>\n",
       "  </thead>\n",
       "  <tbody>\n",
       "    <tr>\n",
       "      <th>983</th>\n",
       "      <td>148-41-7930</td>\n",
       "      <td>C</td>\n",
       "      <td>Naypyitaw</td>\n",
       "      <td>Normal</td>\n",
       "      <td>Male</td>\n",
       "      <td>Health and beauty</td>\n",
       "      <td>99.96</td>\n",
       "      <td>7</td>\n",
       "      <td>34.986</td>\n",
       "      <td>734.706</td>\n",
       "      <td>1/23/2019</td>\n",
       "      <td>10:33</td>\n",
       "      <td>Cash</td>\n",
       "      <td>699.72</td>\n",
       "      <td>4.761905</td>\n",
       "      <td>34.986</td>\n",
       "      <td>6.1</td>\n",
       "    </tr>\n",
       "    <tr>\n",
       "      <th>122</th>\n",
       "      <td>219-22-9386</td>\n",
       "      <td>B</td>\n",
       "      <td>Mandalay</td>\n",
       "      <td>Member</td>\n",
       "      <td>Male</td>\n",
       "      <td>Sports and travel</td>\n",
       "      <td>99.96</td>\n",
       "      <td>9</td>\n",
       "      <td>44.982</td>\n",
       "      <td>944.622</td>\n",
       "      <td>3/9/2019</td>\n",
       "      <td>17:26</td>\n",
       "      <td>Credit card</td>\n",
       "      <td>899.64</td>\n",
       "      <td>4.761905</td>\n",
       "      <td>44.982</td>\n",
       "      <td>4.2</td>\n",
       "    </tr>\n",
       "    <tr>\n",
       "      <th>930</th>\n",
       "      <td>641-62-7288</td>\n",
       "      <td>B</td>\n",
       "      <td>Mandalay</td>\n",
       "      <td>Normal</td>\n",
       "      <td>Male</td>\n",
       "      <td>Home and lifestyle</td>\n",
       "      <td>99.92</td>\n",
       "      <td>6</td>\n",
       "      <td>29.976</td>\n",
       "      <td>629.496</td>\n",
       "      <td>3/24/2019</td>\n",
       "      <td>13:33</td>\n",
       "      <td>Ewallet</td>\n",
       "      <td>599.52</td>\n",
       "      <td>4.761905</td>\n",
       "      <td>29.976</td>\n",
       "      <td>7.1</td>\n",
       "    </tr>\n",
       "    <tr>\n",
       "      <th>494</th>\n",
       "      <td>437-53-3084</td>\n",
       "      <td>B</td>\n",
       "      <td>Mandalay</td>\n",
       "      <td>Normal</td>\n",
       "      <td>Male</td>\n",
       "      <td>Fashion accessories</td>\n",
       "      <td>99.89</td>\n",
       "      <td>2</td>\n",
       "      <td>9.989</td>\n",
       "      <td>209.769</td>\n",
       "      <td>2/26/2019</td>\n",
       "      <td>11:48</td>\n",
       "      <td>Ewallet</td>\n",
       "      <td>199.78</td>\n",
       "      <td>4.761905</td>\n",
       "      <td>9.989</td>\n",
       "      <td>7.1</td>\n",
       "    </tr>\n",
       "    <tr>\n",
       "      <th>283</th>\n",
       "      <td>667-92-0055</td>\n",
       "      <td>A</td>\n",
       "      <td>Yangon</td>\n",
       "      <td>Member</td>\n",
       "      <td>Male</td>\n",
       "      <td>Health and beauty</td>\n",
       "      <td>99.83</td>\n",
       "      <td>6</td>\n",
       "      <td>29.949</td>\n",
       "      <td>628.929</td>\n",
       "      <td>3/4/2019</td>\n",
       "      <td>15:02</td>\n",
       "      <td>Ewallet</td>\n",
       "      <td>598.98</td>\n",
       "      <td>4.761905</td>\n",
       "      <td>29.949</td>\n",
       "      <td>8.5</td>\n",
       "    </tr>\n",
       "  </tbody>\n",
       "</table>\n",
       "</div>"
      ],
      "text/plain": [
       "      Invoice ID Branch       City Customer type Gender         Product line  \\\n",
       "983  148-41-7930      C  Naypyitaw        Normal   Male    Health and beauty   \n",
       "122  219-22-9386      B   Mandalay        Member   Male    Sports and travel   \n",
       "930  641-62-7288      B   Mandalay        Normal   Male   Home and lifestyle   \n",
       "494  437-53-3084      B   Mandalay        Normal   Male  Fashion accessories   \n",
       "283  667-92-0055      A     Yangon        Member   Male    Health and beauty   \n",
       "\n",
       "     Unit price  Quantity  Tax 5%    Total       Date   Time      Payment  \\\n",
       "983       99.96         7  34.986  734.706  1/23/2019  10:33         Cash   \n",
       "122       99.96         9  44.982  944.622   3/9/2019  17:26  Credit card   \n",
       "930       99.92         6  29.976  629.496  3/24/2019  13:33      Ewallet   \n",
       "494       99.89         2   9.989  209.769  2/26/2019  11:48      Ewallet   \n",
       "283       99.83         6  29.949  628.929   3/4/2019  15:02      Ewallet   \n",
       "\n",
       "       cogs  gross margin percentage  gross income  Rating  \n",
       "983  699.72                 4.761905        34.986     6.1  \n",
       "122  899.64                 4.761905        44.982     4.2  \n",
       "930  599.52                 4.761905        29.976     7.1  \n",
       "494  199.78                 4.761905         9.989     7.1  \n",
       "283  598.98                 4.761905        29.949     8.5  "
      ]
     },
     "execution_count": 3,
     "metadata": {},
     "output_type": "execute_result"
    }
   ],
   "source": [
    "df.sort_values(by = \"Unit price\", ascending = False).head(5)"
   ]
  },
  {
   "cell_type": "markdown",
   "metadata": {
    "id": "H7IyOIfIONXy"
   },
   "source": [
    "2. Знайдіть інвойс (рядок в даних) в категорії товарів Electronic accessories, в якому був куплений товар з найбільшою кількістю і найбільшою ціною. Виведіть цей рядок даних на екран."
   ]
  },
  {
   "cell_type": "code",
   "execution_count": 4,
   "metadata": {
    "execution": {
     "iopub.execute_input": "2024-08-12T09:38:00.364998Z",
     "iopub.status.busy": "2024-08-12T09:38:00.364753Z",
     "iopub.status.idle": "2024-08-12T09:38:00.390738Z",
     "shell.execute_reply": "2024-08-12T09:38:00.389681Z",
     "shell.execute_reply.started": "2024-08-12T09:38:00.364974Z"
    },
    "id": "rHtk3rXoNHr5"
   },
   "outputs": [
    {
     "data": {
      "text/html": [
       "<div>\n",
       "<style scoped>\n",
       "    .dataframe tbody tr th:only-of-type {\n",
       "        vertical-align: middle;\n",
       "    }\n",
       "\n",
       "    .dataframe tbody tr th {\n",
       "        vertical-align: top;\n",
       "    }\n",
       "\n",
       "    .dataframe thead th {\n",
       "        text-align: right;\n",
       "    }\n",
       "</style>\n",
       "<table border=\"1\" class=\"dataframe\">\n",
       "  <thead>\n",
       "    <tr style=\"text-align: right;\">\n",
       "      <th></th>\n",
       "      <th>Invoice ID</th>\n",
       "      <th>Branch</th>\n",
       "      <th>City</th>\n",
       "      <th>Customer type</th>\n",
       "      <th>Gender</th>\n",
       "      <th>Product line</th>\n",
       "      <th>Unit price</th>\n",
       "      <th>Quantity</th>\n",
       "      <th>Tax 5%</th>\n",
       "      <th>Total</th>\n",
       "      <th>Date</th>\n",
       "      <th>Time</th>\n",
       "      <th>Payment</th>\n",
       "      <th>cogs</th>\n",
       "      <th>gross margin percentage</th>\n",
       "      <th>gross income</th>\n",
       "      <th>Rating</th>\n",
       "    </tr>\n",
       "  </thead>\n",
       "  <tbody>\n",
       "    <tr>\n",
       "      <th>122</th>\n",
       "      <td>219-22-9386</td>\n",
       "      <td>B</td>\n",
       "      <td>Mandalay</td>\n",
       "      <td>Member</td>\n",
       "      <td>Male</td>\n",
       "      <td>Sports and travel</td>\n",
       "      <td>99.96</td>\n",
       "      <td>9</td>\n",
       "      <td>44.982</td>\n",
       "      <td>944.622</td>\n",
       "      <td>3/9/2019</td>\n",
       "      <td>17:26</td>\n",
       "      <td>Credit card</td>\n",
       "      <td>899.64</td>\n",
       "      <td>4.761905</td>\n",
       "      <td>44.982</td>\n",
       "      <td>4.2</td>\n",
       "    </tr>\n",
       "  </tbody>\n",
       "</table>\n",
       "</div>"
      ],
      "text/plain": [
       "      Invoice ID Branch      City Customer type Gender       Product line  \\\n",
       "122  219-22-9386      B  Mandalay        Member   Male  Sports and travel   \n",
       "\n",
       "     Unit price  Quantity  Tax 5%    Total      Date   Time      Payment  \\\n",
       "122       99.96         9  44.982  944.622  3/9/2019  17:26  Credit card   \n",
       "\n",
       "       cogs  gross margin percentage  gross income  Rating  \n",
       "122  899.64                 4.761905        44.982     4.2  "
      ]
     },
     "execution_count": 4,
     "metadata": {},
     "output_type": "execute_result"
    }
   ],
   "source": [
    "df.sort_values(by = [\"Unit price\", \"Quantity\"], ascending = [False, False])[:1]"
   ]
  },
  {
   "cell_type": "markdown",
   "metadata": {
    "id": "n2iSihPRDHvv"
   },
   "source": [
    "3.1. Створіть нову колонку в даних `Rating Category`, яка визначає категорію рейтингу: високий, середній чи низький за наступним правилом:\n",
    "- якщо рейтинг вищий або рівний 8 - то він високий (`High`)\n",
    "- якщо рейтинг від 6 до 8 не включаючи - то він середній (`Medium`)\n",
    "- інакше - низький (`Low`)."
   ]
  },
  {
   "cell_type": "code",
   "execution_count": 5,
   "metadata": {
    "execution": {
     "iopub.execute_input": "2024-08-12T09:38:00.392412Z",
     "iopub.status.busy": "2024-08-12T09:38:00.391760Z",
     "iopub.status.idle": "2024-08-12T09:38:00.413663Z",
     "shell.execute_reply": "2024-08-12T09:38:00.412465Z",
     "shell.execute_reply.started": "2024-08-12T09:38:00.392368Z"
    },
    "id": "WfYpk_VdD_sI"
   },
   "outputs": [
    {
     "data": {
      "text/html": [
       "<div>\n",
       "<style scoped>\n",
       "    .dataframe tbody tr th:only-of-type {\n",
       "        vertical-align: middle;\n",
       "    }\n",
       "\n",
       "    .dataframe tbody tr th {\n",
       "        vertical-align: top;\n",
       "    }\n",
       "\n",
       "    .dataframe thead th {\n",
       "        text-align: right;\n",
       "    }\n",
       "</style>\n",
       "<table border=\"1\" class=\"dataframe\">\n",
       "  <thead>\n",
       "    <tr style=\"text-align: right;\">\n",
       "      <th></th>\n",
       "      <th>Invoice ID</th>\n",
       "      <th>Branch</th>\n",
       "      <th>City</th>\n",
       "      <th>Customer type</th>\n",
       "      <th>Gender</th>\n",
       "      <th>Product line</th>\n",
       "      <th>Unit price</th>\n",
       "      <th>Quantity</th>\n",
       "      <th>Tax 5%</th>\n",
       "      <th>Total</th>\n",
       "      <th>Date</th>\n",
       "      <th>Time</th>\n",
       "      <th>Payment</th>\n",
       "      <th>cogs</th>\n",
       "      <th>gross margin percentage</th>\n",
       "      <th>gross income</th>\n",
       "      <th>Rating</th>\n",
       "      <th>Rating Category</th>\n",
       "    </tr>\n",
       "  </thead>\n",
       "  <tbody>\n",
       "    <tr>\n",
       "      <th>0</th>\n",
       "      <td>750-67-8428</td>\n",
       "      <td>A</td>\n",
       "      <td>Yangon</td>\n",
       "      <td>Member</td>\n",
       "      <td>Female</td>\n",
       "      <td>Health and beauty</td>\n",
       "      <td>74.69</td>\n",
       "      <td>7</td>\n",
       "      <td>26.1415</td>\n",
       "      <td>548.9715</td>\n",
       "      <td>1/5/2019</td>\n",
       "      <td>13:08</td>\n",
       "      <td>Ewallet</td>\n",
       "      <td>522.83</td>\n",
       "      <td>4.761905</td>\n",
       "      <td>26.1415</td>\n",
       "      <td>9.1</td>\n",
       "      <td>High</td>\n",
       "    </tr>\n",
       "    <tr>\n",
       "      <th>1</th>\n",
       "      <td>226-31-3081</td>\n",
       "      <td>C</td>\n",
       "      <td>Naypyitaw</td>\n",
       "      <td>Normal</td>\n",
       "      <td>Female</td>\n",
       "      <td>Electronic accessories</td>\n",
       "      <td>15.28</td>\n",
       "      <td>5</td>\n",
       "      <td>3.8200</td>\n",
       "      <td>80.2200</td>\n",
       "      <td>3/8/2019</td>\n",
       "      <td>10:29</td>\n",
       "      <td>Cash</td>\n",
       "      <td>76.40</td>\n",
       "      <td>4.761905</td>\n",
       "      <td>3.8200</td>\n",
       "      <td>9.6</td>\n",
       "      <td>High</td>\n",
       "    </tr>\n",
       "    <tr>\n",
       "      <th>2</th>\n",
       "      <td>631-41-3108</td>\n",
       "      <td>A</td>\n",
       "      <td>Yangon</td>\n",
       "      <td>Normal</td>\n",
       "      <td>Male</td>\n",
       "      <td>Home and lifestyle</td>\n",
       "      <td>46.33</td>\n",
       "      <td>7</td>\n",
       "      <td>16.2155</td>\n",
       "      <td>340.5255</td>\n",
       "      <td>3/3/2019</td>\n",
       "      <td>13:23</td>\n",
       "      <td>Credit card</td>\n",
       "      <td>324.31</td>\n",
       "      <td>4.761905</td>\n",
       "      <td>16.2155</td>\n",
       "      <td>7.4</td>\n",
       "      <td>Medium</td>\n",
       "    </tr>\n",
       "    <tr>\n",
       "      <th>3</th>\n",
       "      <td>123-19-1176</td>\n",
       "      <td>A</td>\n",
       "      <td>Yangon</td>\n",
       "      <td>Member</td>\n",
       "      <td>Male</td>\n",
       "      <td>Health and beauty</td>\n",
       "      <td>58.22</td>\n",
       "      <td>8</td>\n",
       "      <td>23.2880</td>\n",
       "      <td>489.0480</td>\n",
       "      <td>1/27/2019</td>\n",
       "      <td>20:33</td>\n",
       "      <td>Ewallet</td>\n",
       "      <td>465.76</td>\n",
       "      <td>4.761905</td>\n",
       "      <td>23.2880</td>\n",
       "      <td>8.4</td>\n",
       "      <td>High</td>\n",
       "    </tr>\n",
       "    <tr>\n",
       "      <th>4</th>\n",
       "      <td>373-73-7910</td>\n",
       "      <td>A</td>\n",
       "      <td>Yangon</td>\n",
       "      <td>Normal</td>\n",
       "      <td>Male</td>\n",
       "      <td>Sports and travel</td>\n",
       "      <td>86.31</td>\n",
       "      <td>7</td>\n",
       "      <td>30.2085</td>\n",
       "      <td>634.3785</td>\n",
       "      <td>2/8/2019</td>\n",
       "      <td>10:37</td>\n",
       "      <td>Ewallet</td>\n",
       "      <td>604.17</td>\n",
       "      <td>4.761905</td>\n",
       "      <td>30.2085</td>\n",
       "      <td>5.3</td>\n",
       "      <td>Low</td>\n",
       "    </tr>\n",
       "  </tbody>\n",
       "</table>\n",
       "</div>"
      ],
      "text/plain": [
       "    Invoice ID Branch       City Customer type  Gender  \\\n",
       "0  750-67-8428      A     Yangon        Member  Female   \n",
       "1  226-31-3081      C  Naypyitaw        Normal  Female   \n",
       "2  631-41-3108      A     Yangon        Normal    Male   \n",
       "3  123-19-1176      A     Yangon        Member    Male   \n",
       "4  373-73-7910      A     Yangon        Normal    Male   \n",
       "\n",
       "             Product line  Unit price  Quantity   Tax 5%     Total       Date  \\\n",
       "0       Health and beauty       74.69         7  26.1415  548.9715   1/5/2019   \n",
       "1  Electronic accessories       15.28         5   3.8200   80.2200   3/8/2019   \n",
       "2      Home and lifestyle       46.33         7  16.2155  340.5255   3/3/2019   \n",
       "3       Health and beauty       58.22         8  23.2880  489.0480  1/27/2019   \n",
       "4       Sports and travel       86.31         7  30.2085  634.3785   2/8/2019   \n",
       "\n",
       "    Time      Payment    cogs  gross margin percentage  gross income  Rating  \\\n",
       "0  13:08      Ewallet  522.83                 4.761905       26.1415     9.1   \n",
       "1  10:29         Cash   76.40                 4.761905        3.8200     9.6   \n",
       "2  13:23  Credit card  324.31                 4.761905       16.2155     7.4   \n",
       "3  20:33      Ewallet  465.76                 4.761905       23.2880     8.4   \n",
       "4  10:37      Ewallet  604.17                 4.761905       30.2085     5.3   \n",
       "\n",
       "  Rating Category  \n",
       "0            High  \n",
       "1            High  \n",
       "2          Medium  \n",
       "3            High  \n",
       "4             Low  "
      ]
     },
     "execution_count": 5,
     "metadata": {},
     "output_type": "execute_result"
    }
   ],
   "source": [
    "def rating_category(rate):\n",
    "    if rate >= 8:\n",
    "        return \"High\"\n",
    "    elif 6 <= rate < 8:\n",
    "        return \"Medium\"\n",
    "    else:\n",
    "        return \"Low\"\n",
    "\n",
    "df[\"Rating Category\"] = df.Rating.apply(rating_category)\n",
    "df.head(5)"
   ]
  },
  {
   "cell_type": "markdown",
   "metadata": {
    "id": "0tTSRjXDEdDe"
   },
   "source": [
    "3.2. Виведіть, який відсоток даних становить кожне зі значень категорій рейтингу."
   ]
  },
  {
   "cell_type": "code",
   "execution_count": 6,
   "metadata": {
    "execution": {
     "iopub.execute_input": "2024-08-12T09:38:00.415497Z",
     "iopub.status.busy": "2024-08-12T09:38:00.415199Z",
     "iopub.status.idle": "2024-08-12T09:38:00.425876Z",
     "shell.execute_reply": "2024-08-12T09:38:00.424415Z",
     "shell.execute_reply.started": "2024-08-12T09:38:00.415474Z"
    },
    "id": "gYd_Y96ODS3a"
   },
   "outputs": [
    {
     "data": {
      "text/plain": [
       "Rating Category\n",
       "Medium    0.356\n",
       "High      0.329\n",
       "Low       0.315\n",
       "Name: proportion, dtype: float64"
      ]
     },
     "execution_count": 6,
     "metadata": {},
     "output_type": "execute_result"
    }
   ],
   "source": [
    "df[\"Rating Category\"].value_counts(normalize=True)"
   ]
  },
  {
   "cell_type": "markdown",
   "metadata": {
    "id": "qGPne8sFHGGM"
   },
   "source": [
    "4.1. Запустіть код нижче аби створити змінну `time`. Ця змінна містить час в форматі \"година:хвилина\". Напишіть функцію `get_hour`, яка буде зі змінної формату як `time` дістати лише години і конвертувати їх у тип `int`.\n",
    "\n",
    "Запустіть написану функцію на змінній `time` та перевірте правильність роботи функції."
   ]
  },
  {
   "cell_type": "code",
   "execution_count": 7,
   "metadata": {
    "execution": {
     "iopub.execute_input": "2024-08-12T09:38:00.429048Z",
     "iopub.status.busy": "2024-08-12T09:38:00.428222Z",
     "iopub.status.idle": "2024-08-12T09:38:00.434319Z",
     "shell.execute_reply": "2024-08-12T09:38:00.432108Z",
     "shell.execute_reply.started": "2024-08-12T09:38:00.429016Z"
    },
    "id": "OZ2DD2AGEZme"
   },
   "outputs": [],
   "source": [
    "time = '11:28'"
   ]
  },
  {
   "cell_type": "code",
   "execution_count": 8,
   "metadata": {
    "execution": {
     "iopub.execute_input": "2024-08-12T09:38:00.436780Z",
     "iopub.status.busy": "2024-08-12T09:38:00.436045Z",
     "iopub.status.idle": "2024-08-12T09:38:00.448755Z",
     "shell.execute_reply": "2024-08-12T09:38:00.447164Z",
     "shell.execute_reply.started": "2024-08-12T09:38:00.436732Z"
    }
   },
   "outputs": [
    {
     "data": {
      "text/plain": [
       "Invoice ID                  object\n",
       "Branch                      object\n",
       "City                        object\n",
       "Customer type               object\n",
       "Gender                      object\n",
       "Product line                object\n",
       "Unit price                 float64\n",
       "Quantity                     int64\n",
       "Tax 5%                     float64\n",
       "Total                      float64\n",
       "Date                        object\n",
       "Time                        object\n",
       "Payment                     object\n",
       "cogs                       float64\n",
       "gross margin percentage    float64\n",
       "gross income               float64\n",
       "Rating                     float64\n",
       "Rating Category             object\n",
       "dtype: object"
      ]
     },
     "execution_count": 8,
     "metadata": {},
     "output_type": "execute_result"
    }
   ],
   "source": [
    "df.dtypes"
   ]
  },
  {
   "cell_type": "code",
   "execution_count": 9,
   "metadata": {
    "execution": {
     "iopub.execute_input": "2024-08-12T09:38:00.450568Z",
     "iopub.status.busy": "2024-08-12T09:38:00.450210Z",
     "iopub.status.idle": "2024-08-12T09:38:00.460114Z",
     "shell.execute_reply": "2024-08-12T09:38:00.458609Z",
     "shell.execute_reply.started": "2024-08-12T09:38:00.450543Z"
    },
    "id": "BxDWBPalHimp"
   },
   "outputs": [
    {
     "data": {
      "text/plain": [
       "str"
      ]
     },
     "execution_count": 9,
     "metadata": {},
     "output_type": "execute_result"
    }
   ],
   "source": [
    "type(df.iloc[3].Time)"
   ]
  },
  {
   "cell_type": "code",
   "execution_count": 10,
   "metadata": {
    "execution": {
     "iopub.execute_input": "2024-08-12T09:38:00.462061Z",
     "iopub.status.busy": "2024-08-12T09:38:00.461508Z",
     "iopub.status.idle": "2024-08-12T09:38:00.468522Z",
     "shell.execute_reply": "2024-08-12T09:38:00.467791Z",
     "shell.execute_reply.started": "2024-08-12T09:38:00.462037Z"
    }
   },
   "outputs": [
    {
     "data": {
      "text/plain": [
       "11"
      ]
     },
     "execution_count": 10,
     "metadata": {},
     "output_type": "execute_result"
    }
   ],
   "source": [
    "def get_hour(time):\n",
    "    hour = int(time[:2])\n",
    "    return hour\n",
    "\n",
    "get_hour(time)"
   ]
  },
  {
   "cell_type": "markdown",
   "metadata": {
    "id": "3F7Nmc84IM9C"
   },
   "source": [
    "4.2. З допомогою функції `get_hour` і метода `DataFrame.apply()` створіть нову колонку `Hour` в нашому наборі даних, яка буде містити години здійснення покупки, обчислені на основі часу здійснення покупки `Time`."
   ]
  },
  {
   "cell_type": "code",
   "execution_count": 11,
   "metadata": {
    "execution": {
     "iopub.execute_input": "2024-08-12T09:38:00.469988Z",
     "iopub.status.busy": "2024-08-12T09:38:00.469610Z",
     "iopub.status.idle": "2024-08-12T09:38:00.476387Z",
     "shell.execute_reply": "2024-08-12T09:38:00.475138Z",
     "shell.execute_reply.started": "2024-08-12T09:38:00.469960Z"
    },
    "id": "P-DQNIwQH_Io"
   },
   "outputs": [],
   "source": [
    "df[\"Hour\"] = df.Time.apply(get_hour)"
   ]
  },
  {
   "cell_type": "markdown",
   "metadata": {
    "id": "VcuugIB2IszQ"
   },
   "source": [
    "4.3. Виведіть кількість значень за кожною годиною покупки і дайте відповідь \"О яких годинах найбільше здійснюють покупок покупці і чому на Ваш погляд саме о цих годинах? Чи це слогічно, що найбільше покупок саме в ці години?\"."
   ]
  },
  {
   "cell_type": "code",
   "execution_count": 12,
   "metadata": {
    "execution": {
     "iopub.execute_input": "2024-08-12T09:38:00.483616Z",
     "iopub.status.busy": "2024-08-12T09:38:00.483343Z",
     "iopub.status.idle": "2024-08-12T09:38:00.489136Z",
     "shell.execute_reply": "2024-08-12T09:38:00.488140Z",
     "shell.execute_reply.started": "2024-08-12T09:38:00.483594Z"
    },
    "id": "5NgTbHM8I-Or"
   },
   "outputs": [
    {
     "data": {
      "text/plain": [
       "Hour\n",
       "19    113\n",
       "13    103\n",
       "15    102\n",
       "10    101\n",
       "18     93\n",
       "11     90\n",
       "12     89\n",
       "14     83\n",
       "16     77\n",
       "20     75\n",
       "17     74\n",
       "Name: count, dtype: int64"
      ]
     },
     "execution_count": 12,
     "metadata": {},
     "output_type": "execute_result"
    }
   ],
   "source": [
    "df.Hour.value_counts()"
   ]
  },
  {
   "cell_type": "markdown",
   "metadata": {},
   "source": [
    "Найбільше купують о 19, 13, 15 і 10 годинах.\n",
    "19 - схоже на час після роботи, а 13 - обідня перерва, тож наче все логічно.\n",
    "15 - важче, теж обідня перерва але для \"сов\"?))) логіка шкутильгає.\n",
    "а 10 - мене геть здивувало, перед роботою? (це божевілля😅), не працюєш чи вихідний - так виспись)). Абсолютно дивний час. Треба дивитись ще дні тижня разом із часом."
   ]
  },
  {
   "cell_type": "markdown",
   "metadata": {
    "id": "vUniX9GAKtco"
   },
   "source": [
    "5. Виведіть середнє значення чеку (`Total`) для покупок в містах, наявних в даних, за допомогою функції `groupby`."
   ]
  },
  {
   "cell_type": "code",
   "execution_count": 13,
   "metadata": {
    "execution": {
     "iopub.execute_input": "2024-08-12T09:38:00.491503Z",
     "iopub.status.busy": "2024-08-12T09:38:00.490639Z",
     "iopub.status.idle": "2024-08-12T09:38:00.502466Z",
     "shell.execute_reply": "2024-08-12T09:38:00.501821Z",
     "shell.execute_reply.started": "2024-08-12T09:38:00.491369Z"
    },
    "id": "eWRBQoO_JBY3"
   },
   "outputs": [
    {
     "data": {
      "text/plain": [
       "City\n",
       "Mandalay     319.872506\n",
       "Naypyitaw    337.099715\n",
       "Yangon       312.354031\n",
       "Name: Total, dtype: float64"
      ]
     },
     "execution_count": 13,
     "metadata": {},
     "output_type": "execute_result"
    }
   ],
   "source": [
    "df.groupby(by=\"City\").Total.mean()"
   ]
  },
  {
   "cell_type": "markdown",
   "metadata": {
    "id": "kgXBFApjLQxp"
   },
   "source": [
    "6. Виведіть кількість покупок, середнє, мінімальне та максимальне значення для загальної суми чеку (Total) в містах, наявних в даних, за допомогою функції groupby.\n",
    "Зробіть висновки з цих показників та дайте рекомендації для мережі супермаркетів."
   ]
  },
  {
   "cell_type": "code",
   "execution_count": 25,
   "metadata": {
    "execution": {
     "iopub.execute_input": "2024-08-12T12:18:24.038596Z",
     "iopub.status.busy": "2024-08-12T12:18:24.037929Z",
     "iopub.status.idle": "2024-08-12T12:18:24.055668Z",
     "shell.execute_reply": "2024-08-12T12:18:24.054884Z",
     "shell.execute_reply.started": "2024-08-12T12:18:24.038564Z"
    },
    "id": "qdspE5eWK0bq"
   },
   "outputs": [
    {
     "data": {
      "text/html": [
       "<div>\n",
       "<style scoped>\n",
       "    .dataframe tbody tr th:only-of-type {\n",
       "        vertical-align: middle;\n",
       "    }\n",
       "\n",
       "    .dataframe tbody tr th {\n",
       "        vertical-align: top;\n",
       "    }\n",
       "\n",
       "    .dataframe thead th {\n",
       "        text-align: right;\n",
       "    }\n",
       "</style>\n",
       "<table border=\"1\" class=\"dataframe\">\n",
       "  <thead>\n",
       "    <tr style=\"text-align: right;\">\n",
       "      <th></th>\n",
       "      <th>count</th>\n",
       "      <th>mean</th>\n",
       "      <th>min</th>\n",
       "      <th>max</th>\n",
       "    </tr>\n",
       "    <tr>\n",
       "      <th>City</th>\n",
       "      <th></th>\n",
       "      <th></th>\n",
       "      <th></th>\n",
       "      <th></th>\n",
       "    </tr>\n",
       "  </thead>\n",
       "  <tbody>\n",
       "    <tr>\n",
       "      <th>Mandalay</th>\n",
       "      <td>332</td>\n",
       "      <td>319.87</td>\n",
       "      <td>18.64</td>\n",
       "      <td>1022.49</td>\n",
       "    </tr>\n",
       "    <tr>\n",
       "      <th>Naypyitaw</th>\n",
       "      <td>328</td>\n",
       "      <td>337.10</td>\n",
       "      <td>10.68</td>\n",
       "      <td>1042.65</td>\n",
       "    </tr>\n",
       "    <tr>\n",
       "      <th>Yangon</th>\n",
       "      <td>340</td>\n",
       "      <td>312.35</td>\n",
       "      <td>12.69</td>\n",
       "      <td>1039.29</td>\n",
       "    </tr>\n",
       "  </tbody>\n",
       "</table>\n",
       "</div>"
      ],
      "text/plain": [
       "           count    mean    min      max\n",
       "City                                    \n",
       "Mandalay     332  319.87  18.64  1022.49\n",
       "Naypyitaw    328  337.10  10.68  1042.65\n",
       "Yangon       340  312.35  12.69  1039.29"
      ]
     },
     "execution_count": 25,
     "metadata": {},
     "output_type": "execute_result"
    }
   ],
   "source": [
    "df.groupby(by=\"City\").Total.agg([\"count\", \"mean\", \"min\", \"max\"]).round(2)"
   ]
  },
  {
   "cell_type": "markdown",
   "metadata": {},
   "source": [
    "Цікаво, що при найменшій кількості покупок і найменшого мінімального чека магазин у Naypyitaw є найприбутковішим.\n",
    "Важко зробити висновки з цих показників, адже я не знаю їх причин. Тому треба дослідити, що такого особливого в тому магазині із Naypyitaw, можливо, тоді будуть очевидними якісь рекомендації."
   ]
  },
  {
   "cell_type": "markdown",
   "metadata": {
    "id": "_GPVYoEe6M9E"
   },
   "source": [
    "7. Ми внесли деякі зміни в наш набір даних, тож, давайте запишемо результат у файл. Запишіть оновлену версію даних у файл `supermarket_sales_enriched.csv`. Зверніть увагу, аби не записати нічого зайвого, наприклад, індекси рядків нам в файлі не потрібні, оскільки вони стандартні."
   ]
  },
  {
   "cell_type": "code",
   "execution_count": 24,
   "metadata": {
    "execution": {
     "iopub.execute_input": "2024-08-12T12:16:15.275095Z",
     "iopub.status.busy": "2024-08-12T12:16:15.274761Z",
     "iopub.status.idle": "2024-08-12T12:16:15.308615Z",
     "shell.execute_reply": "2024-08-12T12:16:15.307454Z",
     "shell.execute_reply.started": "2024-08-12T12:16:15.275069Z"
    }
   },
   "outputs": [],
   "source": [
    "df.to_csv('../data/supermarket_sales_enriched.csv', index=False)"
   ]
  }
 ],
 "metadata": {
  "colab": {
   "provenance": []
  },
  "kernelspec": {
   "display_name": "Python 3 (ipykernel)",
   "language": "python",
   "name": "python3"
  },
  "language_info": {
   "codemirror_mode": {
    "name": "ipython",
    "version": 3
   },
   "file_extension": ".py",
   "mimetype": "text/x-python",
   "name": "python",
   "nbconvert_exporter": "python",
   "pygments_lexer": "ipython3",
   "version": "3.11.1"
  }
 },
 "nbformat": 4,
 "nbformat_minor": 4
}
