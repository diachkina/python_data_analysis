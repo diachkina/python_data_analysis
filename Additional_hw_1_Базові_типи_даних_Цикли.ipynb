{
 "cells": [
  {
   "cell_type": "markdown",
   "id": "5b1cae7d",
   "metadata": {
    "id": "5b1cae7d"
   },
   "source": [
    "1.Задане значення у змінній var. Перетворіть значення в змінній var на цілочисельне, запишіть в нову змінну `var_int` та виведіть тип нової змінної `var_int`."
   ]
  },
  {
   "cell_type": "code",
   "execution_count": 2,
   "id": "d93f77ed",
   "metadata": {
    "ExecuteTime": {
     "end_time": "2023-06-13T11:52:35.489925Z",
     "start_time": "2023-06-13T11:52:35.487238Z"
    },
    "id": "d93f77ed"
   },
   "outputs": [],
   "source": [
    "var = '1224'"
   ]
  },
  {
   "cell_type": "code",
   "execution_count": 6,
   "id": "5a4afe8f",
   "metadata": {
    "id": "5a4afe8f"
   },
   "outputs": [
    {
     "name": "stdout",
     "output_type": "stream",
     "text": [
      "1224 <class 'int'>\n"
     ]
    }
   ],
   "source": [
    "var_int = int(var)\n",
    "print(var_int, type(var_int))"
   ]
  },
  {
   "cell_type": "markdown",
   "id": "eb3d19d8",
   "metadata": {
    "ExecuteTime": {
     "end_time": "2023-06-13T13:00:19.611699Z",
     "start_time": "2023-06-13T13:00:19.607737Z"
    },
    "id": "eb3d19d8"
   },
   "source": [
    "2.У Вас є список слів. Виведіть кожне третє слово в списку."
   ]
  },
  {
   "cell_type": "code",
   "execution_count": 15,
   "id": "477f4ced",
   "metadata": {
    "ExecuteTime": {
     "end_time": "2023-06-13T13:00:02.052801Z",
     "start_time": "2023-06-13T13:00:02.048798Z"
    },
    "id": "477f4ced"
   },
   "outputs": [],
   "source": [
    "words = [\"apple\", \"banana\", \"cherry\", \"date\", \"elderberry\", \"fig\", \"grape\", \"honeydew\", \"ice cream\", \n",
    "         \"jackfruit\", \"kiwi\", \"lemon\", \"mango\", \"nectarine\", \"orange\", \"pineapple\", \"quince\", \"raspberry\", \n",
    "         \"strawberry\", \"tangerine\", \"ugli fruit\", \"vanilla\", \"watermelon\", \"xigua\", \"yam\", \"zucchini\"]"
   ]
  },
  {
   "cell_type": "code",
   "execution_count": 16,
   "id": "1b73ca2f",
   "metadata": {
    "id": "1b73ca2f"
   },
   "outputs": [
    {
     "data": {
      "text/plain": [
       "['cherry',\n",
       " 'fig',\n",
       " 'ice cream',\n",
       " 'lemon',\n",
       " 'orange',\n",
       " 'raspberry',\n",
       " 'ugli fruit',\n",
       " 'xigua']"
      ]
     },
     "execution_count": 16,
     "metadata": {},
     "output_type": "execute_result"
    }
   ],
   "source": [
    "words[2::3]"
   ]
  },
  {
   "cell_type": "markdown",
   "id": "394d1dea",
   "metadata": {
    "id": "394d1dea"
   },
   "source": [
    "3.Скільки всього СЛІВ у списку `words`?"
   ]
  },
  {
   "cell_type": "code",
   "execution_count": 17,
   "id": "83c88182",
   "metadata": {
    "id": "83c88182"
   },
   "outputs": [
    {
     "data": {
      "text/plain": [
       "26"
      ]
     },
     "execution_count": 17,
     "metadata": {},
     "output_type": "execute_result"
    }
   ],
   "source": [
    "len(words)"
   ]
  },
  {
   "cell_type": "markdown",
   "id": "703d1620",
   "metadata": {
    "ExecuteTime": {
     "end_time": "2023-06-13T13:03:17.414285Z",
     "start_time": "2023-06-13T13:03:17.409285Z"
    },
    "id": "703d1620"
   },
   "source": [
    "4.Скільки всього ЛІТЕР в усіх словах у списку words?"
   ]
  },
  {
   "cell_type": "code",
   "execution_count": 14,
   "id": "c44d04d9",
   "metadata": {
    "id": "c44d04d9"
   },
   "outputs": [
    {
     "data": {
      "text/plain": [
       "180"
      ]
     },
     "execution_count": 14,
     "metadata": {},
     "output_type": "execute_result"
    }
   ],
   "source": [
    "len_list = []\n",
    "for word in words:\n",
    "    len_list.append(len(word))\n",
    "sum(len_list)"
   ]
  },
  {
   "cell_type": "markdown",
   "id": "4c95f6a3",
   "metadata": {
    "id": "4c95f6a3"
   },
   "source": [
    "5.Скільки разів зустрічається кожна літера в усіх словах списку `words`? Відсортуйте літери в результуючому словнику за алфавітним порядком."
   ]
  },
  {
   "cell_type": "code",
   "execution_count": 23,
   "id": "f6cff6cb",
   "metadata": {
    "id": "f6cff6cb"
   },
   "outputs": [
    {
     "data": {
      "text/plain": [
       "{' ': 2,\n",
       " 'a': 20,\n",
       " 'b': 4,\n",
       " 'c': 8,\n",
       " 'd': 3,\n",
       " 'e': 24,\n",
       " 'f': 3,\n",
       " 'g': 7,\n",
       " 'h': 3,\n",
       " 'i': 15,\n",
       " 'j': 1,\n",
       " 'k': 2,\n",
       " 'l': 8,\n",
       " 'm': 5,\n",
       " 'n': 15,\n",
       " 'o': 5,\n",
       " 'p': 7,\n",
       " 'q': 1,\n",
       " 'r': 19,\n",
       " 's': 2,\n",
       " 't': 7,\n",
       " 'u': 6,\n",
       " 'v': 1,\n",
       " 'w': 4,\n",
       " 'x': 1,\n",
       " 'y': 6,\n",
       " 'z': 1}"
      ]
     },
     "execution_count": 23,
     "metadata": {},
     "output_type": "execute_result"
    }
   ],
   "source": [
    "result = {}\n",
    "join_words = ''.join(words)\n",
    "letters = sorted(list(set(join_words)))\n",
    "for l in letters:\n",
    "    result[l] = join_words.count(l)\n",
    "    \n",
    "result"
   ]
  },
  {
   "cell_type": "markdown",
   "id": "94d9f1cc",
   "metadata": {
    "id": "94d9f1cc"
   },
   "source": [
    "Очікуваний результат:\n",
    "```\n",
    "{' ': 2,\n",
    " 'a': 20,\n",
    " 'b': 4,\n",
    " 'c': 8,\n",
    " 'd': 3,\n",
    " 'e': 24,\n",
    " 'f': 3,\n",
    " 'g': 7,\n",
    " 'h': 3,\n",
    " 'i': 15,\n",
    " 'j': 1,\n",
    " 'k': 2,\n",
    " 'l': 8,\n",
    " 'm': 5,\n",
    " 'n': 15,\n",
    " 'o': 5,\n",
    " 'p': 7,\n",
    " 'q': 1,\n",
    " 'r': 19,\n",
    " 's': 2,\n",
    " 't': 7,\n",
    " 'u': 6,\n",
    " 'v': 1,\n",
    " 'w': 4,\n",
    " 'x': 1,\n",
    " 'y': 6,\n",
    " 'z': 1}\n",
    " ```"
   ]
  },
  {
   "cell_type": "markdown",
   "id": "c93ac384",
   "metadata": {
    "id": "c93ac384"
   },
   "source": [
    "6.Використовуючи результат виконання попереднього завдання, виведіть на екран ту літеру, яка зустрічається найчастіше і скільки разів вона зустрічається. Це треба зробити програмно, а не просто подививщись на дані :)"
   ]
  },
  {
   "cell_type": "code",
   "execution_count": 32,
   "id": "9ddfb851",
   "metadata": {
    "id": "9ddfb851"
   },
   "outputs": [
    {
     "name": "stdout",
     "output_type": "stream",
     "text": [
      "Letter 'e' - 24 times\n"
     ]
    }
   ],
   "source": [
    "for key, value in result.items():\n",
    "    if value == max(result.values()):\n",
    "        print(f\"Letter '{key}' - {value} times\")"
   ]
  },
  {
   "cell_type": "markdown",
   "id": "f40adbed",
   "metadata": {
    "id": "f40adbed"
   },
   "source": [
    "7.Для кожного елементу списку виведіть тип елемену. Якщо тип обʼєкту - int (тільки цей тип безпосередньо!), виведіть результат піднесення цього числа до степеню 5."
   ]
  },
  {
   "cell_type": "code",
   "execution_count": 46,
   "id": "f92249ac",
   "metadata": {
    "ExecuteTime": {
     "end_time": "2023-06-13T12:53:04.365735Z",
     "start_time": "2023-06-13T12:53:04.362441Z"
    },
    "id": "f92249ac"
   },
   "outputs": [],
   "source": [
    "elements = [12, 'type', 'Bob', True, 'False', 1.414, 1444.333, 123/33, 5]"
   ]
  },
  {
   "cell_type": "code",
   "execution_count": 50,
   "id": "96b72186",
   "metadata": {
    "id": "96b72186"
   },
   "outputs": [
    {
     "name": "stdout",
     "output_type": "stream",
     "text": [
      "The type of element 12 is <class 'int'>\n",
      "This is a number! Let's take it to power 5! The result is: 248832\n",
      "The type of element type is <class 'str'>\n",
      "The type of element Bob is <class 'str'>\n",
      "The type of element True is <class 'bool'>\n",
      "The type of element False is <class 'str'>\n",
      "The type of element 1.414 is <class 'float'>\n",
      "The type of element 1444.333 is <class 'float'>\n",
      "The type of element 3.727272727272727 is <class 'float'>\n",
      "The type of element 5 is <class 'int'>\n",
      "This is a number! Let's take it to power 5! The result is: 3125\n"
     ]
    }
   ],
   "source": [
    "for el in elements:\n",
    "    if type(el) == int:\n",
    "        print(f\"The type of element {el} is {type(el)}\\nThis is a number! Let's take it to power 5! The result is: {el**5}\")\n",
    "    else:\n",
    "        print(f\"The type of element {el} is {type(el)}\")"
   ]
  },
  {
   "cell_type": "markdown",
   "id": "cf2247c7",
   "metadata": {
    "ExecuteTime": {
     "end_time": "2023-06-13T12:55:17.795510Z",
     "start_time": "2023-06-13T12:55:17.787158Z"
    },
    "id": "cf2247c7"
   },
   "source": [
    "Приклад очікуваного результату (текстові коментарі і форматування можуть бути іншими):\n",
    "```\n",
    "    The type of element 12 is <class 'int'>\n",
    "    This is a number! Let't take it to power 5! The result is: 248832\n",
    "    The type of element type is <class 'str'>\n",
    "    The type of element Bob is <class 'str'>\n",
    "    The type of element True is <class 'bool'>\n",
    "    The type of element False is <class 'str'>\n",
    "    The type of element 1.414 is <class 'float'>\n",
    "    The type of element 1444.333 is <class 'float'>\n",
    "    The type of element 3.727272727272727 is <class 'float'>\n",
    "    The type of element 5 is <class 'int'>\n",
    "    This is a number! Let't take it to power 5! The result is: 3125\n",
    "```"
   ]
  },
  {
   "cell_type": "markdown",
   "id": "76a0bef2",
   "metadata": {
    "id": "76a0bef2"
   },
   "source": [
    "8.Створіть програму, яка:\n",
    "\n",
    "- Для визначених значень `name` та `age` друкує повідомлення \"Привіт, [Ім’я] ! Вам [Вік] років.\".\n",
    "- Обчислює, скільки років залишилося користувачеві до 100 років, і друкує повідомлення з цією інформацією: \"До 100 років Вам лишилось [Число] років.\"  \n",
    "\n",
    "Запустіть програму для набору користувачів нижче."
   ]
  },
  {
   "cell_type": "code",
   "execution_count": 51,
   "id": "0092963a",
   "metadata": {
    "ExecuteTime": {
     "end_time": "2023-06-13T12:30:11.462941Z",
     "start_time": "2023-06-13T12:30:11.459673Z"
    },
    "id": "0092963a"
   },
   "outputs": [],
   "source": [
    "users = [\n",
    "    ['Karl', 30],\n",
    "    ['Klara', 15],\n",
    "    ['Alexis', 56],\n",
    "    ['Charles', 99]\n",
    "]"
   ]
  },
  {
   "cell_type": "code",
   "execution_count": 55,
   "id": "8d6d820e",
   "metadata": {
    "id": "8d6d820e"
   },
   "outputs": [
    {
     "name": "stdout",
     "output_type": "stream",
     "text": [
      "Hi, Karl! You are 30 years old.\n",
      "By the age of 100 you have 70 years.\n",
      "Hi, Klara! You are 15 years old.\n",
      "By the age of 100 you have 85 years.\n",
      "Hi, Alexis! You are 56 years old.\n",
      "By the age of 100 you have 44 years.\n",
      "Hi, Charles! You are 99 years old.\n",
      "By the age of 100 you have 1 year.\n"
     ]
    }
   ],
   "source": [
    "for user in users:\n",
    "    print(f\"Hi, {user[0]}! You are {user[1]} years old.\")\n",
    "    if user[1] == 99:\n",
    "        print(f\"By the age of 100 you have {100 - user[1]} year.\")\n",
    "    else:\n",
    "        print(f\"By the age of 100 you have {100 - user[1]} years.\")"
   ]
  },
  {
   "cell_type": "markdown",
   "id": "45fedbc4",
   "metadata": {
    "id": "45fedbc4"
   },
   "source": [
    "9.Напишть фрагмент коду, який перевіряє, чи слово є паліндромом. Слово (або фраза) є паліндромом, якщо при читанні його зворотньому напрямі буде таке саме слово.\n",
    "Наприклад, слово \"radar\" є паліндромом, але \"radix\" не є паліндромом. Код в кінці має видавати результат True або False.  \n",
    "Код має звертати увагу лише на символи-літери. Регістр літер не має значення, а знаки пунктуації (кома, крапка) та `-+=/\\`` мають бути вилучені з рядка перед перевіркою. Так само, пробіли не впливають на визначення,чи слово є палендромом. Мають значення лише літери.\n",
    "Тобто рядки \"A mam, a\" та \"A mamA\" є паліндромами, а \"AmamU\" - ні.\n",
    "\n",
    "Опціонально ви можете розмістити код на перевірку чи є слово паліндромом у фукнцію.\n",
    "Запустіть свій код для рядків з набору нижче і виведіть результат перевірки на екран для кожного рядка."
   ]
  },
  {
   "cell_type": "code",
   "execution_count": 56,
   "id": "4cca3eed",
   "metadata": {
    "ExecuteTime": {
     "end_time": "2023-06-13T12:24:02.288183Z",
     "start_time": "2023-06-13T12:24:02.285245Z"
    },
    "id": "4cca3eed"
   },
   "outputs": [],
   "source": [
    "phrases_to_check = [\n",
    "    'radar',\n",
    "    'radix',\n",
    "    'A mam, a',\n",
    "    'A mamA',\n",
    "    'Sit on a potato pan Otis',\n",
    "    'Taco cat.',\n",
    "    'Taco cat',\n",
    "    'Tornado',\n",
    "    \"Go hang a salami, I'm a lasagna hog.\"\n",
    "]"
   ]
  },
  {
   "cell_type": "code",
   "execution_count": 80,
   "id": "becbec3c",
   "metadata": {
    "id": "becbec3c"
   },
   "outputs": [
    {
     "name": "stdout",
     "output_type": "stream",
     "text": [
      "radar - True\n",
      "radix - False\n",
      "A mam, a - True\n",
      "A mamA - True\n",
      "Sit on a potato pan Otis - True\n",
      "Taco cat. - True\n",
      "Taco cat - True\n",
      "Tornado - False\n",
      "Go hang a salami, I'm a lasagna hog. - True\n"
     ]
    }
   ],
   "source": [
    "def text_cleaner(text):\n",
    "    remove_chars = [' ', '-', '+', '=', ',', '.', '/', \"'\"]\n",
    "    for char in remove_chars:\n",
    "        text = text.replace(char, '').lower()\n",
    "    return text\n",
    "\n",
    "def palindrome(words):\n",
    "    for word in words:\n",
    "        clean_word = text_cleaner(word)\n",
    "        print(f\"{word} - {clean_word == clean_word[::-1]}\")\n",
    "    \n",
    "    \n",
    "palindrome(phrases_to_check)    "
   ]
  },
  {
   "cell_type": "markdown",
   "id": "e51c421d",
   "metadata": {
    "id": "e51c421d"
   },
   "source": [
    "Очкувані результати обчислень:\n",
    "```\n",
    "    radar - True\n",
    "    radix - False\n",
    "    A mam, a - True\n",
    "    A mamA - True\n",
    "    Sit on a potato pan Otis - True\n",
    "    Taco cat. - True\n",
    "    Taco cat - True\n",
    "    Tornado - False\n",
    "    Go hang a salami, I'm a lasagna hog. - True\n",
    "```"
   ]
  }
 ],
 "metadata": {
  "colab": {
   "provenance": []
  },
  "kernelspec": {
   "display_name": "Python 3 (ipykernel)",
   "language": "python",
   "name": "python3"
  },
  "language_info": {
   "codemirror_mode": {
    "name": "ipython",
    "version": 3
   },
   "file_extension": ".py",
   "mimetype": "text/x-python",
   "name": "python",
   "nbconvert_exporter": "python",
   "pygments_lexer": "ipython3",
   "version": "3.11.1"
  },
  "toc": {
   "base_numbering": 1,
   "nav_menu": {},
   "number_sections": true,
   "sideBar": true,
   "skip_h1_title": false,
   "title_cell": "Table of Contents",
   "title_sidebar": "Contents",
   "toc_cell": false,
   "toc_position": {},
   "toc_section_display": true,
   "toc_window_display": false
  }
 },
 "nbformat": 4,
 "nbformat_minor": 5
}
