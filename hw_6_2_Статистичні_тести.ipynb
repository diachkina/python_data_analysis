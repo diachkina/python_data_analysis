{
 "cells": [
  {
   "cell_type": "markdown",
   "id": "e152f6d6",
   "metadata": {
    "ExecuteTime": {
     "end_time": "2022-12-10T14:29:24.703416Z",
     "start_time": "2022-12-10T14:29:24.688485Z"
    },
    "id": "e152f6d6"
   },
   "source": [
    "## Домашнє завдання 6: Статистичні тести"
   ]
  },
  {
   "cell_type": "markdown",
   "id": "cd404683",
   "metadata": {
    "id": "cd404683"
   },
   "source": [
    "0. Зчитайте дані з `data.csv` та запишіть значення колонки data у форматі np.ndarray в змінну data. Ми будемо далі працювати з цією змінною."
   ]
  },
  {
   "cell_type": "code",
   "execution_count": 17,
   "id": "a8M1Xqa3hInl",
   "metadata": {
    "execution": {
     "iopub.execute_input": "2024-10-10T08:49:31.974022Z",
     "iopub.status.busy": "2024-10-10T08:49:31.973444Z",
     "iopub.status.idle": "2024-10-10T08:49:31.981358Z",
     "shell.execute_reply": "2024-10-10T08:49:31.980112Z",
     "shell.execute_reply.started": "2024-10-10T08:49:31.973982Z"
    },
    "id": "a8M1Xqa3hInl"
   },
   "outputs": [],
   "source": [
    "import pandas as pd\n",
    "import numpy as np\n",
    "from statsmodels.stats.weightstats import ztest"
   ]
  },
  {
   "cell_type": "code",
   "execution_count": 12,
   "id": "fa9aab7e-d198-4716-9d58-5e4e4ce7c7fa",
   "metadata": {
    "execution": {
     "iopub.execute_input": "2024-10-10T08:34:04.526975Z",
     "iopub.status.busy": "2024-10-10T08:34:04.523726Z",
     "iopub.status.idle": "2024-10-10T08:34:04.558882Z",
     "shell.execute_reply": "2024-10-10T08:34:04.557985Z",
     "shell.execute_reply.started": "2024-10-10T08:34:04.526874Z"
    }
   },
   "outputs": [],
   "source": [
    "df = pd.read_csv('../data/data_statistics/data.csv')\n",
    "data = np.array(df.data)"
   ]
  },
  {
   "cell_type": "code",
   "execution_count": 13,
   "id": "7830f9ba-6e6a-4253-af8a-45fd78ffbe78",
   "metadata": {
    "execution": {
     "iopub.execute_input": "2024-10-10T08:34:18.521784Z",
     "iopub.status.busy": "2024-10-10T08:34:18.521109Z",
     "iopub.status.idle": "2024-10-10T08:34:18.533759Z",
     "shell.execute_reply": "2024-10-10T08:34:18.533062Z",
     "shell.execute_reply.started": "2024-10-10T08:34:18.521745Z"
    }
   },
   "outputs": [
    {
     "data": {
      "text/plain": [
       "array([17.49945292, 19.66239904,  7.18282343, 29.84162485,  9.23938649,\n",
       "       14.94951581, 23.0172885 , 12.52827148, 13.65228669, 14.54595431,\n",
       "       23.30872427, 33.75324808, 20.24923636, 13.29244733, 23.23434992,\n",
       "       16.4230418 , 19.88521702, 27.05000732, 15.5127743 , 20.05415151,\n",
       "       14.73135264, 19.06139498, 21.53942271, 14.06732571, 17.9670682 ,\n",
       "       18.58289581, 16.17406993, 12.87432628, 11.47269664, 19.07902883,\n",
       "       18.38565824, 33.38820073,  5.39139454, 20.67635903, 22.22266722,\n",
       "       28.15780318, 23.01114324, 14.93471778, 20.00005857, 23.25411543,\n",
       "       18.11895082, 24.62607043,  8.79145607, 30.387108  , 28.80606806,\n",
       "       17.98593597, 23.66804468, 20.28782355, 15.02518827, 20.52626131,\n",
       "       26.00219532, 17.71344489, 17.74598346, 19.55317542, 22.60097798,\n",
       "       27.67027538, 16.19192417, 23.05037746, 21.29669604,  8.84832568,\n",
       "       17.48410111, 19.20602661, 19.76257856, 21.9560206 ,  7.75806171,\n",
       "       20.27753314, 15.93394654, 11.36336584, 23.14577858, 24.41167746,\n",
       "       16.08049839, 25.05473769, 17.71090111, 20.39893405, 13.40756632,\n",
       "       29.50692234,  4.04330326, 19.45128426, 24.17071763,  7.79920072,\n",
       "       18.86318441, 19.53668801, 24.94821803, 27.48927752, 17.57664638,\n",
       "       11.692888  , 28.20341254, 27.3073138 , 17.22796791, 22.10533096,\n",
       "       22.2911974 , 23.39765265, 21.22524787, 28.44017745,  9.57224297,\n",
       "       26.24494372, 22.28283182, 18.69718839, 27.04118899,  5.93838085])"
      ]
     },
     "execution_count": 13,
     "metadata": {},
     "output_type": "execute_result"
    }
   ],
   "source": [
    "data"
   ]
  },
  {
   "cell_type": "markdown",
   "id": "3d06cbbf",
   "metadata": {
    "id": "3d06cbbf"
   },
   "source": [
    "Запустіть код нижче. Для коректної робити всіх подальших методів дані мають бути у вигляді одновимірного вектора, тобто мати розмір (100,)."
   ]
  },
  {
   "cell_type": "code",
   "execution_count": 14,
   "id": "Rc_cM9TfhJYI",
   "metadata": {
    "execution": {
     "iopub.execute_input": "2024-10-10T08:34:41.648201Z",
     "iopub.status.busy": "2024-10-10T08:34:41.647665Z",
     "iopub.status.idle": "2024-10-10T08:34:41.655858Z",
     "shell.execute_reply": "2024-10-10T08:34:41.655064Z",
     "shell.execute_reply.started": "2024-10-10T08:34:41.648165Z"
    },
    "id": "Rc_cM9TfhJYI"
   },
   "outputs": [
    {
     "data": {
      "text/plain": [
       "(100,)"
      ]
     },
     "execution_count": 14,
     "metadata": {},
     "output_type": "execute_result"
    }
   ],
   "source": [
    "data.shape"
   ]
  },
  {
   "cell_type": "markdown",
   "id": "abdcef5d",
   "metadata": {
    "id": "abdcef5d"
   },
   "source": [
    "1. Зчитані дані - це сума покупок в доларах наших покупців на сайті протягом липня 2022 року.\n",
    "\n",
    "До цього місяця, ми мали продажі в середньому на чек $20. Чи вийшло у нас статистично значущо **підвищити** середній чек за останній місяць?\n",
    "\n",
    "Оберіть статистичний тест (z-test чи t-test). Виведіть p-значення статистичного тесту та зробіть висновок, чи ми маємо зараз статистично значущу різницю у розмірі середнього чеку.\n",
    "\n",
    "**Підказка**: тут тест буде одновибірковий."
   ]
  },
  {
   "cell_type": "markdown",
   "id": "b947a2c1-6892-4042-afe5-136c31fde1e0",
   "metadata": {},
   "source": [
    "Н0 - середній чек за липень не змінився (20)\n",
    "\n",
    "\n",
    "Н1 - середній чек за липень збільшився статистично значуще"
   ]
  },
  {
   "cell_type": "code",
   "execution_count": 18,
   "id": "9e1757e9-550a-4c16-a271-8ae18d629e5d",
   "metadata": {
    "execution": {
     "iopub.execute_input": "2024-10-10T09:56:51.899754Z",
     "iopub.status.busy": "2024-10-10T09:56:51.896416Z",
     "iopub.status.idle": "2024-10-10T09:56:51.932725Z",
     "shell.execute_reply": "2024-10-10T09:56:51.930734Z",
     "shell.execute_reply.started": "2024-10-10T09:56:51.899671Z"
    }
   },
   "outputs": [],
   "source": [
    "alpha = 0.05"
   ]
  },
  {
   "cell_type": "code",
   "execution_count": 21,
   "id": "XhxcSbYqhLz9",
   "metadata": {
    "execution": {
     "iopub.execute_input": "2024-10-10T10:01:14.706809Z",
     "iopub.status.busy": "2024-10-10T10:01:14.706286Z",
     "iopub.status.idle": "2024-10-10T10:01:14.721873Z",
     "shell.execute_reply": "2024-10-10T10:01:14.720886Z",
     "shell.execute_reply.started": "2024-10-10T10:01:14.706770Z"
    },
    "id": "XhxcSbYqhLz9"
   },
   "outputs": [],
   "source": [
    "ztest_Score, p_value = ztest(data, value = 20, alternative='larger')"
   ]
  },
  {
   "cell_type": "code",
   "execution_count": 34,
   "id": "4155fd3e-5301-4027-955b-6e650f93991d",
   "metadata": {
    "execution": {
     "iopub.execute_input": "2024-10-11T20:55:37.249507Z",
     "iopub.status.busy": "2024-10-11T20:55:37.249062Z",
     "iopub.status.idle": "2024-10-11T20:55:37.257589Z",
     "shell.execute_reply": "2024-10-11T20:55:37.255915Z",
     "shell.execute_reply.started": "2024-10-11T20:55:37.249475Z"
    }
   },
   "outputs": [
    {
     "data": {
      "text/plain": [
       "np.float64(0.9958137794593356)"
      ]
     },
     "execution_count": 34,
     "metadata": {},
     "output_type": "execute_result"
    }
   ],
   "source": [
    "p_value"
   ]
  },
  {
   "cell_type": "code",
   "execution_count": 22,
   "id": "3e8910d2-23a7-475e-a7f0-301dcfdda553",
   "metadata": {
    "execution": {
     "iopub.execute_input": "2024-10-10T10:01:15.950445Z",
     "iopub.status.busy": "2024-10-10T10:01:15.949971Z",
     "iopub.status.idle": "2024-10-10T10:01:15.957712Z",
     "shell.execute_reply": "2024-10-10T10:01:15.956393Z",
     "shell.execute_reply.started": "2024-10-10T10:01:15.950404Z"
    }
   },
   "outputs": [
    {
     "name": "stdout",
     "output_type": "stream",
     "text": [
      "Н0 не може бути відхилена.\n"
     ]
    }
   ],
   "source": [
    "if(p_value <  alpha):\n",
    "    print(\"Відхилити Н0.\")\n",
    "else:\n",
    "    print(\"Н0 не може бути відхилена.\")"
   ]
  },
  {
   "cell_type": "markdown",
   "id": "05219e41",
   "metadata": {
    "ExecuteTime": {
     "end_time": "2022-12-10T14:52:46.140204Z",
     "start_time": "2022-12-10T14:52:46.112068Z"
    },
    "id": "05219e41"
   },
   "source": [
    "2. Пройшов час, і ми зібрали дані про продажі за серпень 2022 року, які зберігли у файл `data_2.csv`. Продажів було дещо більше, але чи змінився стат. значущо середній чек порівняно з липнем 2022? Перевірте це використовуючи ztest.\n",
    "\n",
    "  Виведіть p-значення статистичного тесту та зробіть висновок, чи ми маємо зараз статистично значущу різницю у розмірі середнього чека між двома місяцями.\n",
    "\n",
    "  **Підказка**: треба провести двовибірковий ztest з Н0 - що середні значення в липні та серпні 2022 року - однакові. Для кращого розуміння ситуації, можливо вам буде цікаво переглянути, які середні показники чеку були в кожен з місяців. Порівняйте свій висновок з простого спостереження середніх значень і висновок статистичного тесту. Чи вони збігаються?"
   ]
  },
  {
   "cell_type": "code",
   "execution_count": 23,
   "id": "hbs7LPI4hP-6",
   "metadata": {
    "execution": {
     "iopub.execute_input": "2024-10-11T20:46:09.940939Z",
     "iopub.status.busy": "2024-10-11T20:46:09.935414Z",
     "iopub.status.idle": "2024-10-11T20:46:10.282338Z",
     "shell.execute_reply": "2024-10-11T20:46:10.280357Z",
     "shell.execute_reply.started": "2024-10-11T20:46:09.940858Z"
    },
    "id": "hbs7LPI4hP-6"
   },
   "outputs": [],
   "source": [
    "df2 = pd.read_csv('../data/data_statistics/data_2.csv')\n",
    "data_2 = np.array(df2.data)"
   ]
  },
  {
   "cell_type": "code",
   "execution_count": 26,
   "id": "7b4d584b-8c74-4e4d-b4b8-a18d85ee2d0d",
   "metadata": {
    "execution": {
     "iopub.execute_input": "2024-10-11T20:47:34.833420Z",
     "iopub.status.busy": "2024-10-11T20:47:34.832476Z",
     "iopub.status.idle": "2024-10-11T20:47:34.842966Z",
     "shell.execute_reply": "2024-10-11T20:47:34.842031Z",
     "shell.execute_reply.started": "2024-10-11T20:47:34.833381Z"
    }
   },
   "outputs": [
    {
     "data": {
      "text/plain": [
       "(np.float64(19.37755319670441), np.float64(19.37322276512519))"
      ]
     },
     "execution_count": 26,
     "metadata": {},
     "output_type": "execute_result"
    }
   ],
   "source": [
    "np.mean(data), np.mean(data_2)"
   ]
  },
  {
   "cell_type": "markdown",
   "id": "f6d095f4-54d1-4cfd-90c8-f9ce8ec2b012",
   "metadata": {},
   "source": [
    "Середні значення за липень і серпень майже однакові."
   ]
  },
  {
   "cell_type": "code",
   "execution_count": 42,
   "id": "93162997-1800-4fbf-b6ca-595d28595ed7",
   "metadata": {
    "execution": {
     "iopub.execute_input": "2024-10-11T20:59:59.858525Z",
     "iopub.status.busy": "2024-10-11T20:59:59.858049Z",
     "iopub.status.idle": "2024-10-11T20:59:59.869769Z",
     "shell.execute_reply": "2024-10-11T20:59:59.868812Z",
     "shell.execute_reply.started": "2024-10-11T20:59:59.858488Z"
    }
   },
   "outputs": [],
   "source": [
    "z_test = ztest(data, data_2, value=0)\n",
    "p_value = z_test[1]"
   ]
  },
  {
   "cell_type": "code",
   "execution_count": 33,
   "id": "16d67e4b-b90b-4704-8988-c40d83bda073",
   "metadata": {
    "execution": {
     "iopub.execute_input": "2024-10-11T20:54:55.515254Z",
     "iopub.status.busy": "2024-10-11T20:54:55.514784Z",
     "iopub.status.idle": "2024-10-11T20:54:55.528940Z",
     "shell.execute_reply": "2024-10-11T20:54:55.528221Z",
     "shell.execute_reply.started": "2024-10-11T20:54:55.515218Z"
    }
   },
   "outputs": [
    {
     "name": "stdout",
     "output_type": "stream",
     "text": [
      "Н0 не може бути відхилена.\n"
     ]
    }
   ],
   "source": [
    "if(p_value <  alpha):\n",
    "    print(\"Відхилити Н0.\")\n",
    "else:\n",
    "    print(\"Н0 не може бути відхилена.\")"
   ]
  },
  {
   "cell_type": "markdown",
   "id": "78af68b2-b353-455f-b5bf-4b7a2e6605d8",
   "metadata": {},
   "source": [
    "Одже, середні значення у липні і серпні однакові."
   ]
  },
  {
   "cell_type": "code",
   "execution_count": null,
   "id": "17427a92-0d64-4698-a1cb-cece0f8c58a6",
   "metadata": {},
   "outputs": [],
   "source": []
  }
 ],
 "metadata": {
  "colab": {
   "provenance": []
  },
  "hide_input": false,
  "kernelspec": {
   "display_name": "Python (myenv)",
   "language": "python",
   "name": "myenv"
  },
  "language_info": {
   "codemirror_mode": {
    "name": "ipython",
    "version": 3
   },
   "file_extension": ".py",
   "mimetype": "text/x-python",
   "name": "python",
   "nbconvert_exporter": "python",
   "pygments_lexer": "ipython3",
   "version": "3.11.1"
  },
  "toc": {
   "base_numbering": 1,
   "nav_menu": {},
   "number_sections": true,
   "sideBar": true,
   "skip_h1_title": false,
   "title_cell": "Table of Contents",
   "title_sidebar": "Contents",
   "toc_cell": false,
   "toc_position": {},
   "toc_section_display": true,
   "toc_window_display": false
  },
  "varInspector": {
   "cols": {
    "lenName": 16,
    "lenType": 16,
    "lenVar": 40
   },
   "kernels_config": {
    "python": {
     "delete_cmd_postfix": "",
     "delete_cmd_prefix": "del ",
     "library": "var_list.py",
     "varRefreshCmd": "print(var_dic_list())"
    },
    "r": {
     "delete_cmd_postfix": ") ",
     "delete_cmd_prefix": "rm(",
     "library": "var_list.r",
     "varRefreshCmd": "cat(var_dic_list()) "
    }
   },
   "types_to_exclude": [
    "module",
    "function",
    "builtin_function_or_method",
    "instance",
    "_Feature"
   ],
   "window_display": false
  }
 },
 "nbformat": 4,
 "nbformat_minor": 5
}
